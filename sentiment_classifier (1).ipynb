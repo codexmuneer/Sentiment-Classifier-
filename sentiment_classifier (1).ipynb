{
  "cells": [
    {
      "cell_type": "code",
      "execution_count": 1,
      "metadata": {
        "colab": {
          "base_uri": "https://localhost:8080/"
        },
        "id": "pBR7YqKNZYs_",
        "outputId": "ca8e7320-7b6f-41f8-e05f-0e4d2e936436"
      },
      "outputs": [
        {
          "output_type": "stream",
          "name": "stderr",
          "text": [
            "[nltk_data] Downloading package stopwords to /root/nltk_data...\n",
            "[nltk_data]   Package stopwords is already up-to-date!\n",
            "[nltk_data] Downloading package punkt to /root/nltk_data...\n",
            "[nltk_data]   Package punkt is already up-to-date!\n",
            "[nltk_data] Downloading package wordnet to /root/nltk_data...\n",
            "[nltk_data]   Package wordnet is already up-to-date!\n"
          ]
        }
      ],
      "source": [
        "import pandas as pd\n",
        "import numpy as np\n",
        "import re\n",
        "import nltk\n",
        "nltk.download('stopwords')\n",
        "nltk.download('punkt')\n",
        "nltk.download('wordnet')\n",
        "from nltk.corpus import stopwords\n",
        "from nltk.stem.porter import *\n",
        "from sklearn.metrics import accuracy_score\n",
        "import matplotlib.pyplot as plt\n",
        "from sklearn.feature_extraction.text import TfidfVectorizer\n",
        "from sklearn import preprocessing\n",
        "from sklearn.naive_bayes import MultinomialNB\n",
        "from sklearn.metrics import accuracy_score\n",
        "from sklearn.metrics import classification_report\n",
        "from sklearn.svm import SVC\n",
        "from sklearn.feature_extraction.text import CountVectorizer\n",
        "from sklearn.feature_extraction.text import TfidfTransformer\n",
        "from sklearn.neighbors import KNeighborsClassifier\n",
        "from nltk.stem import WordNetLemmatizer\n",
        "import unicodedata\n",
        "import numpy as np\n",
        "\n",
        "\n",
        "  \n",
        "lemmatizer = WordNetLemmatizer()\n"
      ]
    },
    {
      "cell_type": "code",
      "execution_count": 2,
      "metadata": {
        "colab": {
          "base_uri": "https://localhost:8080/",
          "height": 206
        },
        "id": "1Z9_7JA1lXvW",
        "outputId": "9ea1f33f-cc34-48a0-9ba3-71c3089b9d1c"
      },
      "outputs": [
        {
          "output_type": "execute_result",
          "data": {
            "text/plain": [
              "                                      text_corrected overall_sentiment\n",
              "0  LOOK THERE MY FRIEND LIGHTYEAR NOW ALL SOHALIK...     very_positive\n",
              "1  The best of #10 YearChallenge! Completed in le...     very_positive\n",
              "2  Sam Thorne @Strippin ( Follow Follow Saw every...          positive\n",
              "3              10 Year Challenge - Sweet Dee Edition          positive\n",
              "4  10 YEAR CHALLENGE WITH NO FILTER 47 Hilarious ...           neutral"
            ],
            "text/html": [
              "\n",
              "  <div id=\"df-fe7120e5-0f45-4a0c-a43d-e0cf82b92c78\">\n",
              "    <div class=\"colab-df-container\">\n",
              "      <div>\n",
              "<style scoped>\n",
              "    .dataframe tbody tr th:only-of-type {\n",
              "        vertical-align: middle;\n",
              "    }\n",
              "\n",
              "    .dataframe tbody tr th {\n",
              "        vertical-align: top;\n",
              "    }\n",
              "\n",
              "    .dataframe thead th {\n",
              "        text-align: right;\n",
              "    }\n",
              "</style>\n",
              "<table border=\"1\" class=\"dataframe\">\n",
              "  <thead>\n",
              "    <tr style=\"text-align: right;\">\n",
              "      <th></th>\n",
              "      <th>text_corrected</th>\n",
              "      <th>overall_sentiment</th>\n",
              "    </tr>\n",
              "  </thead>\n",
              "  <tbody>\n",
              "    <tr>\n",
              "      <th>0</th>\n",
              "      <td>LOOK THERE MY FRIEND LIGHTYEAR NOW ALL SOHALIK...</td>\n",
              "      <td>very_positive</td>\n",
              "    </tr>\n",
              "    <tr>\n",
              "      <th>1</th>\n",
              "      <td>The best of #10 YearChallenge! Completed in le...</td>\n",
              "      <td>very_positive</td>\n",
              "    </tr>\n",
              "    <tr>\n",
              "      <th>2</th>\n",
              "      <td>Sam Thorne @Strippin ( Follow Follow Saw every...</td>\n",
              "      <td>positive</td>\n",
              "    </tr>\n",
              "    <tr>\n",
              "      <th>3</th>\n",
              "      <td>10 Year Challenge - Sweet Dee Edition</td>\n",
              "      <td>positive</td>\n",
              "    </tr>\n",
              "    <tr>\n",
              "      <th>4</th>\n",
              "      <td>10 YEAR CHALLENGE WITH NO FILTER 47 Hilarious ...</td>\n",
              "      <td>neutral</td>\n",
              "    </tr>\n",
              "  </tbody>\n",
              "</table>\n",
              "</div>\n",
              "      <button class=\"colab-df-convert\" onclick=\"convertToInteractive('df-fe7120e5-0f45-4a0c-a43d-e0cf82b92c78')\"\n",
              "              title=\"Convert this dataframe to an interactive table.\"\n",
              "              style=\"display:none;\">\n",
              "        \n",
              "  <svg xmlns=\"http://www.w3.org/2000/svg\" height=\"24px\"viewBox=\"0 0 24 24\"\n",
              "       width=\"24px\">\n",
              "    <path d=\"M0 0h24v24H0V0z\" fill=\"none\"/>\n",
              "    <path d=\"M18.56 5.44l.94 2.06.94-2.06 2.06-.94-2.06-.94-.94-2.06-.94 2.06-2.06.94zm-11 1L8.5 8.5l.94-2.06 2.06-.94-2.06-.94L8.5 2.5l-.94 2.06-2.06.94zm10 10l.94 2.06.94-2.06 2.06-.94-2.06-.94-.94-2.06-.94 2.06-2.06.94z\"/><path d=\"M17.41 7.96l-1.37-1.37c-.4-.4-.92-.59-1.43-.59-.52 0-1.04.2-1.43.59L10.3 9.45l-7.72 7.72c-.78.78-.78 2.05 0 2.83L4 21.41c.39.39.9.59 1.41.59.51 0 1.02-.2 1.41-.59l7.78-7.78 2.81-2.81c.8-.78.8-2.07 0-2.86zM5.41 20L4 18.59l7.72-7.72 1.47 1.35L5.41 20z\"/>\n",
              "  </svg>\n",
              "      </button>\n",
              "      \n",
              "  <style>\n",
              "    .colab-df-container {\n",
              "      display:flex;\n",
              "      flex-wrap:wrap;\n",
              "      gap: 12px;\n",
              "    }\n",
              "\n",
              "    .colab-df-convert {\n",
              "      background-color: #E8F0FE;\n",
              "      border: none;\n",
              "      border-radius: 50%;\n",
              "      cursor: pointer;\n",
              "      display: none;\n",
              "      fill: #1967D2;\n",
              "      height: 32px;\n",
              "      padding: 0 0 0 0;\n",
              "      width: 32px;\n",
              "    }\n",
              "\n",
              "    .colab-df-convert:hover {\n",
              "      background-color: #E2EBFA;\n",
              "      box-shadow: 0px 1px 2px rgba(60, 64, 67, 0.3), 0px 1px 3px 1px rgba(60, 64, 67, 0.15);\n",
              "      fill: #174EA6;\n",
              "    }\n",
              "\n",
              "    [theme=dark] .colab-df-convert {\n",
              "      background-color: #3B4455;\n",
              "      fill: #D2E3FC;\n",
              "    }\n",
              "\n",
              "    [theme=dark] .colab-df-convert:hover {\n",
              "      background-color: #434B5C;\n",
              "      box-shadow: 0px 1px 3px 1px rgba(0, 0, 0, 0.15);\n",
              "      filter: drop-shadow(0px 1px 2px rgba(0, 0, 0, 0.3));\n",
              "      fill: #FFFFFF;\n",
              "    }\n",
              "  </style>\n",
              "\n",
              "      <script>\n",
              "        const buttonEl =\n",
              "          document.querySelector('#df-fe7120e5-0f45-4a0c-a43d-e0cf82b92c78 button.colab-df-convert');\n",
              "        buttonEl.style.display =\n",
              "          google.colab.kernel.accessAllowed ? 'block' : 'none';\n",
              "\n",
              "        async function convertToInteractive(key) {\n",
              "          const element = document.querySelector('#df-fe7120e5-0f45-4a0c-a43d-e0cf82b92c78');\n",
              "          const dataTable =\n",
              "            await google.colab.kernel.invokeFunction('convertToInteractive',\n",
              "                                                     [key], {});\n",
              "          if (!dataTable) return;\n",
              "\n",
              "          const docLinkHtml = 'Like what you see? Visit the ' +\n",
              "            '<a target=\"_blank\" href=https://colab.research.google.com/notebooks/data_table.ipynb>data table notebook</a>'\n",
              "            + ' to learn more about interactive tables.';\n",
              "          element.innerHTML = '';\n",
              "          dataTable['output_type'] = 'display_data';\n",
              "          await google.colab.output.renderOutput(dataTable, element);\n",
              "          const docLink = document.createElement('div');\n",
              "          docLink.innerHTML = docLinkHtml;\n",
              "          element.appendChild(docLink);\n",
              "        }\n",
              "      </script>\n",
              "    </div>\n",
              "  </div>\n",
              "  "
            ]
          },
          "metadata": {},
          "execution_count": 2
        }
      ],
      "source": [
        "df=pd.read_csv(\"/content/drive/MyDrive/labels.csv\",  usecols = ['text_corrected','overall_sentiment'])\n",
        "df.head()"
      ]
    },
    {
      "cell_type": "code",
      "execution_count": 3,
      "metadata": {
        "id": "WGOghxT8WxPh"
      },
      "outputs": [],
      "source": [
        "df['overall_sentiment'] = df['overall_sentiment'].replace(['very_positive','very_negative'], ['positive','negative'])"
      ]
    },
    {
      "cell_type": "markdown",
      "source": [],
      "metadata": {
        "id": "PjNOon-43m_-"
      }
    },
    {
      "cell_type": "code",
      "execution_count": 4,
      "metadata": {
        "colab": {
          "base_uri": "https://localhost:8080/",
          "height": 423
        },
        "id": "I_Vmg1ToXjQW",
        "outputId": "d7c43bdc-a55e-4ade-cf48-e19d845b7b38"
      },
      "outputs": [
        {
          "output_type": "execute_result",
          "data": {
            "text/plain": [
              "                                         text_corrected overall_sentiment\n",
              "0     LOOK THERE MY FRIEND LIGHTYEAR NOW ALL SOHALIK...          positive\n",
              "1     The best of #10 YearChallenge! Completed in le...          positive\n",
              "2     Sam Thorne @Strippin ( Follow Follow Saw every...          positive\n",
              "3                 10 Year Challenge - Sweet Dee Edition          positive\n",
              "4     10 YEAR CHALLENGE WITH NO FILTER 47 Hilarious ...           neutral\n",
              "...                                                 ...               ...\n",
              "6987  Tuesday is Mardi Gras Wednesday is Valentine's...           neutral\n",
              "6988  MUST WATCH MOVIES OF 2017 ITI Chennai memes MA...           neutral\n",
              "6989  LESS MORE TALKING PLANNING SODA JUNK FOOD COMP...          positive\n",
              "6990  When I have time is a fantasy. no one has time...          positive\n",
              "6991  The starting point for every good idea is \"Wha...          positive\n",
              "\n",
              "[6992 rows x 2 columns]"
            ],
            "text/html": [
              "\n",
              "  <div id=\"df-08dd8652-8a9b-4e8c-b90e-90c71d6c1d31\">\n",
              "    <div class=\"colab-df-container\">\n",
              "      <div>\n",
              "<style scoped>\n",
              "    .dataframe tbody tr th:only-of-type {\n",
              "        vertical-align: middle;\n",
              "    }\n",
              "\n",
              "    .dataframe tbody tr th {\n",
              "        vertical-align: top;\n",
              "    }\n",
              "\n",
              "    .dataframe thead th {\n",
              "        text-align: right;\n",
              "    }\n",
              "</style>\n",
              "<table border=\"1\" class=\"dataframe\">\n",
              "  <thead>\n",
              "    <tr style=\"text-align: right;\">\n",
              "      <th></th>\n",
              "      <th>text_corrected</th>\n",
              "      <th>overall_sentiment</th>\n",
              "    </tr>\n",
              "  </thead>\n",
              "  <tbody>\n",
              "    <tr>\n",
              "      <th>0</th>\n",
              "      <td>LOOK THERE MY FRIEND LIGHTYEAR NOW ALL SOHALIK...</td>\n",
              "      <td>positive</td>\n",
              "    </tr>\n",
              "    <tr>\n",
              "      <th>1</th>\n",
              "      <td>The best of #10 YearChallenge! Completed in le...</td>\n",
              "      <td>positive</td>\n",
              "    </tr>\n",
              "    <tr>\n",
              "      <th>2</th>\n",
              "      <td>Sam Thorne @Strippin ( Follow Follow Saw every...</td>\n",
              "      <td>positive</td>\n",
              "    </tr>\n",
              "    <tr>\n",
              "      <th>3</th>\n",
              "      <td>10 Year Challenge - Sweet Dee Edition</td>\n",
              "      <td>positive</td>\n",
              "    </tr>\n",
              "    <tr>\n",
              "      <th>4</th>\n",
              "      <td>10 YEAR CHALLENGE WITH NO FILTER 47 Hilarious ...</td>\n",
              "      <td>neutral</td>\n",
              "    </tr>\n",
              "    <tr>\n",
              "      <th>...</th>\n",
              "      <td>...</td>\n",
              "      <td>...</td>\n",
              "    </tr>\n",
              "    <tr>\n",
              "      <th>6987</th>\n",
              "      <td>Tuesday is Mardi Gras Wednesday is Valentine's...</td>\n",
              "      <td>neutral</td>\n",
              "    </tr>\n",
              "    <tr>\n",
              "      <th>6988</th>\n",
              "      <td>MUST WATCH MOVIES OF 2017 ITI Chennai memes MA...</td>\n",
              "      <td>neutral</td>\n",
              "    </tr>\n",
              "    <tr>\n",
              "      <th>6989</th>\n",
              "      <td>LESS MORE TALKING PLANNING SODA JUNK FOOD COMP...</td>\n",
              "      <td>positive</td>\n",
              "    </tr>\n",
              "    <tr>\n",
              "      <th>6990</th>\n",
              "      <td>When I have time is a fantasy. no one has time...</td>\n",
              "      <td>positive</td>\n",
              "    </tr>\n",
              "    <tr>\n",
              "      <th>6991</th>\n",
              "      <td>The starting point for every good idea is \"Wha...</td>\n",
              "      <td>positive</td>\n",
              "    </tr>\n",
              "  </tbody>\n",
              "</table>\n",
              "<p>6992 rows × 2 columns</p>\n",
              "</div>\n",
              "      <button class=\"colab-df-convert\" onclick=\"convertToInteractive('df-08dd8652-8a9b-4e8c-b90e-90c71d6c1d31')\"\n",
              "              title=\"Convert this dataframe to an interactive table.\"\n",
              "              style=\"display:none;\">\n",
              "        \n",
              "  <svg xmlns=\"http://www.w3.org/2000/svg\" height=\"24px\"viewBox=\"0 0 24 24\"\n",
              "       width=\"24px\">\n",
              "    <path d=\"M0 0h24v24H0V0z\" fill=\"none\"/>\n",
              "    <path d=\"M18.56 5.44l.94 2.06.94-2.06 2.06-.94-2.06-.94-.94-2.06-.94 2.06-2.06.94zm-11 1L8.5 8.5l.94-2.06 2.06-.94-2.06-.94L8.5 2.5l-.94 2.06-2.06.94zm10 10l.94 2.06.94-2.06 2.06-.94-2.06-.94-.94-2.06-.94 2.06-2.06.94z\"/><path d=\"M17.41 7.96l-1.37-1.37c-.4-.4-.92-.59-1.43-.59-.52 0-1.04.2-1.43.59L10.3 9.45l-7.72 7.72c-.78.78-.78 2.05 0 2.83L4 21.41c.39.39.9.59 1.41.59.51 0 1.02-.2 1.41-.59l7.78-7.78 2.81-2.81c.8-.78.8-2.07 0-2.86zM5.41 20L4 18.59l7.72-7.72 1.47 1.35L5.41 20z\"/>\n",
              "  </svg>\n",
              "      </button>\n",
              "      \n",
              "  <style>\n",
              "    .colab-df-container {\n",
              "      display:flex;\n",
              "      flex-wrap:wrap;\n",
              "      gap: 12px;\n",
              "    }\n",
              "\n",
              "    .colab-df-convert {\n",
              "      background-color: #E8F0FE;\n",
              "      border: none;\n",
              "      border-radius: 50%;\n",
              "      cursor: pointer;\n",
              "      display: none;\n",
              "      fill: #1967D2;\n",
              "      height: 32px;\n",
              "      padding: 0 0 0 0;\n",
              "      width: 32px;\n",
              "    }\n",
              "\n",
              "    .colab-df-convert:hover {\n",
              "      background-color: #E2EBFA;\n",
              "      box-shadow: 0px 1px 2px rgba(60, 64, 67, 0.3), 0px 1px 3px 1px rgba(60, 64, 67, 0.15);\n",
              "      fill: #174EA6;\n",
              "    }\n",
              "\n",
              "    [theme=dark] .colab-df-convert {\n",
              "      background-color: #3B4455;\n",
              "      fill: #D2E3FC;\n",
              "    }\n",
              "\n",
              "    [theme=dark] .colab-df-convert:hover {\n",
              "      background-color: #434B5C;\n",
              "      box-shadow: 0px 1px 3px 1px rgba(0, 0, 0, 0.15);\n",
              "      filter: drop-shadow(0px 1px 2px rgba(0, 0, 0, 0.3));\n",
              "      fill: #FFFFFF;\n",
              "    }\n",
              "  </style>\n",
              "\n",
              "      <script>\n",
              "        const buttonEl =\n",
              "          document.querySelector('#df-08dd8652-8a9b-4e8c-b90e-90c71d6c1d31 button.colab-df-convert');\n",
              "        buttonEl.style.display =\n",
              "          google.colab.kernel.accessAllowed ? 'block' : 'none';\n",
              "\n",
              "        async function convertToInteractive(key) {\n",
              "          const element = document.querySelector('#df-08dd8652-8a9b-4e8c-b90e-90c71d6c1d31');\n",
              "          const dataTable =\n",
              "            await google.colab.kernel.invokeFunction('convertToInteractive',\n",
              "                                                     [key], {});\n",
              "          if (!dataTable) return;\n",
              "\n",
              "          const docLinkHtml = 'Like what you see? Visit the ' +\n",
              "            '<a target=\"_blank\" href=https://colab.research.google.com/notebooks/data_table.ipynb>data table notebook</a>'\n",
              "            + ' to learn more about interactive tables.';\n",
              "          element.innerHTML = '';\n",
              "          dataTable['output_type'] = 'display_data';\n",
              "          await google.colab.output.renderOutput(dataTable, element);\n",
              "          const docLink = document.createElement('div');\n",
              "          docLink.innerHTML = docLinkHtml;\n",
              "          element.appendChild(docLink);\n",
              "        }\n",
              "      </script>\n",
              "    </div>\n",
              "  </div>\n",
              "  "
            ]
          },
          "metadata": {},
          "execution_count": 4
        }
      ],
      "source": [
        "df"
      ]
    },
    {
      "cell_type": "code",
      "execution_count": 5,
      "metadata": {
        "colab": {
          "base_uri": "https://localhost:8080/"
        },
        "id": "UJxeOKhVlZWl",
        "outputId": "78c67023-586f-48bb-b41a-4da4bfa4e9a9"
      },
      "outputs": [
        {
          "output_type": "execute_result",
          "data": {
            "text/plain": [
              "(6992, 2)"
            ]
          },
          "metadata": {},
          "execution_count": 5
        }
      ],
      "source": [
        "df.shape"
      ]
    },
    {
      "cell_type": "code",
      "execution_count": 6,
      "metadata": {
        "colab": {
          "base_uri": "https://localhost:8080/"
        },
        "id": "1U30OY9UoOGl",
        "outputId": "5ac0171c-48a6-4138-faf9-ef05b4e72662"
      },
      "outputs": [
        {
          "output_type": "stream",
          "name": "stdout",
          "text": [
            "<class 'pandas.core.frame.DataFrame'>\n",
            "RangeIndex: 6992 entries, 0 to 6991\n",
            "Data columns (total 2 columns):\n",
            " #   Column             Non-Null Count  Dtype \n",
            "---  ------             --------------  ----- \n",
            " 0   text_corrected     6987 non-null   object\n",
            " 1   overall_sentiment  6992 non-null   object\n",
            "dtypes: object(2)\n",
            "memory usage: 109.4+ KB\n"
          ]
        }
      ],
      "source": [
        "df.info()"
      ]
    },
    {
      "cell_type": "code",
      "execution_count": 7,
      "metadata": {
        "colab": {
          "base_uri": "https://localhost:8080/"
        },
        "id": "ozXZok4V5kM_",
        "outputId": "99b44eb3-d8ef-4a20-d2cd-b508eb5c3ce7"
      },
      "outputs": [
        {
          "output_type": "execute_result",
          "data": {
            "text/plain": [
              "(6987, 2)"
            ]
          },
          "metadata": {},
          "execution_count": 7
        }
      ],
      "source": [
        "df.dropna(inplace = True)\n",
        "df.shape"
      ]
    },
    {
      "cell_type": "code",
      "execution_count": 8,
      "metadata": {
        "colab": {
          "base_uri": "https://localhost:8080/"
        },
        "id": "FbVrLej9t78x",
        "outputId": "ded79ace-10e7-41c5-fc70-e0c6c53f789e"
      },
      "outputs": [
        {
          "output_type": "execute_result",
          "data": {
            "text/plain": [
              "positive    4156\n",
              "neutral     2200\n",
              "negative     631\n",
              "Name: overall_sentiment, dtype: int64"
            ]
          },
          "metadata": {},
          "execution_count": 8
        }
      ],
      "source": [
        "sentiments=df['overall_sentiment'].value_counts()\n",
        "sentiments"
      ]
    },
    {
      "cell_type": "code",
      "execution_count": 9,
      "metadata": {
        "colab": {
          "base_uri": "https://localhost:8080/"
        },
        "id": "BxcmA32QGhMi",
        "outputId": "54e3dd6c-4ae9-4765-c770-0a645851056b"
      },
      "outputs": [
        {
          "output_type": "execute_result",
          "data": {
            "text/plain": [
              "text_corrected       0\n",
              "overall_sentiment    0\n",
              "dtype: int64"
            ]
          },
          "metadata": {},
          "execution_count": 9
        }
      ],
      "source": [
        "df.isnull().sum()"
      ]
    },
    {
      "cell_type": "code",
      "execution_count": 10,
      "metadata": {
        "colab": {
          "base_uri": "https://localhost:8080/",
          "height": 387
        },
        "id": "AgFwwSV9qpgq",
        "outputId": "7ea09315-ad61-443e-d360-aacb1c57577b"
      },
      "outputs": [
        {
          "output_type": "execute_result",
          "data": {
            "text/plain": [
              "<matplotlib.axes._subplots.AxesSubplot at 0x7f9e16a05940>"
            ]
          },
          "metadata": {},
          "execution_count": 10
        },
        {
          "output_type": "display_data",
          "data": {
            "text/plain": [
              "<Figure size 720x360 with 1 Axes>"
            ],
            "image/png": "[encoded data removed]"
          },
          "metadata": {
            "needs_background": "light"
          }
        }
      ],
      "source": [
        "sentiments=df['overall_sentiment'].value_counts().sort_index().plot(kind='bar',title=\"Count of sentiments\", figsize=(10,5))\n",
        "sentiments\n"
      ]
    },
    {
      "cell_type": "code",
      "source": [
        "df['label_values'] = df['overall_sentiment']\n",
        "df['label_values'] = df['label_values'].replace(['positive','negative','neutral'],[1,-1,0])"
      ],
      "metadata": {
        "id": "f7FQoZw7LKDh"
      },
      "execution_count": 11,
      "outputs": []
    },
    {
      "cell_type": "code",
      "source": [
        "df.head(10)"
      ],
      "metadata": {
        "colab": {
          "base_uri": "https://localhost:8080/",
          "height": 363
        },
        "id": "Al2f8eUZLfTX",
        "outputId": "7f074e9f-44e6-41ef-b5e9-8ece80acc885"
      },
      "execution_count": 12,
      "outputs": [
        {
          "output_type": "execute_result",
          "data": {
            "text/plain": [
              "                                      text_corrected overall_sentiment  \\\n",
              "0  LOOK THERE MY FRIEND LIGHTYEAR NOW ALL SOHALIK...          positive   \n",
              "1  The best of #10 YearChallenge! Completed in le...          positive   \n",
              "2  Sam Thorne @Strippin ( Follow Follow Saw every...          positive   \n",
              "3              10 Year Challenge - Sweet Dee Edition          positive   \n",
              "4  10 YEAR CHALLENGE WITH NO FILTER 47 Hilarious ...           neutral   \n",
              "5  1998: \"Don't get in car with strangers\" 2008: ...          negative   \n",
              "6  10 years challenge is lit af Üs & B erg 1945 1...          negative   \n",
              "7  10 Year Challenge emotional edition boredpanda...           neutral   \n",
              "8  Fornite died in 10 months but Minecraft never ...          positive   \n",
              "9  FACEBOOK '10 YEAR CHALLENGE': A PLOY OR A SIMP...          positive   \n",
              "\n",
              "   label_values  \n",
              "0             1  \n",
              "1             1  \n",
              "2             1  \n",
              "3             1  \n",
              "4             0  \n",
              "5            -1  \n",
              "6            -1  \n",
              "7             0  \n",
              "8             1  \n",
              "9             1  "
            ],
            "text/html": [
              "\n",
              "  <div id=\"df-e9deef92-7320-44fd-915e-ef8e51bc6b76\">\n",
              "    <div class=\"colab-df-container\">\n",
              "      <div>\n",
              "<style scoped>\n",
              "    .dataframe tbody tr th:only-of-type {\n",
              "        vertical-align: middle;\n",
              "    }\n",
              "\n",
              "    .dataframe tbody tr th {\n",
              "        vertical-align: top;\n",
              "    }\n",
              "\n",
              "    .dataframe thead th {\n",
              "        text-align: right;\n",
              "    }\n",
              "</style>\n",
              "<table border=\"1\" class=\"dataframe\">\n",
              "  <thead>\n",
              "    <tr style=\"text-align: right;\">\n",
              "      <th></th>\n",
              "      <th>text_corrected</th>\n",
              "      <th>overall_sentiment</th>\n",
              "      <th>label_values</th>\n",
              "    </tr>\n",
              "  </thead>\n",
              "  <tbody>\n",
              "    <tr>\n",
              "      <th>0</th>\n",
              "      <td>LOOK THERE MY FRIEND LIGHTYEAR NOW ALL SOHALIK...</td>\n",
              "      <td>positive</td>\n",
              "      <td>1</td>\n",
              "    </tr>\n",
              "    <tr>\n",
              "      <th>1</th>\n",
              "      <td>The best of #10 YearChallenge! Completed in le...</td>\n",
              "      <td>positive</td>\n",
              "      <td>1</td>\n",
              "    </tr>\n",
              "    <tr>\n",
              "      <th>2</th>\n",
              "      <td>Sam Thorne @Strippin ( Follow Follow Saw every...</td>\n",
              "      <td>positive</td>\n",
              "      <td>1</td>\n",
              "    </tr>\n",
              "    <tr>\n",
              "      <th>3</th>\n",
              "      <td>10 Year Challenge - Sweet Dee Edition</td>\n",
              "      <td>positive</td>\n",
              "      <td>1</td>\n",
              "    </tr>\n",
              "    <tr>\n",
              "      <th>4</th>\n",
              "      <td>10 YEAR CHALLENGE WITH NO FILTER 47 Hilarious ...</td>\n",
              "      <td>neutral</td>\n",
              "      <td>0</td>\n",
              "    </tr>\n",
              "    <tr>\n",
              "      <th>5</th>\n",
              "      <td>1998: \"Don't get in car with strangers\" 2008: ...</td>\n",
              "      <td>negative</td>\n",
              "      <td>-1</td>\n",
              "    </tr>\n",
              "    <tr>\n",
              "      <th>6</th>\n",
              "      <td>10 years challenge is lit af Üs &amp; B erg 1945 1...</td>\n",
              "      <td>negative</td>\n",
              "      <td>-1</td>\n",
              "    </tr>\n",
              "    <tr>\n",
              "      <th>7</th>\n",
              "      <td>10 Year Challenge emotional edition boredpanda...</td>\n",
              "      <td>neutral</td>\n",
              "      <td>0</td>\n",
              "    </tr>\n",
              "    <tr>\n",
              "      <th>8</th>\n",
              "      <td>Fornite died in 10 months but Minecraft never ...</td>\n",
              "      <td>positive</td>\n",
              "      <td>1</td>\n",
              "    </tr>\n",
              "    <tr>\n",
              "      <th>9</th>\n",
              "      <td>FACEBOOK '10 YEAR CHALLENGE': A PLOY OR A SIMP...</td>\n",
              "      <td>positive</td>\n",
              "      <td>1</td>\n",
              "    </tr>\n",
              "  </tbody>\n",
              "</table>\n",
              "</div>\n",
              "      <button class=\"colab-df-convert\" onclick=\"convertToInteractive('df-e9deef92-7320-44fd-915e-ef8e51bc6b76')\"\n",
              "              title=\"Convert this dataframe to an interactive table.\"\n",
              "              style=\"display:none;\">\n",
              "        \n",
              "  <svg xmlns=\"http://www.w3.org/2000/svg\" height=\"24px\"viewBox=\"0 0 24 24\"\n",
              "       width=\"24px\">\n",
              "    <path d=\"M0 0h24v24H0V0z\" fill=\"none\"/>\n",
              "    <path d=\"M18.56 5.44l.94 2.06.94-2.06 2.06-.94-2.06-.94-.94-2.06-.94 2.06-2.06.94zm-11 1L8.5 8.5l.94-2.06 2.06-.94-2.06-.94L8.5 2.5l-.94 2.06-2.06.94zm10 10l.94 2.06.94-2.06 2.06-.94-2.06-.94-.94-2.06-.94 2.06-2.06.94z\"/><path d=\"M17.41 7.96l-1.37-1.37c-.4-.4-.92-.59-1.43-.59-.52 0-1.04.2-1.43.59L10.3 9.45l-7.72 7.72c-.78.78-.78 2.05 0 2.83L4 21.41c.39.39.9.59 1.41.59.51 0 1.02-.2 1.41-.59l7.78-7.78 2.81-2.81c.8-.78.8-2.07 0-2.86zM5.41 20L4 18.59l7.72-7.72 1.47 1.35L5.41 20z\"/>\n",
              "  </svg>\n",
              "      </button>\n",
              "      \n",
              "  <style>\n",
              "    .colab-df-container {\n",
              "      display:flex;\n",
              "      flex-wrap:wrap;\n",
              "      gap: 12px;\n",
              "    }\n",
              "\n",
              "    .colab-df-convert {\n",
              "      background-color: #E8F0FE;\n",
              "      border: none;\n",
              "      border-radius: 50%;\n",
              "      cursor: pointer;\n",
              "      display: none;\n",
              "      fill: #1967D2;\n",
              "      height: 32px;\n",
              "      padding: 0 0 0 0;\n",
              "      width: 32px;\n",
              "    }\n",
              "\n",
              "    .colab-df-convert:hover {\n",
              "      background-color: #E2EBFA;\n",
              "      box-shadow: 0px 1px 2px rgba(60, 64, 67, 0.3), 0px 1px 3px 1px rgba(60, 64, 67, 0.15);\n",
              "      fill: #174EA6;\n",
              "    }\n",
              "\n",
              "    [theme=dark] .colab-df-convert {\n",
              "      background-color: #3B4455;\n",
              "      fill: #D2E3FC;\n",
              "    }\n",
              "\n",
              "    [theme=dark] .colab-df-convert:hover {\n",
              "      background-color: #434B5C;\n",
              "      box-shadow: 0px 1px 3px 1px rgba(0, 0, 0, 0.15);\n",
              "      filter: drop-shadow(0px 1px 2px rgba(0, 0, 0, 0.3));\n",
              "      fill: #FFFFFF;\n",
              "    }\n",
              "  </style>\n",
              "\n",
              "      <script>\n",
              "        const buttonEl =\n",
              "          document.querySelector('#df-e9deef92-7320-44fd-915e-ef8e51bc6b76 button.colab-df-convert');\n",
              "        buttonEl.style.display =\n",
              "          google.colab.kernel.accessAllowed ? 'block' : 'none';\n",
              "\n",
              "        async function convertToInteractive(key) {\n",
              "          const element = document.querySelector('#df-e9deef92-7320-44fd-915e-ef8e51bc6b76');\n",
              "          const dataTable =\n",
              "            await google.colab.kernel.invokeFunction('convertToInteractive',\n",
              "                                                     [key], {});\n",
              "          if (!dataTable) return;\n",
              "\n",
              "          const docLinkHtml = 'Like what you see? Visit the ' +\n",
              "            '<a target=\"_blank\" href=https://colab.research.google.com/notebooks/data_table.ipynb>data table notebook</a>'\n",
              "            + ' to learn more about interactive tables.';\n",
              "          element.innerHTML = '';\n",
              "          dataTable['output_type'] = 'display_data';\n",
              "          await google.colab.output.renderOutput(dataTable, element);\n",
              "          const docLink = document.createElement('div');\n",
              "          docLink.innerHTML = docLinkHtml;\n",
              "          element.appendChild(docLink);\n",
              "        }\n",
              "      </script>\n",
              "    </div>\n",
              "  </div>\n",
              "  "
            ]
          },
          "metadata": {},
          "execution_count": 12
        }
      ]
    },
    {
      "cell_type": "code",
      "source": [
        "df['label_values'].value_counts()"
      ],
      "metadata": {
        "colab": {
          "base_uri": "https://localhost:8080/"
        },
        "id": "aAmTFoTXNM79",
        "outputId": "f475851b-0653-4636-d6f3-843a10fb2c9a"
      },
      "execution_count": 13,
      "outputs": [
        {
          "output_type": "execute_result",
          "data": {
            "text/plain": [
              " 1    4156\n",
              " 0    2200\n",
              "-1     631\n",
              "Name: label_values, dtype: int64"
            ]
          },
          "metadata": {},
          "execution_count": 13
        }
      ]
    },
    {
      "cell_type": "code",
      "source": [
        "x = df\n",
        "y = df['label_values']"
      ],
      "metadata": {
        "id": "hRXREtbRw-Gn"
      },
      "execution_count": 14,
      "outputs": []
    },
    {
      "cell_type": "code",
      "source": [
        "from imblearn.over_sampling import RandomOverSampler\n",
        "from collections import Counter\n",
        "ros = RandomOverSampler(random_state=0)\n",
        "x_resampled, y_resampled = ros.fit_resample(x,y)\n",
        "print(sorted(Counter(y_resampled).items()),y_resampled.shape)"
      ],
      "metadata": {
        "colab": {
          "base_uri": "https://localhost:8080/"
        },
        "id": "lST_awt9tJIm",
        "outputId": "c88ff420-d75b-49ee-c0be-da73865284f2"
      },
      "execution_count": 15,
      "outputs": [
        {
          "output_type": "stream",
          "name": "stdout",
          "text": [
            "[(-1, 4156), (0, 4156), (1, 4156)] (12468,)\n"
          ]
        }
      ]
    },
    {
      "cell_type": "code",
      "source": [
        "x_resampled"
      ],
      "metadata": {
        "colab": {
          "base_uri": "https://localhost:8080/",
          "height": 423
        },
        "id": "ZVx3_gBByivi",
        "outputId": "b2b833ba-35b7-4f9d-f68b-50cd63ecec72"
      },
      "execution_count": 16,
      "outputs": [
        {
          "output_type": "execute_result",
          "data": {
            "text/plain": [
              "                                          text_corrected overall_sentiment  \\\n",
              "0      LOOK THERE MY FRIEND LIGHTYEAR NOW ALL SOHALIK...          positive   \n",
              "1      The best of #10 YearChallenge! Completed in le...          positive   \n",
              "2      Sam Thorne @Strippin ( Follow Follow Saw every...          positive   \n",
              "3                  10 Year Challenge - Sweet Dee Edition          positive   \n",
              "4      10 YEAR CHALLENGE WITH NO FILTER 47 Hilarious ...           neutral   \n",
              "...                                                  ...               ...   \n",
              "12463                Why are teh urflings looking at us?           neutral   \n",
              "12464  WHEN YOU ADD YOUR CRUSH AND SHE LIKES ALL YOUR...           neutral   \n",
              "12465                President Dr. Evil Trump a Deepfake           neutral   \n",
              "12466  ...What Are You Saying? I Was Making Coffee an...           neutral   \n",
              "12467  I DON'T MIND COMING TO WORK  BUT THIS EIGHT HO...           neutral   \n",
              "\n",
              "       label_values  \n",
              "0                 1  \n",
              "1                 1  \n",
              "2                 1  \n",
              "3                 1  \n",
              "4                 0  \n",
              "...             ...  \n",
              "12463             0  \n",
              "12464             0  \n",
              "12465             0  \n",
              "12466             0  \n",
              "12467             0  \n",
              "\n",
              "[12468 rows x 3 columns]"
            ],
            "text/html": [
              "\n",
              "  <div id=\"df-cde7b6be-d4b5-4c41-b954-0addf4b9ad52\">\n",
              "    <div class=\"colab-df-container\">\n",
              "      <div>\n",
              "<style scoped>\n",
              "    .dataframe tbody tr th:only-of-type {\n",
              "        vertical-align: middle;\n",
              "    }\n",
              "\n",
              "    .dataframe tbody tr th {\n",
              "        vertical-align: top;\n",
              "    }\n",
              "\n",
              "    .dataframe thead th {\n",
              "        text-align: right;\n",
              "    }\n",
              "</style>\n",
              "<table border=\"1\" class=\"dataframe\">\n",
              "  <thead>\n",
              "    <tr style=\"text-align: right;\">\n",
              "      <th></th>\n",
              "      <th>text_corrected</th>\n",
              "      <th>overall_sentiment</th>\n",
              "      <th>label_values</th>\n",
              "    </tr>\n",
              "  </thead>\n",
              "  <tbody>\n",
              "    <tr>\n",
              "      <th>0</th>\n",
              "      <td>LOOK THERE MY FRIEND LIGHTYEAR NOW ALL SOHALIK...</td>\n",
              "      <td>positive</td>\n",
              "      <td>1</td>\n",
              "    </tr>\n",
              "    <tr>\n",
              "      <th>1</th>\n",
              "      <td>The best of #10 YearChallenge! Completed in le...</td>\n",
              "      <td>positive</td>\n",
              "      <td>1</td>\n",
              "    </tr>\n",
              "    <tr>\n",
              "      <th>2</th>\n",
              "      <td>Sam Thorne @Strippin ( Follow Follow Saw every...</td>\n",
              "      <td>positive</td>\n",
              "      <td>1</td>\n",
              "    </tr>\n",
              "    <tr>\n",
              "      <th>3</th>\n",
              "      <td>10 Year Challenge - Sweet Dee Edition</td>\n",
              "      <td>positive</td>\n",
              "      <td>1</td>\n",
              "    </tr>\n",
              "    <tr>\n",
              "      <th>4</th>\n",
              "      <td>10 YEAR CHALLENGE WITH NO FILTER 47 Hilarious ...</td>\n",
              "      <td>neutral</td>\n",
              "      <td>0</td>\n",
              "    </tr>\n",
              "    <tr>\n",
              "      <th>...</th>\n",
              "      <td>...</td>\n",
              "      <td>...</td>\n",
              "      <td>...</td>\n",
              "    </tr>\n",
              "    <tr>\n",
              "      <th>12463</th>\n",
              "      <td>Why are teh urflings looking at us?</td>\n",
              "      <td>neutral</td>\n",
              "      <td>0</td>\n",
              "    </tr>\n",
              "    <tr>\n",
              "      <th>12464</th>\n",
              "      <td>WHEN YOU ADD YOUR CRUSH AND SHE LIKES ALL YOUR...</td>\n",
              "      <td>neutral</td>\n",
              "      <td>0</td>\n",
              "    </tr>\n",
              "    <tr>\n",
              "      <th>12465</th>\n",
              "      <td>President Dr. Evil Trump a Deepfake</td>\n",
              "      <td>neutral</td>\n",
              "      <td>0</td>\n",
              "    </tr>\n",
              "    <tr>\n",
              "      <th>12466</th>\n",
              "      <td>...What Are You Saying? I Was Making Coffee an...</td>\n",
              "      <td>neutral</td>\n",
              "      <td>0</td>\n",
              "    </tr>\n",
              "    <tr>\n",
              "      <th>12467</th>\n",
              "      <td>I DON'T MIND COMING TO WORK  BUT THIS EIGHT HO...</td>\n",
              "      <td>neutral</td>\n",
              "      <td>0</td>\n",
              "    </tr>\n",
              "  </tbody>\n",
              "</table>\n",
              "<p>12468 rows × 3 columns</p>\n",
              "</div>\n",
              "      <button class=\"colab-df-convert\" onclick=\"convertToInteractive('df-cde7b6be-d4b5-4c41-b954-0addf4b9ad52')\"\n",
              "              title=\"Convert this dataframe to an interactive table.\"\n",
              "              style=\"display:none;\">\n",
              "        \n",
              "  <svg xmlns=\"http://www.w3.org/2000/svg\" height=\"24px\"viewBox=\"0 0 24 24\"\n",
              "       width=\"24px\">\n",
              "    <path d=\"M0 0h24v24H0V0z\" fill=\"none\"/>\n",
              "    <path d=\"M18.56 5.44l.94 2.06.94-2.06 2.06-.94-2.06-.94-.94-2.06-.94 2.06-2.06.94zm-11 1L8.5 8.5l.94-2.06 2.06-.94-2.06-.94L8.5 2.5l-.94 2.06-2.06.94zm10 10l.94 2.06.94-2.06 2.06-.94-2.06-.94-.94-2.06-.94 2.06-2.06.94z\"/><path d=\"M17.41 7.96l-1.37-1.37c-.4-.4-.92-.59-1.43-.59-.52 0-1.04.2-1.43.59L10.3 9.45l-7.72 7.72c-.78.78-.78 2.05 0 2.83L4 21.41c.39.39.9.59 1.41.59.51 0 1.02-.2 1.41-.59l7.78-7.78 2.81-2.81c.8-.78.8-2.07 0-2.86zM5.41 20L4 18.59l7.72-7.72 1.47 1.35L5.41 20z\"/>\n",
              "  </svg>\n",
              "      </button>\n",
              "      \n",
              "  <style>\n",
              "    .colab-df-container {\n",
              "      display:flex;\n",
              "      flex-wrap:wrap;\n",
              "      gap: 12px;\n",
              "    }\n",
              "\n",
              "    .colab-df-convert {\n",
              "      background-color: #E8F0FE;\n",
              "      border: none;\n",
              "      border-radius: 50%;\n",
              "      cursor: pointer;\n",
              "      display: none;\n",
              "      fill: #1967D2;\n",
              "      height: 32px;\n",
              "      padding: 0 0 0 0;\n",
              "      width: 32px;\n",
              "    }\n",
              "\n",
              "    .colab-df-convert:hover {\n",
              "      background-color: #E2EBFA;\n",
              "      box-shadow: 0px 1px 2px rgba(60, 64, 67, 0.3), 0px 1px 3px 1px rgba(60, 64, 67, 0.15);\n",
              "      fill: #174EA6;\n",
              "    }\n",
              "\n",
              "    [theme=dark] .colab-df-convert {\n",
              "      background-color: #3B4455;\n",
              "      fill: #D2E3FC;\n",
              "    }\n",
              "\n",
              "    [theme=dark] .colab-df-convert:hover {\n",
              "      background-color: #434B5C;\n",
              "      box-shadow: 0px 1px 3px 1px rgba(0, 0, 0, 0.15);\n",
              "      filter: drop-shadow(0px 1px 2px rgba(0, 0, 0, 0.3));\n",
              "      fill: #FFFFFF;\n",
              "    }\n",
              "  </style>\n",
              "\n",
              "      <script>\n",
              "        const buttonEl =\n",
              "          document.querySelector('#df-cde7b6be-d4b5-4c41-b954-0addf4b9ad52 button.colab-df-convert');\n",
              "        buttonEl.style.display =\n",
              "          google.colab.kernel.accessAllowed ? 'block' : 'none';\n",
              "\n",
              "        async function convertToInteractive(key) {\n",
              "          const element = document.querySelector('#df-cde7b6be-d4b5-4c41-b954-0addf4b9ad52');\n",
              "          const dataTable =\n",
              "            await google.colab.kernel.invokeFunction('convertToInteractive',\n",
              "                                                     [key], {});\n",
              "          if (!dataTable) return;\n",
              "\n",
              "          const docLinkHtml = 'Like what you see? Visit the ' +\n",
              "            '<a target=\"_blank\" href=https://colab.research.google.com/notebooks/data_table.ipynb>data table notebook</a>'\n",
              "            + ' to learn more about interactive tables.';\n",
              "          element.innerHTML = '';\n",
              "          dataTable['output_type'] = 'display_data';\n",
              "          await google.colab.output.renderOutput(dataTable, element);\n",
              "          const docLink = document.createElement('div');\n",
              "          docLink.innerHTML = docLinkHtml;\n",
              "          element.appendChild(docLink);\n",
              "        }\n",
              "      </script>\n",
              "    </div>\n",
              "  </div>\n",
              "  "
            ]
          },
          "metadata": {},
          "execution_count": 16
        }
      ]
    },
    {
      "cell_type": "code",
      "source": [
        "y_resampled.value_counts()"
      ],
      "metadata": {
        "colab": {
          "base_uri": "https://localhost:8080/"
        },
        "id": "uiXdb3p9yBEX",
        "outputId": "c090148f-27a5-4567-b6c1-c224182976cd"
      },
      "execution_count": 17,
      "outputs": [
        {
          "output_type": "execute_result",
          "data": {
            "text/plain": [
              " 1    4156\n",
              " 0    4156\n",
              "-1    4156\n",
              "Name: label_values, dtype: int64"
            ]
          },
          "metadata": {},
          "execution_count": 17
        }
      ]
    },
    {
      "cell_type": "code",
      "source": [
        "# posCounts, neutCounts, negCounts = df.label_values.value_counts()\n",
        "\n",
        "# df_class_0 = df[df['label_values'] == 1]\n",
        "# df_class_1  = df[df['label_values'] == 0]\n",
        "# df_class_2  = df[df['label_values'] == -1]\n",
        "\n"
      ],
      "metadata": {
        "id": "4K3VEfnKWK0W"
      },
      "execution_count": 18,
      "outputs": []
    },
    {
      "cell_type": "code",
      "source": [
        "# Oversample 1-class and concat the DataFrames of both classes\n",
        "\n",
        "# df_sam1 = df_class_0.sample(negCounts,replace = True)\n",
        "# df_sam2 = df_class_1.sample(negCounts,replace = True)\n",
        "\n",
        "# df_test = pd.concat([df_sam1,df_sam2,df_class_2], axis = 0)\n",
        "\n",
        "\n",
        "# print('Random over-sampling:')\n",
        "# print(df_test.overall_sentiments.value_counts())"
      ],
      "metadata": {
        "id": "cAaqwXW0aDRE"
      },
      "execution_count": 19,
      "outputs": []
    },
    {
      "cell_type": "code",
      "execution_count": 20,
      "metadata": {
        "colab": {
          "base_uri": "https://localhost:8080/"
        },
        "id": "jjmn6_fyqZSX",
        "outputId": "51edf9ea-6ce1-4511-a93b-1b536c0719fc"
      },
      "outputs": [
        {
          "output_type": "stream",
          "name": "stderr",
          "text": [
            "[nltk_data] Downloading package omw-1.4 to /root/nltk_data...\n",
            "[nltk_data]   Package omw-1.4 is already up-to-date!\n"
          ]
        }
      ],
      "source": [
        "nltk.download('omw-1.4')\n",
        "stemmer=PorterStemmer()\n",
        "cleaned_text=[]\n",
        "text_list=x_resampled['text_corrected']\n",
        "text_list\n",
        "for word in text_list:\n",
        "  words=nltk.wordpunct_tokenize(str(word))\n",
        "  words=unicodedata.normalize('NFKD', str(words)).encode('ascii', 'ignore').decode('utf-8', 'ignore')\n",
        "  words=re.sub('[^a-zA-Z0-9]',\" \",str(words))\n",
        "  words=re.sub(r'[^a-zA-Z]', ' ', words)\n",
        "  words=re.sub(r\"RT[\\s]+\",\" \",str(words))\n",
        "  words=re.sub(r\"https?://\\S+|www\\.\\S+\",\"\",str(words))\n",
        "  words=re.sub(r'^\\s*|\\s\\s*', ' ', str(words))\n",
        "\n",
        "  words=words.lower()\n",
        "  words=nltk.word_tokenize(str(words))\n",
        "  words=[word for word in words if word not in set(stopwords.words('english'))]\n",
        "  words=[stemmer.stem(word) for word in words]\n",
        "  # words=[lemmatizer.lemmatize(word) for word in words]\n",
        "  words=\" \".join(words)\n",
        "  # print(words)\n",
        "  cleaned_text.append(words)\n",
        "  # break\n",
        "  "
      ]
    },
    {
      "cell_type": "code",
      "source": [
        "x_resampled"
      ],
      "metadata": {
        "colab": {
          "base_uri": "https://localhost:8080/",
          "height": 423
        },
        "id": "0zGUeutUoZjl",
        "outputId": "636622e2-3b33-4ff2-b670-878723a7bee1"
      },
      "execution_count": 21,
      "outputs": [
        {
          "output_type": "execute_result",
          "data": {
            "text/plain": [
              "                                          text_corrected overall_sentiment  \\\n",
              "0      LOOK THERE MY FRIEND LIGHTYEAR NOW ALL SOHALIK...          positive   \n",
              "1      The best of #10 YearChallenge! Completed in le...          positive   \n",
              "2      Sam Thorne @Strippin ( Follow Follow Saw every...          positive   \n",
              "3                  10 Year Challenge - Sweet Dee Edition          positive   \n",
              "4      10 YEAR CHALLENGE WITH NO FILTER 47 Hilarious ...           neutral   \n",
              "...                                                  ...               ...   \n",
              "12463                Why are teh urflings looking at us?           neutral   \n",
              "12464  WHEN YOU ADD YOUR CRUSH AND SHE LIKES ALL YOUR...           neutral   \n",
              "12465                President Dr. Evil Trump a Deepfake           neutral   \n",
              "12466  ...What Are You Saying? I Was Making Coffee an...           neutral   \n",
              "12467  I DON'T MIND COMING TO WORK  BUT THIS EIGHT HO...           neutral   \n",
              "\n",
              "       label_values  \n",
              "0                 1  \n",
              "1                 1  \n",
              "2                 1  \n",
              "3                 1  \n",
              "4                 0  \n",
              "...             ...  \n",
              "12463             0  \n",
              "12464             0  \n",
              "12465             0  \n",
              "12466             0  \n",
              "12467             0  \n",
              "\n",
              "[12468 rows x 3 columns]"
            ],
            "text/html": [
              "\n",
              "  <div id=\"df-b8277fe6-066c-464d-ad4d-b36db39f30da\">\n",
              "    <div class=\"colab-df-container\">\n",
              "      <div>\n",
              "<style scoped>\n",
              "    .dataframe tbody tr th:only-of-type {\n",
              "        vertical-align: middle;\n",
              "    }\n",
              "\n",
              "    .dataframe tbody tr th {\n",
              "        vertical-align: top;\n",
              "    }\n",
              "\n",
              "    .dataframe thead th {\n",
              "        text-align: right;\n",
              "    }\n",
              "</style>\n",
              "<table border=\"1\" class=\"dataframe\">\n",
              "  <thead>\n",
              "    <tr style=\"text-align: right;\">\n",
              "      <th></th>\n",
              "      <th>text_corrected</th>\n",
              "      <th>overall_sentiment</th>\n",
              "      <th>label_values</th>\n",
              "    </tr>\n",
              "  </thead>\n",
              "  <tbody>\n",
              "    <tr>\n",
              "      <th>0</th>\n",
              "      <td>LOOK THERE MY FRIEND LIGHTYEAR NOW ALL SOHALIK...</td>\n",
              "      <td>positive</td>\n",
              "      <td>1</td>\n",
              "    </tr>\n",
              "    <tr>\n",
              "      <th>1</th>\n",
              "      <td>The best of #10 YearChallenge! Completed in le...</td>\n",
              "      <td>positive</td>\n",
              "      <td>1</td>\n",
              "    </tr>\n",
              "    <tr>\n",
              "      <th>2</th>\n",
              "      <td>Sam Thorne @Strippin ( Follow Follow Saw every...</td>\n",
              "      <td>positive</td>\n",
              "      <td>1</td>\n",
              "    </tr>\n",
              "    <tr>\n",
              "      <th>3</th>\n",
              "      <td>10 Year Challenge - Sweet Dee Edition</td>\n",
              "      <td>positive</td>\n",
              "      <td>1</td>\n",
              "    </tr>\n",
              "    <tr>\n",
              "      <th>4</th>\n",
              "      <td>10 YEAR CHALLENGE WITH NO FILTER 47 Hilarious ...</td>\n",
              "      <td>neutral</td>\n",
              "      <td>0</td>\n",
              "    </tr>\n",
              "    <tr>\n",
              "      <th>...</th>\n",
              "      <td>...</td>\n",
              "      <td>...</td>\n",
              "      <td>...</td>\n",
              "    </tr>\n",
              "    <tr>\n",
              "      <th>12463</th>\n",
              "      <td>Why are teh urflings looking at us?</td>\n",
              "      <td>neutral</td>\n",
              "      <td>0</td>\n",
              "    </tr>\n",
              "    <tr>\n",
              "      <th>12464</th>\n",
              "      <td>WHEN YOU ADD YOUR CRUSH AND SHE LIKES ALL YOUR...</td>\n",
              "      <td>neutral</td>\n",
              "      <td>0</td>\n",
              "    </tr>\n",
              "    <tr>\n",
              "      <th>12465</th>\n",
              "      <td>President Dr. Evil Trump a Deepfake</td>\n",
              "      <td>neutral</td>\n",
              "      <td>0</td>\n",
              "    </tr>\n",
              "    <tr>\n",
              "      <th>12466</th>\n",
              "      <td>...What Are You Saying? I Was Making Coffee an...</td>\n",
              "      <td>neutral</td>\n",
              "      <td>0</td>\n",
              "    </tr>\n",
              "    <tr>\n",
              "      <th>12467</th>\n",
              "      <td>I DON'T MIND COMING TO WORK  BUT THIS EIGHT HO...</td>\n",
              "      <td>neutral</td>\n",
              "      <td>0</td>\n",
              "    </tr>\n",
              "  </tbody>\n",
              "</table>\n",
              "<p>12468 rows × 3 columns</p>\n",
              "</div>\n",
              "      <button class=\"colab-df-convert\" onclick=\"convertToInteractive('df-b8277fe6-066c-464d-ad4d-b36db39f30da')\"\n",
              "              title=\"Convert this dataframe to an interactive table.\"\n",
              "              style=\"display:none;\">\n",
              "        \n",
              "  <svg xmlns=\"http://www.w3.org/2000/svg\" height=\"24px\"viewBox=\"0 0 24 24\"\n",
              "       width=\"24px\">\n",
              "    <path d=\"M0 0h24v24H0V0z\" fill=\"none\"/>\n",
              "    <path d=\"M18.56 5.44l.94 2.06.94-2.06 2.06-.94-2.06-.94-.94-2.06-.94 2.06-2.06.94zm-11 1L8.5 8.5l.94-2.06 2.06-.94-2.06-.94L8.5 2.5l-.94 2.06-2.06.94zm10 10l.94 2.06.94-2.06 2.06-.94-2.06-.94-.94-2.06-.94 2.06-2.06.94z\"/><path d=\"M17.41 7.96l-1.37-1.37c-.4-.4-.92-.59-1.43-.59-.52 0-1.04.2-1.43.59L10.3 9.45l-7.72 7.72c-.78.78-.78 2.05 0 2.83L4 21.41c.39.39.9.59 1.41.59.51 0 1.02-.2 1.41-.59l7.78-7.78 2.81-2.81c.8-.78.8-2.07 0-2.86zM5.41 20L4 18.59l7.72-7.72 1.47 1.35L5.41 20z\"/>\n",
              "  </svg>\n",
              "      </button>\n",
              "      \n",
              "  <style>\n",
              "    .colab-df-container {\n",
              "      display:flex;\n",
              "      flex-wrap:wrap;\n",
              "      gap: 12px;\n",
              "    }\n",
              "\n",
              "    .colab-df-convert {\n",
              "      background-color: #E8F0FE;\n",
              "      border: none;\n",
              "      border-radius: 50%;\n",
              "      cursor: pointer;\n",
              "      display: none;\n",
              "      fill: #1967D2;\n",
              "      height: 32px;\n",
              "      padding: 0 0 0 0;\n",
              "      width: 32px;\n",
              "    }\n",
              "\n",
              "    .colab-df-convert:hover {\n",
              "      background-color: #E2EBFA;\n",
              "      box-shadow: 0px 1px 2px rgba(60, 64, 67, 0.3), 0px 1px 3px 1px rgba(60, 64, 67, 0.15);\n",
              "      fill: #174EA6;\n",
              "    }\n",
              "\n",
              "    [theme=dark] .colab-df-convert {\n",
              "      background-color: #3B4455;\n",
              "      fill: #D2E3FC;\n",
              "    }\n",
              "\n",
              "    [theme=dark] .colab-df-convert:hover {\n",
              "      background-color: #434B5C;\n",
              "      box-shadow: 0px 1px 3px 1px rgba(0, 0, 0, 0.15);\n",
              "      filter: drop-shadow(0px 1px 2px rgba(0, 0, 0, 0.3));\n",
              "      fill: #FFFFFF;\n",
              "    }\n",
              "  </style>\n",
              "\n",
              "      <script>\n",
              "        const buttonEl =\n",
              "          document.querySelector('#df-b8277fe6-066c-464d-ad4d-b36db39f30da button.colab-df-convert');\n",
              "        buttonEl.style.display =\n",
              "          google.colab.kernel.accessAllowed ? 'block' : 'none';\n",
              "\n",
              "        async function convertToInteractive(key) {\n",
              "          const element = document.querySelector('#df-b8277fe6-066c-464d-ad4d-b36db39f30da');\n",
              "          const dataTable =\n",
              "            await google.colab.kernel.invokeFunction('convertToInteractive',\n",
              "                                                     [key], {});\n",
              "          if (!dataTable) return;\n",
              "\n",
              "          const docLinkHtml = 'Like what you see? Visit the ' +\n",
              "            '<a target=\"_blank\" href=https://colab.research.google.com/notebooks/data_table.ipynb>data table notebook</a>'\n",
              "            + ' to learn more about interactive tables.';\n",
              "          element.innerHTML = '';\n",
              "          dataTable['output_type'] = 'display_data';\n",
              "          await google.colab.output.renderOutput(dataTable, element);\n",
              "          const docLink = document.createElement('div');\n",
              "          docLink.innerHTML = docLinkHtml;\n",
              "          element.appendChild(docLink);\n",
              "        }\n",
              "      </script>\n",
              "    </div>\n",
              "  </div>\n",
              "  "
            ]
          },
          "metadata": {},
          "execution_count": 21
        }
      ]
    },
    {
      "cell_type": "code",
      "source": [],
      "metadata": {
        "id": "qwq4dAYR5SnX"
      },
      "execution_count": 21,
      "outputs": []
    },
    {
      "cell_type": "code",
      "execution_count": 22,
      "metadata": {
        "colab": {
          "base_uri": "https://localhost:8080/"
        },
        "id": "T2IEJ2j2OV16",
        "outputId": "7bb01b32-a7e3-4e36-9dae-f585e7a67c57"
      },
      "outputs": [
        {
          "output_type": "stream",
          "name": "stdout",
          "text": [
            "{'look': 5083, 'friend': 3184, 'lightyear': 4992, 'sohalikut': 7967, 'trend': 8854, 'play': 6577, 'year': 9704, 'challeng': 1384, 'facebook': 2830, 'imgflip': 4163, 'com': 1654, 'best': 823, 'yearchalleng': 9705, 'complet': 1695, 'less': 4937, 'kudu': 4777, 'narendramodi': 5822, 'ji': 4521, 'pm': 6598, 'jan': 4470, 'mumbai': 5755, 'india': 4228, 'sam': 7453, 'thorn': 8672, 'strippin': 8261, 'follow': 3077, 'saw': 7506, 'everyon': 2752, 'post': 6672, 'vs': 9304, 'pic': 6523, 'mine': 5558, 'retweet': 7214, 'like': 4995, 'sweet': 8387, 'dee': 2106, 'edit': 2554, 'filter': 2986, 'hilari': 3863, 'meme': 5396, 'get': 3380, 'car': 1273, 'stranger': 8243, 'meet': 5373, 'peopl': 6443, 'internet': 4335, 'alon': 231, 'memecent': 5404, 'uber': 8990, 'order': 6209, 'lit': 5024, 'af': 122, 'us': 9140, 'erg': 2694, 'wow': 9626, 'transform': 8831, 'emot': 2626, 'boredpanda': 1001, 'fornit': 3113, 'die': 2248, 'month': 5665, 'minecraft': 5559, 'never': 5904, 'proud': 6823, 'commun': 1686, 'ploy': 6594, 'simpl': 7809, 'mo': 5619, 'exo': 2787, 'ha': 3635, 'minh': 5562, 'le': 4876, 'probabl': 6770, 'first': 3007, 'man': 5232, 'chennai': 1447, 'pasanga': 6362, 'da': 1976, 'state': 8182, 'dine': 2272, 'room': 7343, 'white': 9487, 'hous': 3983, 'kind': 4709, 'went': 9438, 'futur': 3273, 'instead': 4307, 'back': 609, 'instant': 4305, 'regret': 7118, 'ifidownloada': 4101, 'movi': 5718, 'jamaica': 4466, 'ami': 267, 'pirat': 6554, 'caribbean': 1286, 'pick': 6526, 'food': 3084, 'floor': 3054, 'sec': 7585, 'bacteria': 618, 'angri': 321, 'fuck': 3212, 'anti': 352, 'vaxx': 9189, 'kid': 4691, 'see': 7595, 'someon': 7991, 'time': 8714, 'someth': 7992, 'acknowledg': 64, 'wakeup': 9325, 'read': 7036, 'messag': 5487, 'sent': 7637, 'actual': 78, 'famili': 2864, 'member': 5394, 'drunk': 2471, 'latest': 4848, 'realiz': 7049, 'lost': 5095, 'game': 3297, 'decid': 2095, 'want': 9341, 'spoiler': 8091, 'aveng': 565, 'infin': 4250, 'war': 9344, 'thano': 8567, 'demand': 2144, 'silenc': 7799, 'ig': 4110, 'dushrox': 2507, 'rememb': 7153, 'feel': 2926, 'old': 6136, 'yet': 9713, 'hulk': 4015, 'right': 7264, 'charact': 1408, 'femal': 2942, 'work': 9604, 'forc': 3094, 'sound': 8023, 'great': 3550, 'would': 9621, 'fight': 2974, 'armi': 435, 'got': 3500, 'ta': 8410, 'jar': 4477, 'dirt': 2287, 'awesom': 581, 'pictur': 6531, 'themetapictur': 8608, 'languag': 4828, 'realli': 7051, 'blerd': 925, 'vision': 9264, 'becom': 752, 'later': 4847, 'suck': 8307, 'snap': 7922, 'also': 239, 'claim': 1556, 'captain': 1269, 'beard': 740, 'wonder': 9590, 'call': 1217, 'hawkey': 3755, 'lord': 5090, 'goku': 3467, 'vegeta': 9195, 'everi': 2749, 'alreadi': 235, 'know': 4746, 'vers': 9208, 'understood': 9045, 'refer': 7102, 'dank': 2015, 'funni': 3241, 'hey': 3840, 'peter': 6482, 'new': 5910, 'well': 9431, 'oh': 6112, 'good': 3483, 'underoo': 9043, 'spider': 8075, 'next': 5916, 'soni': 7999, 'memecr': 5410, 'tell': 8508, 'much': 5736, 'go': 3452, 'avoid': 572, 'coulson': 1818, 'thor': 8671, 'loki': 5063, 'cap': 1259, 'furi': 3265, 'civil': 1550, 'rhodey': 7240, 'groh': 3578, 'nevermind': 5905, 'age': 140, 'ultron': 9014, 'quicksilv': 6940, 'ifunni': 4108, 'co': 1612, 'end': 2641, 'still': 8219, 'watch': 9363, 'memegener': 5421, 'net': 5895, 'wait': 9319, 'marvel': 5296, 'screen': 7561, 'ladi': 4808, 'carol': 1292, 'danver': 2021, 'endgam': 2643, 'ah': 155, 'said': 7439, 'name': 5812, 'plot': 6593, 'info': 4255, 'action': 71, 'appear': 386, 'big': 860, 'surpris': 8361, 'titl': 8733, 'reveal': 7219, 'one': 6170, 'fan': 2867, 'guess': 3605, 'liter': 5025, 'amount': 276, 'trailer': 8824, 'come': 1662, 'leak': 4882, 'scene': 7535, 'thought': 8674, 'gon': 3477, 'na': 5799, 'save': 7502, 'univers': 9080, 'curs': 1955, 'knowledg': 4748, 'seen': 7601, 'vaibhav': 9174, 'lamevaibhav': 4820, 'join': 4551, 'twitter': 8974, 'start': 8170, 'tweet': 8961, 'think': 8659, 'keep': 4660, 'parti': 6352, 'low': 5120, 'key': 4676, 'mornin': 5687, 'seem': 7600, 'differ': 2255, 'pretti': 6740, 'stark': 8168, 'roger': 7325, 'america': 263, 'date': 2041, 'volunt': 9293, 'hypocrici': 4047, 'ki': 4688, 'koi': 4755, 'sima': 7805, 'hoti': 3976, 'hai': 3653, 'bhalobhno': 846, 'okay': 6125, 'explos': 2803, 'invad': 4355, 'asgard': 470, 'true': 8897, 'bullshit': 1156, 'naaaaawt': 5800, 'hi': 3846, 'serious': 7651, 'took': 8786, 'stop': 8232, 'alien': 207, 'invas': 4357, 'technic': 8489, 'two': 8975, 'four': 3133, 'contain': 1750, 'destruct': 2199, 'citi': 1547, 'block': 934, 'human': 4017, 'live': 5030, 'damag': 1996, 'caus': 1331, 'way': 9377, 'break': 1055, 'offici': 6098, 'hour': 3982, 'import': 4191, 'though': 8673, 'comic': 1672, 'book': 992, 'thing': 8657, 'deadpool': 2068, 'cold': 1632, 'aye': 588, 'blo': 933, 'visu': 9269, 'bottom': 1016, 'theblerdvis': 8587, 'say': 7508, 'love': 5113, 'black': 912, 'panther': 6325, 'nice': 5928, 'final': 2988, 'superheroin': 8336, 'winter': 9548, 'soldier': 7974, 'inspiringmarv': 4290, 'zenitu': 9767, 'crew': 1882, 'school': 7540, 'hate': 3736, 'earli': 2525, 'creat': 1871, 'put': 6892, 'front': 3200, 'page': 6299, 'quickmem': 6936, 'iron': 4381, 'wear': 9393, 'mask': 5305, 'hero': 3830, 'battl': 712, 'need': 5862, 'help': 3815, 'walk': 9329, 'bullet': 1152, 'eh': 2574, 'sit': 7835, 'hit': 3892, 'hang': 3681, 'ur': 9132, 'bud': 1130, 'alcohol': 198, 'weed': 9409, 'potato': 6679, 'chip': 1479, 'tortilla': 8797, 'nobodi': 5969, 'rat': 7015, 'th': 8556, 'centuri': 1362, 'inevit': 4245, 'dad': 1978, 'stone': 8230, 'half': 3664, 'gone': 3480, 'theater': 8581, 'coincid': 1630, 'happi': 3693, 'birthday': 898, 'jame': 4468, 'marsden': 5286, 'avengersmem': 566, 'turn': 8944, 'today': 8748, 'enter': 2662, 'ass': 486, 'fallen': 2860, 'david': 2049, 'itsdxvid': 4430, 'real': 7041, 'reason': 7058, 'move': 5716, 'forward': 3121, 'give': 3429, 'person': 6475, 'god': 3455, 'believ': 786, 'ironman': 4383, 'take': 8421, 'dig': 2260, 'spiderman': 8076, 'might': 5525, 'download': 2426, 'wrong': 9643, 'anyth': 365, 'happen': 3690, 'kill': 4700, 'win': 9536, 'earth': 2528, 'mightiest': 5527, 'grape': 3536, 'string': 8258, 'femaleship': 2943, 'kthink': 4776, 'gandalf': 3306, 'meant': 5358, 'secret': 7588, 'alway': 245, 'hungri': 4033, 'prepar': 6728, 'death': 2075, 'toni': 8779, 'parker': 6346, 'protec': 6817, 'attac': 520, 'importantli': 4192, 'ran': 7001, 'snac': 7918, 'care': 1281, 'spidey': 8077, 'via': 9220, 'shield': 7726, 'realis': 7046, 'releas': 7141, 'caveng': 1334, 'super': 8333, 'ask': 478, 'ye': 9700, 'liar': 4963, 'lock': 5055, 'condom': 1716, 'arrow': 448, 'dontown': 2401, 'open': 6188, 'reed': 7099, 'toast': 8745, 'bread': 1054, 'dont': 2396, 'toaster': 8746, 'tve': 8954, 'fine': 2993, 'sign': 7795, 'pathet': 6377, 'mortal': 5693, 'expert': 2797, 'thermonuclear': 8634, 'astrophys': 503, 'last': 4843, 'night': 5947, 'adet': 93, 'sacr': 7422, 'congratul': 1729, 'adopt': 104, 'memebas': 5399, 'day': 2054, 'poopcultureindia': 6643, 'sex': 7669, 'tape': 8443, 'pci': 6408, 'normi': 5999, 'reeeeeeeeeeeeeee': 7100, 'men': 5458, 'rush': 7399, 'money': 5655, 'babi': 600, 'godfath': 3459, 'eat': 2535, 'dick': 2241, 'girl': 3420, 'stole': 8226, 'juic': 4594, 'box': 1029, 'son': 7997, 'bitch': 901, 'told': 8762, 'meit': 5385, 'nap': 5817, 'nose': 6005, 'bleed': 923, 'judg': 4588, 'slow': 7885, 'women': 9588, 'hmm': 3900, 'bad': 619, 'may': 5337, 'second': 7586, 'child': 1463, 'masculin': 5303, 'mean': 5356, 'spoon': 8103, 'airplan': 170, 'jack': 4446, 'jillon': 4523, 'turf': 8941, 'find': 2990, 'tooth': 8788, 'fairi': 2850, 'make': 5204, 'bring': 1080, 'accid': 47, 'everytim': 2755, 'almost': 230, 'juicebox': 4595, 'littl': 5027, 'poni': 6637, 'peeraboo': 6426, 'head': 3766, 'crib': 1884, 'bastard': 705, 'arrang': 443, 'five': 3021, 'chompfath': 1489, 'trigger': 8868, 'cradl': 1853, 'rock': 7308, 'treetop': 8850, 'hear': 3777, 'fuuuu': 3276, 'shower': 7765, 'sink': 7826, 'job': 4534, 'gtfo': 3598, 'center': 1358, 'brake': 1045, 'leas': 4888, 'face': 2828, 'even': 2745, 'father': 2898, 'heck': 3791, 'lmao': 5042, 'petti': 6487, 'savag': 7500, 'bruh': 1108, 'nochillzon': 5971, 'nochil': 5970, 'babyshow': 604, 'niggasbelik': 5945, 'dudesbelik': 2484, 'belik': 787, 'followm': 3079, 'followforfollow': 3078, 'drink': 2457, 'water': 9367, 'gener': 3362, 'fat': 2894, 'list': 5021, 'pleasur': 6586, 'santa': 7472, 'naughti': 5833, 'shut': 7777, 'lasteri': 4844, 'motherfuck': 5704, 'dumbass': 2493, 'accord': 53, 'birth': 897, 'st': 8140, 'einstien': 2579, 'video': 9231, 'nd': 5846, 'nick': 5931, 'jr': 4583, 'rd': 7030, 'current': 1953, 'outnumb': 6255, 'mother': 5702, 'sayin': 7511, 'ninja': 5955, 'machet': 5163, 'offer': 6093, 'refus': 7109, 'clean': 1570, 'underworld': 9050, 'continu': 1754, 'challang': 1383, 'sgotbeaten': 7676, 'mafia': 5177, 'interest': 4327, 'squid': 8127, 'trust': 8905, 'teeth': 8502, 'bite': 904, 'tongu': 8778, 'act': 70, 'speak': 8052, 'spanish': 8043, 'mexican': 5497, 'kept': 4671, 'cool': 1771, 'coolo': 1775, 'learn': 4885, 'figur': 2976, 'ridicul': 7261, 'photogen': 6513, 'guy': 3628, 'accept': 44, 'ted': 8494, 'stare': 8165, 'boob': 990, 'defens': 2116, 'talk': 8426, 'woman': 9584, 'gotten': 3506, 'barney': 684, 'stinson': 8223, 'commit': 1682, 'narnia': 5824, 'forev': 3100, 'imagin': 4144, 'bachelor': 607, 'plan': 6570, 'simpli': 7811, 'mordor': 5679, 'memedroid': 5413, 'marri': 5283, 'robin': 7304, 'societi': 7953, 'camera': 1229, 'swag': 8375, 'boy': 1030, 'class': 1561, 'stori': 8236, 'roflrazz': 7321, 'text': 8549, 'hhowimetyow': 3845, 'eoit': 2674, 'gr': 3517, 'lare': 4833, 'engag': 2652, 'found': 3129, 'request': 7184, 'karthik': 4644, 'keyi': 4678, 'sad': 7426, 'sta': 8141, 'sometim': 7994, 'wish': 9557, 'everybodi': 2750, 'could': 1816, 'barneystinson': 685, 'himymquot': 3874, 'himym': 3873, 'howimetyourmoth': 3991, 'hot': 3973, 'crazi': 1864, 'ny': 6045, 'life': 4977, 'lifeisgood': 4981, 'tedmosbi': 8496, 'marshalleriksen': 5287, 'lilyaldrin': 4999, 'robinscherbatski': 7305, 'total': 8801, 'harri': 3713, 'potter': 6682, 'line': 5007, 'vitamin': 9272, 'heard': 3778, 'platform': 6576, 'els': 2609, 'exact': 2767, 'sane': 7465, 'measur': 5360, 'girlfriend': 3422, 'stripper': 8260, 'ostwa': 6230, 'chowalbo': 1499, 'drawn': 2446, 'tabl': 8412, 'awkward': 584, 'moment': 5645, 'singl': 7825, 'group': 3585, 'salut': 7451, 'high': 3852, 'smurf': 7916, 'shit': 7733, 'sourc': 8027, 'okc': 6127, 'million': 5548, 'deal': 2070, 'replac': 7168, 'kevin': 4675, 'durant': 2506, 'without': 9565, 'aweso': 580, 'rule': 7386, 'better': 834, 'suit': 8318, 'tonight': 8780, 'legendari': 4912, 'document': 2356, 'number': 6037, 'noth': 6009, 'photoshop': 6517, 'cant': 1252, 'fix': 3023, 'annual': 337, 'declar': 2099, 'quot': 6953, 'dump': 2496, 'porn': 6659, 'star': 8163, 'friendship': 3189, 'powerbar': 6692, 'hand': 3672, 'fuel': 3223, 'mom': 5641, 'met': 5489, 'yeah': 9702, 'introduc': 4352, 'legend': 4911, 'hope': 3958, 'lactos': 4804, 'intoler': 4349, 'word': 9602, 'dairi': 1990, 'season': 7578, 'show': 7764, 'doogi': 2404, 'houser': 3985, 'lie': 4973, 'everyth': 2753, 'classic': 1563, 'justeguot': 4614, 'unless': 9085, 'batman': 710, 'wiam': 9508, 'bang': 661, 'supermodel': 8342, 'close': 1591, 'eye': 2820, 'pretend': 6739, 'glow': 3447, 'dark': 2027, 'swarkl': 8378, 'offic': 6095, 'comment': 1678, 'chick': 1457, 'marijuana': 5272, 'indec': 4224, 'memetentera': 5448, 'ruin': 7385, 'truth': 8906, 'born': 1005, 'simon': 7808, 'screw': 7564, 'whose': 9501, 'team': 8480, 'dynam': 2519, 'uno': 9092, 'whaaaaat': 9453, 'http': 4002, 'eta': 2727, 'glcwb': 3437, 'agre': 151, 'mr': 5724, 'mime': 5555, 'barrier': 691, 'pokemon': 6621, 'known': 4750, 'wall': 9331, 'silli': 7802, 'hair': 3655, 'bean': 736, 'scienc': 7543, 'experi': 2795, 'whaaaaaaaat': 9452, 'iwasnt': 4441, 'listen': 5022, 'teacher': 8477, 'partner': 6358, 'noob': 5989, 'beginn': 772, 'pro': 6769, 'beant': 738, 'asian': 475, 'borrow': 1007, 'lighter': 4989, 'away': 579, 'ulgi': 9011, 'daughter': 2045, 'thei': 8599, 'nternet': 6030, 'sacveng': 7425, 'pmslweb': 6601, 'photo': 6510, 'bomb': 981, 'level': 4947, 'rowan': 7368, 'atkinson': 514, 'exampl': 2771, 'cid': 1533, 'joke': 4555, 'www': 9655, 'rvcj': 7409, 'weekend': 9413, 'made': 5171, 'china': 1475, 'long': 5077, 'brazzer': 1053, 'logo': 5062, 'test': 8542, 'stacey': 8144, 'starr': 8169, 'seriou': 7650, 'drive': 2458, 'laugh': 4851, 'marilyn': 5273, 'monro': 5661, 'hello': 3813, 'adult': 109, 'humour': 4026, 'fall': 2859, 'enjoy': 2656, 'mad': 5167, 'idiot': 4082, 'normal': 5997, 'red': 7086, 'light': 4986, 'hater': 3738, 'idea': 4076, 'adimin': 95, 'eeve': 2563, 'hu': 4003, 'gag': 3286, 'burn': 1172, 'piss': 6555, 'wound': 9625, 'heart': 3779, 'attack': 522, 'morn': 5686, 'tissut': 8726, 'tutissot': 8951, 'rollin': 7331, 'hatin': 3740, 'condit': 1715, 'extra': 2813, 'completeg': 1696, 'readi': 7038, 'free': 3164, 'sempler': 7623, 'gata': 3330, 'wudu': 9651, 'broke': 1090, 'whole': 9496, 'exam': 2769, 'sarcasmlol': 7477, 'rice': 7245, 'hood': 3953, 'sodormemez': 7959, 'perfect': 6459, 'dude': 2482, 'none': 5987, 'imgip': 4169, 'vu': 9305, 'zone': 9783, 'expect': 2790, 'least': 4889, 'other': 6235, 'compani': 1689, 'la': 4797, 'gono': 3481, 'laughingcolour': 4852, 'thank': 8563, 'alot': 234, 'teach': 8476, 'lesson': 4939, 'forrest': 3115, 'edward': 2559, 'slap': 7861, 'pal': 6311, 'question': 6926, 'subscrib': 8297, 'thrasher': 8677, 'kateboarom': 4649, 'quam': 6918, 'azin': 595, 'nigga': 5943, 'funkera': 3238, 'ago': 148, 'deadasssss': 2065, 'wtf': 9649, 'olymp': 6149, 'ceremoni': 1365, 'let': 4940, 'green': 3556, 'tea': 8475, 'tast': 8449, 'sorri': 8013, 'entir': 2667, 'world': 9609, 'bencher': 798, 'definit': 2119, 'must': 5771, 'joker': 4556, 'ph': 6496, 'electr': 2590, 'engin': 2653, 'cunt': 1944, 'slt': 7887, 'gentlemen': 3370, 'begun': 773, 'horn': 3961, 'fellow': 2938, 'bodi': 968, 'mcdonald': 5345, 'dekhbal': 2126, 'childhood': 1464, 'comedi': 1664, 'dekhbhai': 2128, 'fun': 3234, 'handsom': 3680, 'voic': 9286, 'dr': 2431, 'battlefield': 713, 'mani': 5242, 'bbc': 721, 'news': 5911, 'beandidit': 737, 'mamelenl': 5227, 'invent': 4358, 'selfi': 7617, 'laden': 4807, 'ride': 7257, 'vet': 9214, 'snow': 7938, 'bingo': 891, 'serb': 7646, 'scratch': 7559, 'flirt': 3048, 'crazyhyena': 1868, 'realiti': 7048, 'shiver': 7741, 'trimbl': 8871, 'funniest': 3243, 'proport': 6809, 'antimanel': 355, 'ms': 5730, 'fake': 2853, 'memetenl': 5445, 'cenat': 1355, 'ifu': 4106, 'holyy': 3929, 'hotter': 3978, 'taught': 8453, 'teddi': 8495, 'coupl': 1827, 'around': 441, 'inventor': 4359, 'jude': 4587, 'boss': 1008, 'mum': 5754, 'paid': 6301, 'week': 9411, 'idk': 4084, 'send': 7626, 'pakistani': 6310, 'matter': 5325, 'grow': 3587, 'rvcu': 7411, 'wapvolcom': 9343, 'smile': 7905, 'whenev': 9474, 'rvcjinsta': 7410, 'dielaught': 2250, 'bear': 739, 'relationship': 7137, 'blink': 930, 'fals': 2861, 'thata': 8569, 'inform': 4256, 'search': 7576, 'worst': 9617, 'lesbian': 4936, 'singer': 7823, 'ever': 2748, 'mamecent': 5225, 'behind': 777, 'wheel': 9469, 'ule': 9010, 'wwwhmsfriday': 9656, 'prospect': 6812, 'sure': 8354, 'tomorrow': 8775, 'confus': 1725, 'social': 7951, 'sp': 8033, 'rec': 7065, 'feast': 2917, 'menu': 5471, 'reaction': 7035, 'tag': 8416, 'huge': 4009, 'blb': 922, 'snapchat': 7924, 'belikebro': 789, 'sarcasm': 7476, 'bro': 1088, 'reject': 7133, 'tv': 8953, 'due': 2485, 'disord': 2316, 'stammer': 8157, 'problem': 6773, 'becam': 748, 'global': 3441, 'success': 8306, 'origin': 6218, 'charli': 1413, 'chaplin': 1407, 'what': 9455, 'express': 2806, 'hahahah': 3648, 'parent': 6343, 'hna': 3903, 'use': 9142, 'obi': 6059, 'wan': 9337, 'plebian': 6587, 'ohhhhhhhhh': 6117, 'imgfb': 4159, 'stay': 8187, 'awak': 576, 'church': 1527, 'somehow': 7989, 'mrbean': 5726, 'dam': 1995, 'wisdomleak': 9554, 'british': 1086, 'mi': 5506, 'agent': 144, 'tortur': 8798, 'captur': 1272, 'london': 5075, 'terrorist': 8540, 'teacherappreci': 8478, 'gift': 3405, 'gave': 3337, 'homemad': 3935, 'lavend': 4861, 'sugar': 8314, 'scrub': 7567, 'assort': 496, 'gourmet': 3508, 'card': 1278, 'max': 5332, 'given': 3430, 'focu': 3069, 'blend': 924, 'student': 8275, 'magnum': 5189, 'wine': 9540, 'frickin': 3181, 'rais': 6989, 'essentialoilstyl': 2723, 'resolut': 7193, 'fearless': 2915, 'share': 7694, 'oil': 6120, 'anyon': 364, 'skeptic': 7846, 'refrain': 7104, 'dope': 2409, 'queen': 6923, 'ident': 4078, 'tragedi': 8822, 'darth': 2036, 'plaguei': 6567, 'wise': 9555, 'bed': 756, 'diffus': 2259, 'peppermint': 6451, 'wild': 9522, 'orang': 6206, 'reveng': 7221, 'ylang': 9719, 'ching': 1478, 'natur': 5832, 'rid': 7253, 'clog': 1589, 'ear': 2523, 'mix': 5611, 'drop': 2464, 'tree': 8849, 'glass': 3436, 'steam': 8193, 'allow': 226, 'laurel': 4859, 'yanni': 9693, 'extrovert': 2818, 'oiler': 6121, 'salt': 7449, 'palac': 6312, 'hardli': 3704, 'introvert': 4353, 'gee': 3352, 'danc': 2006, 'spirit': 8081, 'anim': 326, 'protect': 6818, 'pay': 6398, 'attent': 525, 'effect': 2564, 'insur': 4313, 'knew': 4735, 'avert': 569, 'trip': 8874, 'doctor': 2355, 'lower': 5121, 'premium': 6727, 'either': 2580, 'obsess': 6066, 'rather': 7018, 'empti': 2633, 'bottl': 1015, 'pa': 6289, 'weird': 9425, 'spongebob': 8099, 'mock': 5625, 'weld': 9430, 'tri': 8857, 'catch': 1315, 'piec': 6535, 'shrimp': 7772, 'air': 167, 'benihana': 808, 'review': 7223, 'bond': 983, 'vaa': 9164, 'warnakulasuriya': 9352, 'patabendig': 6373, 'ushanta': 9146, 'joseph': 4573, 'chaminda': 1388, 'srilanka': 8135, 'cricket': 1885, 'troll': 8882, 'crickettrol': 1886, 'oppo': 6195, 'merica': 5479, 'beat': 742, 'rape': 7008, 'charg': 1409, 'texa': 8547, 'oscar': 6227, 'miltonlawson': 5553, 'largeheart': 4835, 'onlin': 6176, 'mike': 5530, 'tyson': 8988, 'bought': 1017, 'comput': 1703, 'byte': 1199, 'memori': 5457, 'wake': 9323, 'loud': 5105, 'charger': 1410, 'nu': 6032, 'si': 7785, 'gameday': 3299, 'lazi': 4870, 'sleep': 7871, 'convers': 1764, 'pleas': 6585, 'dinner': 2273, 'plaquei': 6573, 'brain': 1044, 'episod': 2683, 'explor': 2802, 'hacki': 3643, 'reitman': 7132, 'autism': 555, 'employ': 2628, 'templ': 8518, 'grandin': 3528, 'bog': 972, 'sentenc': 7638, 'draft': 2435, 'write': 9639, 'chang': 1401, 'htisticlicens': 3999, 'farmer': 2882, 'polit': 6630, 'folk': 3076, 'middl': 5520, 'finger': 2995, 'miss': 5588, 'er': 2691, 'feder': 2923, 'govern': 3511, 'knock': 4744, 'felix': 2935, 'vidal': 9230, 'karem': 4638, 'mungai': 5759, 'ben': 795, 'greet': 3559, 'mummi': 5756, 'dolikethat': 2375, 'so': 7943, 'dennotoo': 2160, 'hassan': 3730, 'hassandeni': 3731, 'kwa': 4791, 'kuja': 4778, 'dhenk': 2223, 'comingen': 1674, 'repli': 7169, 'chemosi': 1445, 'midrol': 5523, 'compil': 1692, 'prior': 6758, 'stream': 8250, 'fail': 2846, 'insult': 4312, 'rip': 7275, 'headphon': 3770, 'lol': 5065, 'past': 6370, 'neg': 5865, 'attach': 521, 'welcom': 9429, 'adventur': 114, 'opportun': 6197, 'mental': 5468, 'spiritu': 8082, 'hire': 3884, 'sitter': 7837, 'submit': 8295, 'receipt': 7069, 'kraft': 4768, 'cover': 1836, 'halloween': 3667, 'costum': 1810, 'scari': 7530, 'enough': 2659, 'perspect': 6477, 'arhtist': 426, 'licens': 4970, 'rijok': 7267, 'choic': 1486, 'place': 6565, 'twinfinit': 8968, 'gamenform': 3301, 'nomine': 5983, 'ign': 4116, 'llamo': 5040, 'con': 1706, 'award': 578, 'furmess': 3267, 'victori': 9228, 'support': 8348, 'sonic': 8002, 'mania': 5243, 'bill': 882, 'feed': 2925, 'mistak': 5597, 'japanes': 4476, 'citizen': 1548, 'nuke': 6036, 'august': 542, 'color': 1650, 'midget': 5521, 'mcnugget': 5350, 'buy': 1191, 'punch': 6865, 'bag': 633, 'wife': 9513, 'steal': 8191, 'visa': 9260, 'buck': 1126, 'synchron': 8404, 'cat': 1309, 'pawprint': 6397, 'roof': 7342, 'tile': 8712, 'ce': 1342, 'inki': 4277, 'paw': 6396, 'print': 6756, 'left': 4900, 'manuscript': 5256, 'du': 2475, 'pe': 6409, 'vandal': 9182, 'sinc': 7817, 'nope': 5994, 'lipstick': 5016, 'em': 2613, 'shave': 7701, 'nah': 5804, 'kuntz': 4782, 'joshu': 4575, 'uhh': 9004, 'boyfriend': 1033, 'asshol': 492, 'memefiness': 5417, 'wyd': 9659, 'wassup': 9359, 'damn': 2000, 'kinda': 4710, 'ugli': 9002, 'metal': 5491, 'album': 197, 'godsmack': 3462, 'mainstream': 5198, 'sale': 7447, 'trench': 8853, 'liquor': 5018, 'store': 8235, 'micav': 5509, 'lenicrit': 4926, 'tradit': 8819, 'christma': 1507, 'gri': 3568, 'prabha': 6696, 'soon': 8005, 'dog': 2365, 'worship': 9616, 'strong': 8265, 'stand': 8159, 'chest': 1452, 'sacrific': 7424, 'justin': 4620, 'selena': 7614, 'belieb': 784, 'beneb': 802, 'selenay': 7615, 'bene': 800, 'passion': 6366, 'starv': 8176, 'case': 1301, 'favorit': 2906, 'wet': 9447, 'anymor': 363, 'toward': 8807, 'lighthous': 4990, 'brother': 1101, 'lamp': 4822, 'sick': 7788, 'mind': 5557, 'freak': 3158, 'check': 1426, 'paint': 6304, 'toenail': 8754, 'reupload': 7217, 'logan': 5058, 'paul': 6391, 'vlog': 9279, 'dead': 2064, 'suicid': 8316, 'view': 9233, 'add': 85, 'spo': 8087, 'stupid': 8286, 'weekday': 9412, 'tripl': 8876, 'duo': 2504, 'rocket': 7309, 'launcher': 4856, 'el': 2582, 'arroyo': 449, 'gustin': 3626, 'tequila': 8529, 'arriv': 446, 'foretold': 3099, 'ancient': 294, 'mural': 5760, 'austin': 547, 'resolv': 7194, 'quick': 6930, 'fulli': 3231, 'evolv': 2764, 'therapist': 8628, 'shellyyyy': 7717, 'rf': 7236, 'dankland': 2018, 'format': 3109, 'switch': 8396, 'draw': 2443, 'proper': 6806, 'upvot': 9131, 'milleni': 5544, 'rent': 7161, 'portent': 6661, 'major': 5203, 'motion': 5706, 'anon': 339, 'imposs': 4193, 'defend': 2115, 'nail': 5806, 'coffin': 1627, 'qanon': 6905, 'pass': 6363, 'toxic': 8811, 'connect': 1731, 'boom': 993, 'winner': 9544, 'nese': 5892, 'laur': 4858, 'dalla': 1993, 'sinfin': 7820, 'popi': 6651, 'galway': 3296, 'todel': 8751, 'leert': 4899, 'omz': 6164, 'korea': 4761, 'filefli': 2981, 'lose': 5092, 'spring': 8112, 'thevideo': 8643, 'iphon': 4372, 'truedepth': 8898, 'heavi': 3787, 'pod': 6611, 'cast': 1305, 'ohnni': 6118, 'formula': 3111, 'rewind': 7231, 'youtub': 9740, 'mess': 5486, 'deku': 2129, 'melioda': 5388, 'uzumaki': 9162, 'chri': 1502, 'cross': 1908, 'ya': 9685, 'momma': 5649, 'joshua': 4576, 'jlewdatruth': 4531, 'doin': 2371, 'dream': 2448, 'nov': 6015, 'fox': 3137, 'pain': 6302, 'sir': 7829, 'home': 3931, 'daddi': 1979, 'tenorr': 8528, 'spot': 8107, 'massiv': 5309, 'spaceship': 8037, 'fill': 2983, 'killer': 4702, 'strang': 8242, 'worri': 9614, 'soap': 7944, 'delici': 2137, 'fed': 2922, 'icanhascheezburg': 4064, 'archiv': 417, 'theonion': 8620, 'meghan': 5376, 'markl': 5280, 'colleg': 1640, 'stuck': 8273, 'sickli': 7790, 'habsburg': 3638, 'cousin': 1834, 'deserv': 2182, 'onion': 6175, 'link': 5011, 'hr': 3996, 'januari': 4473, 'local': 5051, 'pile': 6541, 'dirti': 2288, 'cloth': 1595, 'bedroom': 759, 'bake': 643, 'gillett': 3408, 'understand': 9044, 'ill': 4129, 'amen': 262, 'scroll': 7566, 'crap': 1856, 'smart': 7893, 'account': 55, 'manag': 5233, 'brief': 1074, 'client': 1576, 'creativ': 1873, 'expens': 2794, 'entertain': 2664, 'digitalsynopsi': 2264, 'rich': 7246, 'nephew': 5886, 'imag': 4138, 'di': 2225, 'dat': 2038, 'der': 2174, 'njm': 5965, 'music': 5766, 'compar': 1690, 'jazz': 4487, 'soul': 8020, 'rnb': 7290, 'pop': 6647, 'flower': 3059, 'occasion': 6074, 'treat': 8847, 'respect': 7198, 'atheist': 512, 'cute': 1964, 'statu': 8186, 'franship': 3155, 'alongwith': 233, 'creepi': 1879, 'upload': 9122, 'media': 5365, 'often': 6108, 'relationshipgo': 7139, 'sma': 7890, 'design': 2183, 'develop': 2211, 'file': 2980, 'untitl': 9112, 'psd': 6834, 'overtim': 6274, 'meal': 5355, 'mouth': 5715, 'offend': 6091, 'footbal': 3090, 'argu': 423, 'ronaldo': 7339, 'messi': 5488, 'lucki': 5134, 'era': 2692, 'mari': 5271, 'educ': 2558, 'activist': 73, 'feminst': 2949, 'control': 1761, 'seek': 7597, 'exclus': 2776, 'ego': 2572, 'id': 4075, 'balanc': 645, 'candi': 1245, 'crush': 1917, 'annoy': 336, 'jobless': 4535, 'ball': 648, 'goe': 3463, 'clue': 1607, 'brave': 1050, 'jesu': 4509, 'lot': 5096, 'peac': 6410, 'brought': 1102, 'sword': 8398, 'friendlyatheist': 3187, 'ga': 3282, 'phone': 6509, 'cabl': 1205, 'remind': 7155, 'madison': 5174, 'rain': 6985, 'outsid': 6257, 'layout': 4868, 'code': 1623, 'stackoverflow': 8147, 'bath': 708, 'everyday': 2751, 'gym': 3629, 'shape': 7693, 'train': 8825, 'painnogain': 6303, 'hard': 3700, 'intellig': 4318, 'biii': 873, 'bob': 967, 'fire': 3001, 'visibl': 9263, 'mayb': 5338, 'skill': 7848, 'rude': 7379, 'miseri': 5582, 'teachermiseri': 8479, 'keleigh': 4666, 'ps': 6832, 'inspect': 4288, 'bulb': 1149, 'imgur': 4173, 'umm': 9019, 'basement': 697, 'complain': 1693, 'douch': 2422, 'address': 88, 'privaci': 6764, 'concern': 1712, 'san': 7458, 'cheat': 1424, 'loyal': 5123, 'privat': 6765, 'superbowl': 8334, 'buffalo': 1136, 'memeshappen': 5438, 'aganeror': 138, 'chocol': 1484, 'vacat': 9165, 'dubai': 2476, 'omg': 6158, 'xoxo': 9675, 'point': 6618, 'fir': 2999, 'waylon': 9378, 'badass': 620, 'fashion': 2888, 'nashvil': 5827, 'kany': 4631, 'misunderstood': 5602, 'wiz': 9569, 'dumb': 2492, 'ex': 2766, 'diss': 2324, 'hiphop': 3879, 'memesdaili': 5434, 'harriet': 3715, 'tubman': 8920, 'strip': 8259, 'club': 1602, 'skin': 7849, 'split': 8084, 'equal': 2686, 'cheapest': 1423, 'husband': 4043, 'sisiga': 7833, 'yy': 9753, 'hafglw': 3645, 'somebodi': 7986, 'cultur': 1939, 'blame': 914, 'didnt': 2246, 'mention': 5470, 'reggi': 7113, 'bs': 1117, 'racist': 6969, 'pav': 6394, 'vour': 9299, 'app': 382, 'uncl': 9036, 'favourit': 2907, 'presid': 6734, 'cost': 1809, 'wrote': 9645, 'wristband': 9638, 'procootballmoch': 6778, 'yall': 9691, 'moist': 5638, 'suppli': 8346, 'lotion': 5097, 'geek': 3353, 'strike': 8257, 'forget': 3102, 'tuck': 8921, 'cock': 1620, 'set': 7658, 'clock': 1588, 'road': 7293, 'indic': 4232, 'driver': 2459, 'nye': 6047, 'classroom': 1567, 'notic': 6010, 'dinosaur': 2275, 'counter': 1821, 'fiction': 2967, 'creatur': 1875, 'ct': 1926, 'honda': 3946, 'fanboy': 2868, 'eneschakrri': 2650, 'anoth': 341, 'bowl': 1026, 'openi': 6189, 'sunday': 8328, 'opinion': 6193, 'rachel': 6966, 'twat': 8958, 'showoff': 7767, 'bank': 663, 'spend': 8070, 'caption': 1271, 'nishantda': 5958, 'wage': 9316, 'corrupt': 1804, 'hug': 4008, 'convict': 1765, 'mate': 5317, 'consensu': 1735, 'warm': 9349, 'billi': 884, 'stick': 8217, 'leav': 4890, 'dish': 2307, 'doesntbullyanyon': 2363, 'sheet': 7711, 'upal': 9118, 'throne': 8688, 'doesnt': 2361, 'mounir': 5710, 'benjamin': 809, 'telephon': 8505, 'automobil': 559, 'chill': 1467, 'muscularand': 5764, 'carv': 1300, 'certainli': 1367, 'gain': 3289, 'arm': 431, 'enthusiast': 2666, 'petrolhead': 6486, 'brand': 1047, 'fecal': 2921, 'run': 7392, 'constant': 1743, 'updat': 9119, 'consider': 1740, 'remov': 7158, 'eyebrow': 2821, 'vote': 9296, 'regist': 7116, 'sheldon': 7714, 'worth': 9618, 'top': 8791, 'disinfect': 2310, 'taxi': 8460, 'magnet': 5185, 'monopol': 5660, 'giant': 3398, 'dictat': 2244, 'gentl': 3368, 'opo': 6194, 'ad': 80, 'tator': 8452, 'neutron': 5903, 'bar': 670, 'bartend': 694, 'cooper': 1779, 'theori': 8622, 'reset': 7190, 'button': 1190, 'previou': 6742, 'dismiss': 2313, 'particl': 6356, 'cantcom': 1253, 'came': 1226, 'eu': 2733, 'farrah': 2883, 'fowler': 3136, 'toothbrush': 8789, 'holder': 3918, 'fast': 2890, 'magnitud': 5188, 'serv': 7653, 'nude': 6034, 'omfg': 6157, 'guis': 3614, 'nerd': 5887, 'lea': 4877, 'assum': 497, 'done': 2392, 'oc': 6072, 'oz': 6288, 'potenti': 6681, 'three': 8681, 'parallel': 6338, 'nerdi': 5888, 'door': 2406, 'sandwich': 7464, 'small': 7892, 'scale': 7520, 'aiveo': 174, 'site': 7836, 'thursday': 8700, 'ocb': 6073, 'sheldo': 7713, 'aliv': 212, 'bandingo': 659, 'oxygen': 6285, 'kul': 4779, 'foto': 3125, 'iq': 4374, 'illustr': 4133, 'twilight': 8965, 'blueberri': 952, 'build': 1144, 'belli': 791, 'cb': 1335, 'steven': 8212, 'hawk': 3753, 'geniu': 3365, 'robot': 7307, 'televis': 8507, 'prosper': 6813, 'leonard': 4932, 'nimoy': 5953, 'napkin': 5818, 'wipe': 9550, 'poss': 6669, 'dna': 2349, 'zombieapocalips': 9782, 'calvin': 1223, 'bend': 799, 'te': 8474, 'viru': 9259, 'exp': 2788, 'weapon': 9392, 'ring': 7271, 'trilog': 8870, 'marathon': 5260, 'ctv': 1928, 'tvtime': 8956, 'benadet': 796, 'besttiiieeeee': 828, 'although': 243, 'relationshipagr': 7138, 'penni': 6438, 'bigbangtheori': 862, 'wonderwoman': 9591, 'audienc': 535, 'cheer': 1432, 'stephen': 8203, 'bieber': 859, 'norton': 6003, 'secur': 7593, 'self': 7616, 'proclaim': 6777, 'ned': 5859, 'bazinga': 718, 'studio': 8277, 'negro': 5868, 'that': 8568, 'bigger': 864, 'gigant': 3407, 'enorm': 2658, 'polic': 6627, 'hack': 3640, 'warcraft': 9345, 'cri': 1883, 'stuffistumbledupon': 8281, 'soft': 7965, 'dean': 2072, 'sleepi': 7872, 'om': 6150, 'nom': 5981, 'sing': 7821, 'thebig': 8584, 'despit': 2194, 'fact': 2835, 'obvious': 6071, 'bigbang': 861, 'simpson': 7812, 'simpsonsshitpost': 7813, 'shitpost': 7738, 'sheldoncoop': 7715, 'auroraboreali': 544, 'steamedham': 8194, 'bic': 856, 'style': 8287, 'jim': 4524, 'parson': 6350, 'actor': 74, 'guild': 3609, 'announc': 335, 'shout': 7761, 'becuas': 755, 'starter': 8172, 'pack': 6293, 'de': 2063, 'ue': 8993, 'inicht': 4270, 'bereit': 813, 'smug': 7915, 'redditor': 7088, 'cuz': 1967, 'halfway': 3666, 'twist': 8972, 'answer': 343, 'experiment': 2796, 'physicist': 6520, 'butch': 1183, 'rder': 7031, 'aerospac': 121, 'astrophysicist': 504, 'theoret': 8621, 'elev': 2598, 'dryer': 2472, 'hea': 3765, 'accident': 48, 'rapid': 7009, 'disappear': 2291, 'dot': 2417, 'precari': 6709, 'edg': 2551, 'tire': 8725, 'ate': 510, 'vill': 9236, 'catman': 1321, 'whoah': 9492, 'coffe': 1625, 'roflbot': 7318, 'filmmak': 2985, 'cataddictsanoni': 1310, 'mous': 5714, 'spoil': 8090, 'ipad': 4371, 'yurt': 9749, 'monday': 5654, 'late': 4846, 'lieuten': 4976, 'dan': 2004, 'leg': 4905, 'jingl': 4526, 'bell': 790, 'smell': 7901, 'chin': 1474, 'fur': 3264, 'bae': 629, 'slept': 7875, 'funnycat': 3248, 'xyz': 9684, 'modern': 5630, 'technolog': 8492, 'advanc': 113, 'repair': 7163, 'beer': 765, 'mirror': 5577, 'slack': 7859, 'cancel': 1242, 'pushit': 6888, 'soliv': 7978, 'narrow': 5825, 'starta': 8171, 'motorcycl': 5708, 'gangortak': 3313, 'explain': 2799, 'rub': 7376, 'tummi': 8932, 'drove': 2466, 'thug': 8697, 'fluffi': 3063, 'exactli': 2768, 'funnycatmem': 3249, 'flexibl': 3043, 'grumpi': 3591, 'catnip': 1322, 'devil': 2213, 'lettuc': 4945, 'tam': 8430, 'breath': 1062, 'object': 6060, 'closer': 1592, 'hech': 3790, 'twinkl': 8970, 'throw': 8691, 'neck': 5856, 'purrfect': 6883, 'freshli': 3178, 'dri': 2456, 'interview': 4343, 'purrrthday': 6885, 'fish': 3012, 'present': 6733, 'litter': 5026, 'bunni': 1165, 'australian': 550, 'invis': 4363, 'posit': 6666, 'pregnanc': 6720, 'tear': 8484, 'strength': 8253, 'kitten': 4726, 'cleanmem': 1571, 'threw': 8682, 'bird': 894, 'cabbagecatmem': 1202, 'quest': 6925, 'slay': 7868, 'samurai': 7457, 'isurrend': 4421, 'cuddl': 1934, 'direct': 2281, 'lasagna': 4841, 'step': 8201, 'caught': 1330, 'garden': 3322, 'especi': 2718, 'havin': 3749, 'bokuwachikuwa': 978, 'tumblr': 8930, 'cooki': 1769, 'okk': 6128, 'thirsti': 8664, 'shi': 7724, 'type': 8982, 'upon': 9123, 'lindblom': 5006, 'ir': 4375, 'grumpycatp': 3592, 'choos': 1492, 'chose': 1496, 'cane': 1249, 'fatter': 2899, 'valid': 9176, 'consid': 1739, 'furnitur': 3269, 'respons': 7200, 'ginger': 3411, 'therroman': 8635, 'se': 7569, 'brimston': 1079, 'ecom': 2545, 'assist': 494, 'saturday': 7494, 'movement': 5717, 'option': 6204, 'petfind': 6483, 'iama': 4053, 'catpar': 1324, 'sneez': 7931, 'pet': 6480, 'youv': 9741, 'ancestor': 292, 'drsmashlov': 2468, 'wantisto': 9342, 'nearest': 5852, 'meow': 5472, 'ow': 6278, 'catbreedselector': 1313, 'catbreedselect': 1312, 'fit': 3017, 'organ': 6215, 'chemistri': 1444, 'difficult': 2257, 'ch': 1376, 'studi': 8276, 'alkyn': 213, 'troubl': 8891, 'acid': 62, 'amin': 268, 'dunecat': 2500, 'spice': 8074, 'mows': 5722, 'lunch': 5141, 'ental': 2661, 'par': 6334, 'cours': 1830, 'round': 7362, 'bing': 890, 'network': 5900, 'therefor': 8630, 'scold': 7548, 'makeamem': 5206, 'org': 6214, 'taken': 8422, 'oooh': 6183, 'pin': 6545, 'mugli': 5745, 'lone': 5076, 'catbre': 1311, 'selector': 7613, 'select': 7612, 'getoverher': 3384, 'stahp': 8152, 'kiuteni': 4728, 'thermomet': 8633, 'ceel': 1345, 'happycat': 3697, 'contatto': 1751, 'behold': 779, 'mitten': 5609, 'shall': 7687, 'pie': 6534, 'barf': 679, 'rainbow': 6986, 'minut': 5573, 'saviour': 7505, 'edgar': 2552, 'allan': 216, 'poe': 6615, 'tra': 8816, 'cloud': 1596, 'rare': 7013, 'full': 3229, 'bloom': 945, 'babyfat': 602, 'friday': 3182, 'purrrtend': 6884, 'gamefac': 3300, 'catlov': 1320, 'asleep': 480, 'tossa': 8800, 'mint': 5572, 'wyp': 9662, 'tonsofthank': 8784, 'egg': 2571, 'cutest': 1965, 'diet': 2253, 'pogo': 6617, 'mommi': 5650, 'surgeri': 8359, 'pant': 6324, 'havent': 3746, 'teh': 8503, 'urfl': 9136, 'excit': 2775, 'beauti': 744, 'insid': 4286, 'spay': 8051, 'admit': 101, 'tcanhasoheezburg': 8466, 'warn': 9351, 'label': 4799, 'fault': 2902, 'swipe': 8395, 'yesterday': 9712, 'finish': 2996, 'quitter': 6950, 'rotat': 7355, 'happya': 3695, 'fuk': 3227, 'depress': 2172, 'ying': 9717, 'poker': 6622, 'shat': 7699, 'everywher': 2757, 'biblic': 855, 'asplor': 485, 'kitteh': 4725, 'eatin': 2538, 'slave': 7866, 'poop': 6642, 'tini': 8722, 'shovel': 7763, 'mama': 5222, 'curios': 1952, 'dare': 2025, 'posuvo': 6677, 'scaveng': 7534, 'bit': 900, 'otherwis': 6236, 'talent': 8425, 'bel': 782, 'unlov': 9089, 'unhand': 9064, 'peasant': 6415, 'sweater': 8382, 'thrill': 8684, 'oy': 6287, 'vey': 9216, 'ralph': 6994, 'six': 7839, 'balloon': 650, 'jacki': 4452, 'chan': 1393, 'tip': 8724, 'lick': 4972, 'solo': 7979, 'portrait': 6663, 'domin': 2385, 'broken': 1091, 'minion': 5567, 'forgot': 3105, 'tuna': 8934, 'flex': 3042, 'istay': 4417, 'swallow': 8376, 'unhappi': 9065, 'grupi': 3593, 'flood': 3052, 'summer': 8324, 'weslo': 9441, 'puppi': 6875, 'nie': 5936, 'frontcam': 3202, 'ultim': 9012, 'requir': 7185, 'ribbon': 7244, 'lifeguard': 4979, 'duti': 2512, 'beach': 731, 'imigflip': 4175, 'crosbi': 1907, 'chandler': 1399, 'monica': 5656, 'law': 4862, 'juju': 4597, 'ross': 7354, 'annul': 338, 'decis': 2096, 'marriag': 5284, 'moodswag': 5672, 'rearrang': 7057, 'bubl': 1125, 'butt': 1185, 'chaumont': 1421, 'usa': 9141, 'tend': 8526, 'till': 8713, 'candl': 1247, 'maker': 5208, 'calgon': 1215, 'lionel': 5014, 'richi': 7250, 'scatteredquot': 7533, 'griev': 3569, 'chand': 1397, 'ler': 4935, 'donald': 2389, 'duck': 2479, 'wore': 9603, 'towel': 8808, 'aound': 370, 'waist': 9318, 'warner': 9353, 'brightsid': 1077, 'wed': 9405, 'toehdr': 8753, 'afterward': 136, 'dofe': 2364, 'ib': 4056, 'ap': 372, 'magazin': 5179, 'friendstvscen': 3192, 'specif': 8058, 'sgeller': 7675, 'richard': 7248, 'teller': 8509, 'anxieti': 360, 'tobey': 8747, 'correct': 1802, 'brynndowney': 1116, 'appoint': 394, 'habik': 3636, 'hacap': 3639, 'friendzon': 3193, 'mkaifista': 5614, 'shop': 7751, 'coke': 1631, 'packet': 6296, 'ice': 4067, 'cream': 1869, 'nowaday': 6019, 'cctv': 1339, 'deer': 2112, 'beyonc': 840, 'hurt': 4042, 'joey': 4542, 'appl': 388, 'individu': 4236, 'advic': 117, 'sarcast': 7478, 'pica': 6524, 'glad': 3435, 'rehears': 7122, 'practic': 6697, 'gut': 3627, 'quit': 6949, 'yorker': 9728, 'gett': 3385, 'tie': 8706, 'hgcap': 3842, 'incred': 4221, 'devot': 2215, 'carinsllov': 1287, 'tribut': 8865, 'freedomto': 3167, 'fandom': 2871, 'cup': 1945, 'candler': 1248, 'reign': 7124, 'ravenclaw': 7024, 'tudor': 8922, 'admin': 98, 'deep': 2107, 'foghorn': 3074, 'uh': 9003, 'honey': 3949, 'miami': 5507, 'vice': 9223, 'soundtrack': 8025, 'exchang': 2774, 'bambi': 652, 'ok': 6124, 'repopul': 7172, 'tribbianni': 8863, 'young': 9731, 'chandlerb': 1400, 'joeytribbiani': 4544, 'fr': 3138, 'chondler': 1490, 'beng': 806, 'chundler': 1521, 'blong': 942, 'chanandl': 1394, 'bluggg': 957, 'chidno': 1460, 'blap': 917, 'funnyidi': 3252, 'friendsfeedhq': 3188, 'bless': 926, 'anybodi': 361, 'centrlprk': 1361, 'near': 5851, 'chuck': 1514, 'norri': 6001, 'solar': 7971, 'eclips': 2544, 'sun': 8327, 'blind': 928, 'gun': 3621, 'carri': 1296, 'magician': 5183, 'swim': 8394, 'land': 4824, 'shot': 7755, 'dolfa': 2374, 'futuro': 3274, 'es': 2709, 'pote': 6680, 'futwa': 3275, 'gure': 3623, 'moon': 5673, 'golf': 3472, 'beethoven': 767, 'symphoni': 8402, 'vuvuzela': 9307, 'haha': 3647, 'bigpimpin': 871, 'mobi': 5622, 'gate': 3331, 'fear': 2914, 'american': 264, 'idol': 4087, 'built': 1145, 'hospit': 3970, 'ieat': 4096, 'soup': 8026, 'chopstick': 1494, 'truck': 8895, 'diesel': 2251, 'tank': 8437, 'optimu': 6203, 'prime': 6751, 'flu': 3060, 'oncea': 6169, 'instantmememak': 4306, 'threaten': 8680, 'roundhous': 7363, 'kick': 4689, 'process': 6776, 'alright': 236, 'yo': 9720, 'dawg': 2052, 'matti': 5326, 'imeedi': 4152, 'street': 8251, 'txhen': 8978, 'pinterest': 6551, 'iman': 4148, 'mvp': 5780, 'jokideo': 4558, 'scissor': 7547, 'bruce': 1107, 'lee': 4896, 'cube': 1931, 'togeth': 8756, 'seri': 7648, 'target': 8445, 'nine': 5954, 'urin': 9138, 'semi': 7621, 'skydiv': 7857, 'parachut': 6335, 'refund': 7108, 'glock': 3444, 'grim': 3571, 'reaper': 7056, 'courag': 1829, 'dug': 2487, 'hole': 3920, 'grand': 3526, 'canyon': 1258, 'molli': 5640, 'weasley': 9395, 'veget': 9194, 'lift': 4984, 'chair': 1382, 'mgmhd': 5503, 'push': 6887, 'punish': 6869, 'zombi': 9781, 'ru': 7375, 'mecent': 5362, 'memecenterin': 5405, 'dial': 2227, 'cut': 1962, 'butter': 1186, 'knife': 4736, 'kidney': 4696, 'subsequ': 8299, 'collect': 1638, 'embed': 2616, 'gauntlet': 3335, 'artofthedojo': 459, 'jamesmichael': 4469, 'jmsmith': 4532, 'art': 453, 'scumbag': 7568, 'funnypicsonli': 3258, 'meteor': 5492, 'grab': 3519, 'funnyb': 3247, 'grenad': 3561, 'arrest': 444, 'uppercut': 9124, 'hors': 3968, 'fairforcemem': 2849, 'stunt': 8285, 'doubl': 2420, 'vam': 9180, 'damm': 1998, 'epic': 2679, 'globetrott': 3443, 'lobetrott': 5049, 'cpr': 1846, 'dummi': 2495, 'ghost': 3394, 'campfir': 1236, 'shoot': 7749, 'gp': 3515, 'corner': 1797, 'wrestl': 9635, 'coach': 1613, 'appli': 392, 'handcraft': 3674, 'bikerid': 877, 'esc': 2710, 'diari': 2235, 'guiness': 3613, 'record': 7082, 'vinci': 9243, 'memetent': 5447, 'shaggi': 7685, 'packag': 6294, 'tho': 8667, 'lemonad': 4924, 'ser': 7645, 'arthur': 454, 'dayn': 2056, 'holiday': 3922, 'countri': 1826, 'orneri': 6221, 'cd': 1340, 'wehatepopcountri': 9418, 'hoe': 3911, 'sister': 7834, 'loyalti': 5124, 'trump': 8903, 'plice': 6590, 'space': 8034, 'steak': 8190, 'ron': 7337, 'christian': 1505, 'spotifi': 8108, 'olepli': 6144, 'offens': 6092, 'wateri': 9369, 'belong': 792, 'miranda': 5575, 'lambert': 4819, 'apa': 373, 'chase': 1419, 'tutern': 8950, 'tour': 8806, 'permiss': 6468, 'tuten': 8949, 'health': 3774, 'issu': 4416, 'obama': 6053, 'freedommem': 3166, 'ecc': 2542, 'slipperyfellow': 7880, 'whereev': 9477, 'thatdream': 8571, 'lead': 4878, 'abg': 20, 'epe': 2678, 'jp': 4582, 'llc': 5041, 'roll': 7330, 'west': 9442, 'buddi': 1131, 'tequu': 8530, 'letter': 4944, 'across': 69, 'memat': 5392, 'abl': 23, 'bass': 703, 'boat': 966, 'neglectin': 5866, 'shake': 7686, 'straight': 8239, 'town': 8810, 'alabama': 184, 'legal': 4907, 'syria': 8407, 'load': 5045, 'muddi': 5738, 'wheeler': 9471, 'can': 1237, 'pink': 6548, 'camo': 1232, 'americanstrong': 265, 'hunt': 4036, 'flamingo': 3031, 'reinvent': 7131, 'dieselchick': 2252, 'djif': 2345, 'ifyou': 4109, 'webat': 9399, 'popcountri': 6649, 'codi': 1624, 'jinksyet': 4527, 'besid': 822, 'birmingham': 896, 'jen': 4499, 'jussi': 4610, 'cornfield': 1799, 'boach': 963, 'cais': 1209, 'ive': 4440, 'stalk': 8156, 'farcethemus': 2879, 'acm': 65, 'bonfir': 988, 'pure': 6877, 'throttl': 8690, 'grade': 3521, 'wors': 9615, 'mu': 5734, 'edn': 2556, 'bryan': 1114, 'lyric': 5156, 'wohatepopcountri': 9578, 'hoss': 3971, 'orlando': 6220, 'florida': 3057, 'decemb': 2093, 'radic': 6975, 'islam': 4407, 'hell': 3811, 'disapprov': 2294, 'banana': 655, 'chimp': 1473, 'chump': 1519, 'donkey': 2393, 'kongo': 4757, 'mood': 5671, 'count': 1820, 'hankjrfant': 3684, 'discov': 2300, 'hank': 3683, 'iov': 4369, 'huntin': 4037, 'muddin': 5739, 'fishin': 3014, 'chew': 1454, 'whisper': 9486, 'fbi': 2910, 'virginia': 9255, 'thangi': 8562, 'mud': 5737, 'sump': 8326, 'georgia': 3374, 'darlin': 2034, 'fustercluckusa': 3272, 'neckbeard': 5857, 'sjw': 7843, 'agenda': 143, 'jonathan': 4563, 'kasdan': 4645, 'tough': 8804, 'titti': 8734, 'danklaid': 2017, 'deflat': 2120, 'own': 6283, 'europ': 2739, 'painter': 6305, 'remeb': 7151, 'somth': 7996, 'idont': 4089, 'outlaw': 6251, 'fad': 2843, 'memecrunch': 5411, 'rough': 7360, 'shock': 7744, 'apocalyps': 378, 'phish': 6506, 'score': 7551, 'takin': 8423, 'kingswood': 4717, 'brasso': 1049, 'exhaust': 2781, 'stud': 8274, 'ban': 654, 'non': 5985, 'copyright': 1787, 'altern': 242, 'improvis': 4198, 'adapt': 84, 'overcom': 6265, 'argument': 424, 'hold': 3917, 'requr': 7186, 'thang': 8561, 'drgrayfang': 2454, 'tribe': 8864, 'spoken': 8097, 'ocean': 6079, 'properti': 6808, 'arizona': 428, 'sacrif': 7423, 'wealth': 9389, 'poppa': 6652, 'miungisi': 5610, 'ray': 7027, 'cyru': 1974, 'riid': 7266, 'rothschild': 7356, 'unsolv': 9106, 'mysteri': 5796, 'zonk': 9784, 'copii': 1786, 'pantyhos': 6327, 'fuckin': 3215, 'ab': 15, 'cheatin': 1425, 'debat': 2081, 'presidenti': 6735, 'vehicl': 9199, 'kim': 4706, 'kardashian': 4637, 'farc': 2878, 'bowler': 1027, 'olenegener': 6143, 'spain': 8040, 'despacito': 2188, 'uk': 9007, 'south': 8028, 'gangnam': 3312, 'thunder': 8699, 'slut': 7888, 'sorryiforgotto': 8014, 'here': 3823, 'cinchanga': 1539, 'cancer': 1243, 'fli': 3044, 'fb': 2909, 'superhero': 8335, 'chimichanga': 1471, 'hahahaha': 3649, 'mwb': 5781, 'unicorn': 9069, 'valentin': 9175, 'feb': 2919, 'imax': 4150, 'clown': 1599, 'redskul': 7096, 'abus': 38, 'blacheco': 911, 'spokesman': 8098, 'nra': 6024, 'un': 9022, 'snicker': 7932, 'lam': 4818, 'deathstrok': 2079, 'parodi': 6349, 'tool': 8787, 'justic': 4617, 'leagu': 4881, 'nightw': 5950, 'stan': 8158, 'recognis': 7079, 'forgiv': 3103, 'js': 4584, 'insan': 4284, 'blond': 941, 'avenegersmem': 564, 'flesh': 3041, 'gumama': 3620, 'shaddup': 7681, 'approv': 400, 'pancak': 6319, 'vacuum': 9168, 'aaaargh': 6, 'hief': 3850, 'ishida': 4400, 'atar': 508, 'aaarh': 8, 'staight': 8153, 'googl': 3489, 'viaggag': 9221, 'oven': 6261, 'disappoint': 2293, 'mene': 5460, 'mangapanda': 5241, 'hugh': 4010, 'jackman': 4453, 'ahhhhhh': 160, 'touch': 8803, 'twice': 8964, 'jolli': 4560, 'lap': 4831, 'pun': 6864, 'christ': 1503, 'suppos': 8349, 'ranger': 7006, 'thegreekguid': 8597, 'venom': 9202, 'jet': 4511, 'tendenc': 8527, 'wolverin': 9583, 'hii': 3859, 'hitler': 3894, 'rate': 7016, 'violent': 9250, 'decapit': 2090, 'wiser': 9556, 'king': 4714, 'dailygeekfact': 1988, 'form': 3108, 'version': 9209, 'consist': 1741, 'headpool': 3771, 'dogpool': 2369, 'calm': 1220, 'duct': 2481, 'stat': 8181, 'heal': 3773, 'factor': 2837, 'scientist': 7545, 'dear': 2074, 'makeup': 5209, 'leonardo': 4933, 'dicaprio': 2238, 'acadami': 40, 'leo': 4929, 'sooner': 8006, 'bam': 651, 'academi': 41, 'absolut': 33, 'lego': 4919, 'cake': 1211, 'market': 5278, 'imgrip': 4172, 'leoactiv': 4930, 'kate': 4648, 'moss': 5701, 'york': 9727, 'sbbalog': 7516, 'qq': 6912, 'jeremi': 4501, 'kaplowitz': 4633, 'juli': 4600, 'climat': 1578, 'mario': 5275, 'underwat': 9048, 'conceal': 1709, 'safe': 7434, 'endang': 2642, 'biggest': 865, 'clap': 1557, 'safelyendang': 7435, 'webcom': 9402, 'dawson': 2053, 'titan': 8728, 'credit': 1876, 'hubcaprio': 4005, 'leonardodicaprio': 4934, 'jackdawson': 4449, 'leofan': 4931, 'tom': 8766, 'holland': 3924, 'gomi': 3475, 'headlin': 3769, 'scarfac': 7529, 'remak': 7150, 'sofia': 7964, 'vergara': 9206, 'checkmat': 1427, 'boo': 989, 'twfreethouchtproject': 8963, 'speech': 8064, 'discuss': 2302, 'corpor': 1801, 'greed': 3555, 'environ': 2673, 'hoil': 3916, 'yw': 9752, 'mona': 5653, 'lisa': 5020, 'transfer': 8830, 'canva': 1257, 'nightmar': 5948, 'trw': 8907, 'irrelev': 4385, 'gif': 3401, 'facta': 2836, 'winslet': 9546, 'nurs': 6038, 'fee': 2924, 'survivor': 8368, 'sell': 7618, 'memento': 5430, 'cash': 1303, 'profil': 6788, 'deeper': 2108, 'impress': 4195, 'improv': 4197, 'span': 8042, 'cole': 1635, 'sprous': 8115, 'begin': 771, 'danker': 2016, 'johnni': 4548, 'depp': 2171, 'thenewsclan': 8613, 'johnnydepp': 4549, 'keeli': 4659, 'flaherti': 3028, 'flahertyke': 3029, 'wshh': 9648, 'abc': 17, 'rose': 7351, 'retard': 7210, 'honest': 3947, 'prize': 6768, 'funnyintrovert': 3253, 'thefunnyintrovert': 8595, 'beam': 735, 'bourbon': 1021, 'liverpool': 5035, 'psg': 6835, 'mirat': 5576, 'fn': 3068, 'smoke': 7910, 'hide': 3849, 'repost': 7175, 'bahram': 638, 'persianthotz': 6473, 'qualiti': 6917, 'surreal': 8362, 'putin': 6895, 'ukrain': 9008, 'clp': 1601, 'courtesi': 1833, 'ampa': 278, 'workout': 9607, 'murder': 5761, 'cffi': 1375, 'holdingoscar': 3919, 'starecat': 8166, 'longest': 5080, 'greatest': 3552, 'daili': 1987, 'anytim': 366, 'theoscar': 8624, 'bestactoroftheyear': 824, 'thereven': 8631, 'behindscenesp': 778, 'martin': 5293, 'scorses': 7552, 'depart': 2166, 'rnxvyyht': 7292, 'russian': 7403, 'crunch': 1916, 'jizz': 4528, 'powder': 6689, 'sno': 7935, 'sand': 7461, 'silent': 7800, 'yoooo': 9725, 'steve': 8208, 'harvey': 3722, 'host': 3972, 'revis': 7224, 'milligan': 5547, 'nepal': 5885, 'copaamericafin': 1783, 'hiphopmemesdaili': 3881, 'maguir': 5190, 'bollywood': 980, 'film': 2984, 'awar': 577, 'officialtrollbollywood': 6104, 'joe': 4538, 'upset': 9127, 'disagre': 2290, 'svyd': 8374, 'rvzcb': 7412, 'colour': 1653, 'recent': 7071, 'activ': 72, 'patient': 6380, 'poor': 6645, 'impur': 4199, 'loui': 5109, 'omgggg': 6160, 'william': 9531, 'shookspear': 7748, 'dracomallfoy': 2432, 'savior': 7504, 'younger': 9732, 'mcconaughey': 5344, 'imma': 4178, 'inventori': 4360, 'prairi': 6702, 'prolong': 6794, 'estat': 2726, 'distract': 2329, 'imgiip': 4166, 'templat': 8519, 'increas': 4219, 'structur': 8269, 'clariti': 1559, 'andrew': 308, 'abernathi': 19, 'ajabernathi': 176, 'whatev': 9461, 'ade': 90, 'shuttersek': 7779, 'anton': 358, 'putterstock': 6897, 'sreter': 8132, 'erst': 2706, 'ck': 1552, 'shutterstock': 7782, 'imageidss': 4140, 'stock': 8224, 'flag': 3027, 'ersteck': 2707, 'shuttersto': 7781, 'imageid': 4139, 'bf': 842, 'afraid': 129, 'possibl': 6671, 'sexist': 7672, 'sweden': 8385, 'advertis': 116, 'watchdog': 9364, 'peak': 6411, 'coat': 1616, 'mar': 5259, 'invest': 4361, 'ugandan': 8999, 'knuckl': 4751, 'thatcleverfox': 8570, 'deadbeat': 2066, 'antonio': 359, 'guillem': 3610, 'mutterstock': 5777, 'shutterst': 7780, 'viminist': 9240, 'jungkook': 4608, 'artist': 458, 'youth': 9739, 'capit': 1264, 'tol': 8761, 'istock': 4418, 'getti': 3386, 'krage': 4769, 'sadanduseless': 7427, 'listock': 5023, 'os': 6225, 'dv': 2514, 'gani': 3316, 'iftock': 4104, 'jy': 4622, 'gizmodo': 3433, 'jackblack': 4448, 'sudden': 8308, 'teen': 8499, 'irl': 4378, 'evil': 2761, 'umbrella': 9016, 'poster': 6673, 'collector': 1639, 'power': 6690, 'resid': 7191, 'franchis': 3148, 'dollar': 2377, 'miniatur': 5564, 'shhhhhh': 7723, 'outward': 6260, 'inward': 4366, 'scream': 7560, 'launch': 4855, 'laser': 4842, 'perhap': 6463, 'translat': 8835, 'refrenc': 7105, 'reddit': 7087, 'sum': 8321, 'destroy': 2198, 'demis': 2146, 'hippomonstrosesquippedaliophobia': 3882, 'zip': 9775, 'asdr': 468, 'evilalway': 2762, 'medic': 5366, 'hn': 3902, 'cell': 1350, 'copi': 1785, 'thet': 8639, 'cellit': 1352, 'trash': 8841, 'recycl': 7085, 'mwhahahahaha': 5782, 'ant': 344, 'aussiemem': 546, 'au': 534, 'tellu': 8512, 'ssshhhhh': 8139, 'nhl': 5923, 'montreal': 5668, 'montrealmem': 5669, 'wewant': 9450, 'hunger': 4032, 'busi': 1180, 'limit': 5002, 'poorli': 6646, 'classifi': 1565, 'custom': 1961, 'tun': 8933, 'weekli': 9415, 'expand': 2789, 'venu': 9203, 'bout': 1022, 'teeni': 8501, 'deathbattl': 2076, 'helmet': 3814, 'villian': 9239, 'drevil': 2452, 'darkhelmet': 2029, 'austinpow': 548, 'spacebal': 8035, 'warhead': 9348, 'meeelion': 5371, 'medium': 5369, 'ihasahotdog': 4119, 'dress': 2451, 'nearli': 5853, 'nasti': 5828, 'hillari': 3867, 'rotten': 7357, 'clinton': 1582, 'babe': 599, 'qualifi': 6916, 'far': 2876, 'mini': 5563, 'frabz': 3140, 'harlem': 3707, 'pot': 6678, 'bowlghetto': 1028, 'elect': 2587, 'harder': 3701, 'freakingnew': 3160, 'makeamam': 5205, 'price': 6745, 'scalia': 7521, 'dow': 2425, 'superlotto': 8339, 'aillion': 164, 'billion': 885, 'lotteri': 5101, 'somewher': 7995, 'niec': 5937, 'fell': 2936, 'playstat': 6582, 'server': 7654, 'xbox': 9666, 'user': 9144, 'servic': 7655, 'stabl': 8143, 'averi': 568, 'bullock': 1154, 'ifi': 4099, 'hundr': 4030, 'billlilion': 887, 'pinki': 6549, 'ruler': 7387, 'uranu': 9134, 'wc': 9384, 'mey': 5499, 'cuerat': 1935, 'evi': 2758, 'trillion': 8869, 'spook': 8100, 'public': 6851, 'transit': 8834, 'michael': 5510, 'wolff': 9582, 'debatenight': 2082, 'candid': 1246, 'tion': 8723, 'shanna': 7692, 'fucc': 3210, 'skrillion': 7855, 'cryogen': 1920, 'zing': 9774, 'vape': 9185, 'mail': 5196, 'daugter': 2046, 'flip': 3047, 'nickel': 5932, 'millionar': 5551, 'desper': 2190, 'sobas': 7946, 'canteven': 1254, 'zipmem': 9776, 'swear': 8380, 'im': 4136, 'heheh': 3800, 'meson': 5485, 'lookbob': 5084, 'rp': 7371, 'toy': 8812, 'lolhappen': 5068, 'diaper': 2234, 'iso': 4412, 'cheek': 1430, 'idrunk': 4094, 'milk': 5541, 'factori': 2838, 'hormon': 3960, 'invit': 4364, 'nowher': 6020, 'peek': 6423, 'ishit': 4402, 'memeworld': 5450, 'instalik': 4301, 'instamood': 4303, 'instadaili': 4294, 'instacool': 4293, 'hart': 3719, 'tap': 8442, 'comin': 1673, 'applejuic': 391, 'whoe': 9493, 'nooooo': 5992, 'neverr': 5906, 'mma': 5618, 'scottish': 7554, 'woodsi': 9598, 'story': 8238, 'swap': 8377, 'accent': 43, 'consum': 1748, 'pronounc': 6800, 'weknowmem': 9428, 'grandma': 3529, 'innoc': 4279, 'iv': 4439, 'loudli': 5108, 'alleg': 217, 'ceil': 1347, 'cellar': 1351, 'whoever': 9494, 'dictionari': 2245, 'pig': 6537, 'spell': 8068, 'femin': 2944, 'mon': 5652, 'tue': 8923, 'thu': 8696, 'fri': 3179, 'sal': 7444, 'alli': 221, 'iran': 4376, 'bu': 1123, 'inch': 4209, 'apart': 374, 'feminist': 2947, 'pickl': 6528, 'longer': 5079, 'legitimaci': 4918, 'complaint': 1694, 'propos': 6810, 'solut': 7981, 'standard': 8160, 'prohibit': 6792, 'perpetu': 6470, 'stereotyp': 8205, 'weaker': 9388, 'lighten': 4988, 'ann': 329, 'kaplan': 4632, 'gaze': 3345, 'male': 5214, 'kodak': 4754, 'tx': 8977, 'career': 1282, 'babysit': 605, 'masturb': 5314, 'sew': 7668, 'muscular': 5763, 'curvi': 1958, 'thin': 8656, 'imgflipi': 4164, 'lust': 5144, 'wh': 9451, 'fend': 2952, 'agun': 154, 'alexi': 201, 'isabel': 4390, 'lexi': 4950, 'prez': 6743, 'holi': 3921, 'eee': 2560, 'actress': 75, 'gat': 3329, 'perli': 6466, 'por': 6656, 'startravelermem': 8173, 'kitchen': 4724, 'ttrigger': 8918, 'intersect': 4340, 'oxymoron': 6286, 'poll': 6634, 'misogynist': 5587, 'historian': 3891, 'excus': 2777, 'theinnkeeperlibrarian': 8601, 'leepacey': 4898, 'restaur': 7203, 'hometown': 3938, 'owner': 6284, 'special': 8057, 'proce': 6775, 'foundat': 3130, 'appropri': 399, 'gender': 3359, 'gap': 3318, 'parenthood': 6344, 'tand': 8435, 'hon': 3945, 'speal': 8054, 'boycott': 1032, 'sendgrid': 7627, 'boundari': 1019, 'conto': 1755, 'ideal': 4077, 'wast': 9360, 'preciou': 6711, 'energi': 2649, 'bullsh': 1155, 'chivalri': 1480, 'craze': 1863, 'livemem': 5032, 'sport': 8105, 'dontunderstand': 2402, 'defin': 2118, 'domest': 2383, 'decrimin': 2103, 'russia': 7402, 'jail': 4462, 'fist': 3016, 'german': 3378, 'tight': 8708, 'martial': 5291, 'spoiltmodernwaman': 8093, 'spoiltwoman': 8095, 'abras': 30, 'toll': 8765, 'confid': 1720, 'owl': 6282, 'oppress': 6200, 'third': 8663, 'fakepost': 2857, 'inabl': 4201, 'grasp': 3540, 'pull': 6862, 'frog': 3198, 'heterisexu': 3838, 'ptotest': 6846, 'cisgend': 1546, 'anglo': 320, 'saxon': 7507, 'attract': 532, 'random': 7004, 'siri': 7830, 'fragil': 3143, 'dode': 2358, 'uth': 9155, 'meht': 5380, 'princ': 6752, 'barber': 675, 'whatchu': 9459, 'kiran': 4720, 'banditqueen': 660, 'short': 7753, 'binder': 889, 'overal': 6263, 'fair': 2848, 'inclus': 4213, 'construct': 1745, 'compliment': 1700, 'milit': 5538, 'manchego': 5234, 'chees': 1436, 'mandolin': 5236, 'held': 3808, 'bra': 1037, 'beuk': 836, 'becki': 750, 'barnicoat': 686, 'unattract': 9028, 'wank': 9340, 'bugger': 1142, 'ars': 450, 'sermon': 7652, 'cesa': 1369, 'rosetta': 7352, 'comet': 1667, 'wich': 9509, 'officialinternet': 6100, 'sexual': 7674, 'harass': 3699, 'survey': 8366, 'goth': 3502, 'niccag': 5927, 'match': 5316, 'eaten': 2536, 'shark': 7695, 'handicap': 3676, 'park': 6345, 'plate': 6575, 'unauthor': 9029, 'sexpens': 7673, 'disabl': 2289, 'ahead': 156, 'oblig': 6061, 'thoma': 8669, 'jefferson': 4495, 'benefit': 805, 'tomato': 8770, 'couli': 1817, 'chine': 1476, 'mounti': 5713, 'uteru': 9153, 'inic': 4269, 'emma': 2624, 'watson': 9374, 'nyc': 6046, 'subway': 8304, 'interimperfect': 4328, 'vagina': 9172, 'whisk': 9485, 'magic': 5182, 'journey': 4579, 'tampoon': 8434, 'nevertheless': 5907, 'persist': 6474, 'youpress': 9733, 'thebutton': 8589, 'avatar': 562, 'oppressor': 6201, 'witch': 9562, 'vox': 9301, 'crash': 1859, 'border': 998, 'partiarchi': 6354, 'chaf': 1380, 'nazi': 5840, 'hyster': 4052, 'unfair': 9058, 'buket': 1146, 'combo': 1659, 'varianc': 9187, 'bounc': 1018, 'keidi': 4663, 'keildyyh': 4664, 'illeg': 4130, 'ticket': 8703, 'complex': 1697, 'redefin': 7090, 'triniti': 8872, 'patriarch': 6383, 'theolog': 8618, 'ada': 81, 'rong': 7340, 'gathshakira': 3333, 'conscious': 1734, 'abil': 22, 'intersection': 4341, 'professor': 6786, 'simultan': 7815, 'helpless': 3816, 'victim': 9226, 'patriarchi': 6384, 'septemb': 7642, 'itr': 4429, 'tt': 8917, 'wemd': 9432, 'quiz': 6951, 'gal': 3291, 'intern': 4330, 'misogyni': 5586, 'liz': 5038, 'arcuri': 418, 'teenag': 8500, 'abort': 26, 'lean': 4884, 'supremacist': 8351, 'capitalist': 1265, 'ladder': 4805, 'height': 3802, 'blow': 947, 'dialect': 2228, 'trap': 8840, 'struggl': 8271, 'subject': 8292, 'honor': 3951, 'suppo': 8347, 'weneedfemin': 9435, 'traducir': 8820, 'del': 2130, 'ingl': 4263, 'hockey': 3909, 'player': 6579, 'boti': 1014, 'period': 6464, 'regard': 7110, 'femishit': 2950, 'therapi': 8627, 'suddenli': 8309, 'sens': 7632, 'unlearn': 9083, 'harm': 3709, 'attend': 524, 'lgbtqiawtf': 4953, 'event': 2747, 'yr': 9742, 'judgement': 4589, 'heterosexu': 3839, 'agend': 142, 'queer': 6924, 'womanbornwoman': 9585, 'separatist': 7641, 'pronoun': 6799, 'gothshakira': 3503, 'purpos': 6882, 'maintain': 5199, 'distanc': 2327, 'ascertain': 466, 'intent': 4324, 'fuckjerrysdraft': 3216, 'ydefend': 9699, 'reproduct': 7178, 'gop': 3492, 'assault': 490, 'rifl': 7262, 'berni': 819, 'maddi': 5170, 'donat': 2390, 'breakdown': 1058, 'min': 5556, 'kpop': 4765, 'allkpop': 223, 'notto': 6014, 'momegener': 5644, 'children': 1465, 'redredwin': 7095, 'giveuahint': 3432, 'nolycrapb': 5980, 'digniti': 2265, 'palaeontolog': 6313, 'bff': 843, 'monsen': 5662, 'jori': 4572, 'john': 4547, 'squad': 8118, 'lover': 5118, 'idgaf': 4080, 'attitud': 529, 'friendss': 3191, 'hota': 3974, 'chutzpah': 1529, 'indianexpress': 4230, 'blood': 943, 'ketchup': 4673, 'vitalyz': 9270, 'betray': 833, 'hahahahaha': 3650, 'hahahahahaha': 3651, 'ton': 8777, 'meanwhil': 5359, 'qmarkipli': 6910, 'fi': 2966, 'rockst': 7311, 'blueberrytea': 953, 'besti': 825, 'renyaragavi': 7162, 'frnd': 3196, 'whykol': 9505, 'collegemem': 1641, 'xam': 9664, 'tum': 8928, 'dono': 2395, 'mere': 5475, 'dost': 2416, 'ho': 3905, 'wifi': 9514, 'restart': 7202, 'router': 7366, 'youpressthebutton': 9734, 'obes': 6058, 'forehead': 3096, 'bt': 1121, 'weirdo': 9426, 'afriands': 130, 'there': 8629, 'stress': 8255, 'yell': 9708, 'memion': 5453, 'influenc': 4253, 'imflip': 4155, 'mrmemel': 5728, 'insta': 4291, 'master': 5310, 'checkout': 1428, 'fool': 3086, 'weak': 9387, 'groupchat': 3586, 'nba': 5841, 'aint': 166, 'graduat': 3522, 'bye': 1196, 'matur': 5328, 'rur': 7398, 'bubbl': 1124, 'wrap': 9631, 'princess': 6753, 'consuela': 1746, 'bananahammock': 656, 'imfunni': 4156, 'signific': 7798, 'viciousveganvixen': 9224, 'blanket': 915, 'impact': 4184, 'loldamn': 5066, 'scare': 7527, 'extremist': 2817, 'daf': 1983, 'kup': 4783, 'titi': 8732, 'injur': 4273, 'infront': 4258, 'handl': 3677, 'someecard': 7988, 'picturequt': 6532, 'dorit': 2412, 'hazi': 3760, 'howev': 3990, 'girli': 3423, 'ishu': 4404, 'priceless': 6746, 'horoscop': 3963, 'gasp': 3328, 'arelazi': 421, 'hhd': 3844, 'histori': 3890, 'horrif': 3965, 'felt': 2940, 'inspir': 4289, 'walgreen': 9327, 'loser': 5093, 'shoplift': 7752, 'kindergarten': 4711, 'gymmemesandmotiv': 3632, 'yea': 9701, 'bodybuild': 969, 'crossfit': 1909, 'motiv': 5707, 'powerlift': 6693, 'bench': 797, 'deadlift': 2067, 'squat': 8121, 'gymmem': 3631, 'gymhumor': 3630, 'gymmotiv': 3633, 'legday': 4908, 'girlswholift': 3424, 'fitchick': 3018, 'fitspo': 3019, 'bossgirl': 1009, 'memelenleri': 5427, 'regular': 7121, 'luv': 5147, 'jjp': 4529, 'comedydotcom': 1666, 'funnyvideo': 3262, 'funnyaf': 3245, 'sketchcomedi': 7847, 'afriendofmin': 133, 'openli': 6190, 'contracept': 1757, 'safer': 7436, 'vegan': 9192, 'protein': 6821, 'bluebonnet': 954, 'theultim': 8642, 'colonel': 1648, 'mc': 5342, 'greentre': 3558, 'genewild': 3363, 'willywonka': 9534, 'rest': 7201, 'gene': 3361, 'wilder': 9524, 'isi': 4405, 'muslim': 5768, 'cia': 1531, 'defeat': 2114, 'toyota': 8813, 'gaanothscen': 3284, 'kiss': 4722, 'constantli': 1744, 'adderal': 86, 'xxi': 9681, 'dreamer': 2449, 'closest': 1593, 'jojo': 4554, 'dio': 2276, 'letdissemgoguy': 4941, 'innuendo': 4281, 'assembl': 491, 'slightli': 7877, 'side': 7791, 'thegainz': 8596, 'sorelat': 8010, 'gordon': 3493, 'colman': 1644, 'memez': 5451, 'luigi': 5138, 'relat': 7136, 'section': 7591, 'shitti': 7740, 'contou': 1756, 'june': 4606, 'comed': 1663, 'immort': 4182, 'instagram': 4297, 'excel': 2772, 'photograph': 6515, 'eyelin': 2822, 'marriak': 5285, 'yasss': 9696, 'wing': 9541, 'sharp': 7697, 'gofollow': 3464, 'pearlsuicid': 6414, 'throwback': 8693, 'skit': 7853, 'noon': 5991, 'ish': 4396, 'goty': 3507, 'song': 7998, 'oddli': 6086, 'catchi': 1316, 'cherri': 1449, 'invalid': 4356, 'pundit': 6867, 'willi': 9530, 'wonka': 9594, 'utopia': 9157, 'atheism': 511, 'religion': 7146, 'lgbt': 4952, 'fuckreligion': 3219, 'freethink': 3171, 'funnyatheist': 3246, 'secular': 7592, 'humanist': 4019, 'godless': 3460, 'jesuschrist': 4510, 'biblevers': 854, 'biblestudi': 853, 'sadli': 7431, 'golden': 3469, 'heaven': 3786, 'spread': 8110, 'laughter': 4854, 'owe': 6280, 'fizzi': 3024, 'rofurazzi': 7323, 'lotr': 5098, 'fellowship': 2939, 'paradis': 6336, 'blaze': 920, 'saddl': 7429, 'homag': 3930, 'unto': 9113, 'terminato': 8535, 'finito': 2997, 'jewish': 4515, 'grate': 3542, 'shed': 7706, 'lefthous': 4901, 'brilliant': 1078, 'surgeon': 8358, 'hump': 4027, 'watersto': 9372, 'ston': 8229, 'waterston': 9373, 'whore': 9500, 'sene': 7628, 'firstoffud': 3009, 'higher': 3853, 'frankenstein': 3152, 'stefan': 8198, 'karl': 4641, 'anyway': 367, 'hardest': 3702, 'strongest': 8267, 'will': 9527, 'wolf': 9581, 'solv': 7982, 'wond': 9589, 'paramount': 6340, 'viewiit': 9234, 'bulli': 1153, 'threat': 8679, 'drth': 2469, 'straighten': 8241, 'diylol': 2343, 'heavier': 3788, 'bat': 707, 'condescend': 1714, 'led': 4893, 'bull': 1150, 'craziest': 1866, 'fetch': 2959, 'rottweil': 7358, 'ti': 8702, 'repeat': 7165, 'shunter': 7776, 'sarah': 7474, 'mcgonagal': 5347, 'sarahmcgbeauti': 7475, 'articl': 455, 'brad': 1041, 'pitt': 6558, 'shadi': 7683, 'jul': 4598, 'deaf': 2069, 'getusi': 3389, 'roblox': 7306, 'ama': 246, 'breakup': 1060, 'ayoff': 589, 'conb': 1708, 'mang': 5240, 'prank': 6703, 'neda': 5860, 'seguro': 7606, 'romant': 7333, 'barrybe': 692, 'lotsofhumor': 5100, 'latina': 4849, 'chef': 1441, 'investig': 4362, 'sc': 7518, 'blsnapz': 950, 'gf': 3390, 'havea': 3745, 'memesgener': 5436, 'ahh': 158, 'mt': 5732, 'kolithi': 4756, 'poduvom': 6614, 'sexi': 7670, 'vagabond': 9171, 'saim': 7440, 'feelmyheartpain': 2927, 'oliviabosschick': 6147, 'sh': 7678, 'angelina': 314, 'cm': 1609, 'shrek': 7771, 'onto': 6178, 'respond': 7199, 'stfu': 8216, 'fella': 2937, 'gay': 3339, 'ignor': 4117, 'danger': 2010, 'finda': 2991, 'meregener': 5476, 'banki': 664, 'poo': 6638, 'squishi': 8130, 'multiplay': 5753, 'paus': 6393, 'brisisic': 1082, 'browser': 1106, 'comprimis': 1701, 'gne': 3451, 'vitamiind': 9271, 'itold': 4428, 'himi': 3871, 'asuppl': 505, 'bc': 725, 'himai': 3870, 'kushandwizdom': 4785, 'wholesom': 9497, 'wholesomemem': 9498, 'ift': 4102, 'pnkwcg': 6606, 'militari': 5539, 'suplex': 8345, 'map': 5258, 'laina': 4812, 'morri': 5691, 'overli': 6269, 'embrac': 2617, 'fame': 2863, 'homosexu': 3944, 'ener': 2648, 'buggieus': 1143, 'roar': 7295, 'plenti': 6589, 'sea': 7570, 'ador': 105, 'basic': 699, 'chuckl': 1515, 'heez': 3797, 'honestli': 3948, 'luck': 5133, 'overheard': 6268, 'aunt': 543, 'leti': 4942, 'manicomio': 5244, 'note': 6008, 'ten': 8524, 'twin': 8967, 'healthi': 3776, 'cook': 1768, 'pray': 6705, 'isold': 4413, 'imal': 4147, 'manetenleri': 5238, 'stab': 8142, 'laptop': 4832, 'pocket': 6610, 'tryna': 8910, 'background': 612, 'ju': 4585, 'sot': 8017, 'goin': 3466, 'havesid': 3748, 'memeeul': 5416, 'tomboy': 8771, 'hint': 3877, 'kourtney': 4763, 'kime': 4707, 'bajabernathi': 640, 'dramat': 2441, 'thinkin': 8661, 'sold': 7973, 'slaveri': 7867, 'humong': 4021, 'authent': 551, 'thalfeer': 8558, 'vera': 9205, 'lvl': 5150, 'becoz': 754, 'thaufeeq': 8577, 'pfunnyintrovert': 6494, 'thebraintickl': 8588, 'mern': 5483, 'lowkey': 5122, 'justgirli': 4615, 'tonk': 8782, 'xd': 9667, 'slappi': 7862, 'goosebump': 3490, 'goosebumpsmovi': 3491, 'funnymem': 3256, 'alarm': 193, 'ebeentheretho': 2541, 'vh': 9218, 'jealou': 4490, 'pl': 6564, 'bark': 681, 'aliensih': 208, 'iul': 4437, 'mill': 5543, 'trollm': 8885, 'confido': 1721, 'sobrno': 7949, 'command': 1676, 'imagur': 4146, 'proof': 6801, 'teletubbi': 8506, 'ly': 5152, 'kaliforniadream': 4625, 'giorgio': 3416, 'armani': 433, 'assassin': 489, 'hd': 3763, 'stalin': 8155, 'attila': 527, 'hun': 4029, 'genghi': 3364, 'khan': 4686, 'model': 5628, 'gabriel': 3285, 'boric': 1003, 'jackson': 4455, 'directv': 2284, 'channel': 1403, 'roommat': 7344, 'attempt': 523, 'replic': 7170, 'tsoukalo': 8913, 'famou': 2866, 'seal': 7571, 'pyramid': 6903, 'ty': 8979, 'gorgio': 3495, 'egyptian': 2573, 'april': 405, 'virtual': 9258, 'unbreak': 9032, 'comix': 1675, 'ed': 2547, 'momestach': 5646, 'tide': 8705, 'memegenr': 5425, 'cord': 1791, 'tangl': 8436, 'eig': 2575, 'sceool': 7537, 'georgio': 3375, 'sizechart': 7842, 'mastrub': 5313, 'barren': 688, 'wasteland': 9361, 'canada': 1239, 'firat': 3000, 'climb': 1580, 'pier': 6536, 'frassati': 3156, 'footi': 3092, 'chiellini': 1462, 'buffon': 1139, 'madrid': 5176, 'bayern': 717, 'cheillini': 1442, 'penalti': 6430, 'lug': 5137, 'weight': 9421, 'pill': 6542, 'speechabout': 8065, 'inequ': 4243, 'ing': 4259, 'ina': 4200, 'glorigo': 3445, 'jacket': 4451, 'burlap': 1171, 'spack': 8038, 'daft': 1984, 'morod': 5688, 'electron': 2591, 'microphon': 5515, 'spoke': 8096, 'exist': 2785, 'within': 9564, 'frame': 3145, 'greendolin': 3557, 'playerssay': 6580, 'cristiano': 1896, 'gold': 3468, 'aviat': 570, 'brunello': 1109, 'cucinelli': 1932, 'blazer': 921, 'sweetkaratemov': 8389, 'burberri': 1167, 'cambridg': 1225, 'slim': 7878, 'gucci': 3604, 'tailor': 8418, 'italian': 4422, 'silk': 7801, 'squar': 8119, 'lazytown': 4871, 'barclay': 677, 'rite': 7280, 'galli': 3295, 'zambro': 9760, 'probe': 6772, 'beth': 831, 'tsoukalici': 8912, 'mop': 5676, 'sauc': 7495, 'franc': 3146, 'trolootbal': 8886, 'footballtrol': 3091, 'brazil': 1052, 'javi': 4483, 'martinez': 5294, 'firework': 3005, 'independ': 4226, 'vulp': 9306, 'strep': 8254, 'roari': 7296, 'documentari': 2357, 'disrespect': 2323, 'prasl': 6704, 'luca': 5130, 'seaworld': 7584, 'bacon': 617, 'pasta': 6371, 'primavera': 6750, 'along': 232, 'xipolita': 9672, 'contract': 1758, 'circl': 1544, 'awkard': 583, 'item': 4425, 'paramountmovi': 6341, 'delet': 2134, 'paragraph': 6337, 'bitchhh': 902, 'vito': 9273, 'corleon': 1794, 'moviequotemonday': 5720, 'deceit': 2092, 'revolutionari': 7227, 'georg': 3372, 'orwel': 6224, 'arn': 439, 'noi': 5974, 'crook': 1905, 'inde': 4223, 'shame': 7688, 'enchan': 2637, 'temper': 8516, 'iye': 4443, 'notimeforbullshit': 6012, 'enemi': 2647, 'affect': 124, 'winni': 9545, 'pooh': 6639, 'surviv': 8367, 'cheerio': 1434, 'marin': 5274, 'cigarsandseastori': 1538, 'semper': 7622, 'result': 7206, 'gb': 3347, 'overshadow': 6272, 'massacr': 5308, 'sigh': 7793, 'badli': 626, 'fortnit': 3118, 'giusepp': 3428, 'blue': 951, 'jean': 4491, 'korean': 4762, 'sheeran': 7710, 'timesheet': 8717, 'unusu': 9115, 'uneasi': 9053, 'mountain': 5712, 'incestu': 4208, 'dragon': 2437, 'eshow': 2715, 'stank': 8162, 'incest': 4207, 'theon': 8619, 'thodou': 8668, 'fighter': 2975, 'champion': 1391, 'memet': 5444, 'podrick': 6613, 'payn': 6403, 'sho': 7743, 'dothraki': 2419, 'field': 2969, 'smash': 7897, 'except': 2773, 'greyjoy': 3566, 'greysad': 3567, 'reasonjonsnow': 7059, 'prisuxo': 6763, 'bestofgameofthron': 827, 'jorah': 4569, 'mormont': 5685, 'petyr': 6490, 'baelish': 630, 'guid': 3608, 'puusliwod': 6900, 'wealthi': 9390, 'knight': 4737, 'asoiafmem': 483, 'trial': 8858, 'combat': 1657, 'grey': 3565, 'worm': 9612, 'missandei': 5589, 'winterfel': 9549, 'jon': 4561, 'benjen': 810, 'trialbymem': 8860, 'nahari': 5805, 'thali': 8559, 'harrier': 3714, 'bijil': 875, 'wroon': 9644, 'wrogn': 9642, 'wdt': 9386, 'jdt': 4489, 'wpt': 9630, 'wri': 9637, 'zom': 9780, 'neil': 5874, 'nitin': 5962, 'mukesh': 5749, 'coopwhooo': 1780, 'promis': 6796, 'sansa': 7470, 'tormund': 8796, 'davo': 2051, 'ferment': 2954, 'crab': 1848, 'gameoflaugh': 3302, 'avocado': 571, 'supermarket': 8341, 'bran': 1046, 'ashwinska': 473, 'dive': 2335, 'chain': 1381, 'viserion': 9261, 'muscl': 5762, 'wildcard': 9523, 'littlefing': 5028, 'daeneri': 1982, 'tyrion': 8987, 'swt': 8399, 'ncwemmi': 5845, 'saddest': 7428, 'window': 9539, 'sweat': 8381, 'khal': 4685, 'degen': 2122, 'castl': 1306, 'wildl': 9525, 'coz': 1843, 'superpow': 8343, 'boromir': 1006, 'dani': 2011, 'mehdi': 5378, 'sehri': 7607, 'spent': 8071, 'coldest': 1634, 'part': 6351, 'westero': 9445, 'bare': 678, 'spurn': 8116, 'immedi': 4179, 'fanci': 2870, 'react': 7034, 'shift': 7727, 'walker': 9330, 'beyond': 841, 'lockup': 5056, 'chicken': 1458, 'hounl': 3981, 'kf': 4679, 'thronesmem': 8689, 'amaz': 249, 'rajkanwar': 6991, 'chopra': 1493, 'badi': 625, 'subtitl': 8303, 'downvot': 2427, 'effo': 2565, 'hound': 3980, 'crispi': 1895, 'gotmem': 3505, 'cocain': 1619, 'crack': 1851, 'bulanov': 1148, 'booz': 997, 'lannist': 4829, 'debt': 2084, 'lege': 4909, 'loan': 5046, 'rs': 7374, 'oper': 6191, 'system': 8409, 'io': 4367, 'tch': 8468, 'brace': 1039, 'congress': 1730, 'modi': 5631, 'targaryen': 8444, 'danygonebad': 2022, 'gameofthron': 3303, 'chess': 1451, 'dang': 2009, 'vishi': 9262, 'eddard': 2549, 'rejoin': 7134, 'dermatologist': 2175, 'skincar': 7850, 'trick': 8867, 'click': 1575, 'dumbest': 2494, 'choke': 1487, 'joffrey': 4545, 'teas': 8485, 'windmil': 9538, 'cmon': 1610, 'recaptur': 7067, 'ship': 7729, 'naot': 5816, 'jaun': 4482, 'annih': 333, 'jaim': 4463, 'realdailywir': 7042, 'whatjon': 9465, 'jonsnow': 4568, 'brush': 1110, 'bore': 1000, 'topic': 8792, 'sky': 7856, 'atlant': 515, 'hbo': 3761, 'puberti': 6849, 'sort': 8015, 'hat': 3734, 'regrow': 7119, 'bone': 985, 'voldemort': 9290, 'flaw': 3038, 'featur': 2918, 'lolmemez': 5070, 'nsfw': 6026, 'hill': 3866, 'jk': 4530, 'rowl': 7369, 'bliss': 931, 'oblivion': 6062, 'firewhiskey': 3004, 'etc': 2728, 'voldemart': 9288, 'emrummelovegood': 2634, 'haircut': 3657, 'hogwart': 3915, 'siriu': 7831, 'slotherin': 7884, 'mugglenet': 5744, 'ummmm': 9020, 'storm': 8237, 'crest': 1881, 'brushio': 1111, 'dentum': 2165, 'felip': 2934, 'herrera': 3833, 'chamber': 1385, 'learnta': 4887, 'wand': 9338, 'disappearl': 2292, 'horcrux': 3959, 'geta': 3381, 'memeconerator': 5409, 'symbol': 8401, 'eagl': 2521, 'raven': 7023, 'maraud': 5261, 'lili': 4997, 'snape': 7925, 'tommi': 8774, 'papa': 6328, 'muggl': 5743, 'avada': 561, 'kedavra': 4658, 'riddl': 7256, 'shirt': 7731, 'siriusli': 7832, 'slytherin': 7889, 'hagrid': 3646, 'honeyduk': 3950, 'hermion': 3827, 'wefcom': 9417, 'radio': 6976, 'perci': 6458, 'kneel': 4733, 'fred': 3161, 'withoutse': 9566, 'etch': 2729, 'chromosom': 1509, 'mau': 5330, 'keeper': 4661, 'forbidden': 3093, 'forest': 3098, 'safeti': 7437, 'prioriti': 6759, 'repeatedli': 7166, 'unstabl': 9107, 'ground': 3584, 'surround': 8364, 'thave': 8578, 'band': 658, 'hermoin': 3828, 'bethani': 832, 'nois': 5976, 'benedictscumberbatch': 803, 'seven': 7664, 'voldemo': 9289, 'ked': 4657, 'severuslilyalway': 7667, 'prefect': 6716, 'bathroom': 709, 'merlin': 5482, 'cho': 1482, 'flashback': 3033, 'moan': 5621, 'myrtl': 5792, 'daniel': 2013, 'radcliff': 6973, 'wig': 9515, 'desmotivacion': 2187, 'harrypotterdaili': 3716, 'bewitch': 839, 'wikipedia': 9519, 'unit': 9077, 'hashtag': 3727, 'wardrob': 9346, 'utsav': 9158, 'ojha': 6123, 'thatutsavojha': 8575, 'indian': 4229, 'dec': 2087, 'chosen': 1497, 'lennon': 4927, 'odd': 6085, 'favor': 2905, 'meangirlsofpanem': 5357, 'scar': 7526, 'shoe': 7745, 'nosi': 6006, 'plane': 6571, 'quidditch': 6942, 'snitch': 7934, 'docicerch': 2354, 'fking': 3025, 'dobbi': 2353, 'accessori': 46, 'outfit': 6249, 'cloak': 1587, 'sparkl': 8048, 'transport': 8838, 'travel': 8843, 'french': 3175, 'vodenart': 9281, 'elvi': 2611, 'youjustlearn': 9730, 'sneak': 7928, 'librari': 4968, 'pair': 6306, 'sock': 7955, 'velociraptor': 9201, 'shampoo': 7690, 'buffer': 1137, 'eme': 2618, 'screensav': 7562, 'arsen': 452, 'wizard': 9570, 'loceptioncow': 5053, 'villain': 9238, 'civilian': 1551, 'texan': 8548, 'shelter': 7718, 'joel': 4539, 'olsteen': 6148, 'umem': 9017, 'thousand': 8675, 'lo': 5044, 'ooo': 6182, 'smexi': 7903, 'baemillssey': 631, 'ot': 6232, 'yeahp': 9703, 'merri': 5484, 'baemillsslay': 632, 'quiet': 6943, 'geez': 3354, 'psat': 6833, 'reliz': 7147, 'interpret': 4336, 'hurrican': 4040, 'nake': 5808, 'oswald': 6231, 'jfk': 4517, 'niemeyerl': 5939, 'alun': 244, 'tarneeb': 8446, 'champ': 1390, 'eli': 2600, 'pentagon': 6441, 'paper': 6331, 'wpa': 9629, 'elizabeth': 2602, 'prom': 6795, 'naurut': 5834, 'blogspot': 940, 'mlb': 5615, 'debut': 2086, 'mai': 5195, 'cliff': 1577, 'themlbmem': 8610, 'fabot': 2826, 'bri': 1066, 'bigshtxtalk': 872, 'grater': 3543, 'papamoist': 6330, 'shouldnt': 7759, 'fema': 2941, 'isast': 4391, 'rellot': 7148, 'myn': 5791, 'groceri': 3577, 'henni': 3820, 'gang': 3311, 'resourc': 7196, 'togetintoimpact': 8757, 'area': 419, 'emerg': 2621, 'outta': 6259, 'iamstev': 4054, 'houston': 3986, 'zorg': 9785, 'fifth': 2971, 'element': 2593, 'yeet': 9707, 'sovereign': 8029, 'dounutti': 2424, 'rn': 7289, 'mbule': 5341, 'wboni': 9383, 'wew': 9449, 'disast': 2295, 'themat': 8605, 'content': 1752, 'boner': 987, 'pork': 6657, 'porkupin': 6658, 'pageant': 6300, 'fra': 3139, 'creator': 1874, 'irma': 4379, 'oreo': 6213, 'coupon': 1828, 'adam': 82, 'congrat': 1728, 'michigan': 5514, 'cotton': 1812, 'divorc': 2340, 'nfc': 5918, 'east': 2532, 'cowboy': 1841, 'phil': 6504, 'theme': 8606, 'cindi': 1541, 'poluta': 6636, 'missunivers': 5596, 'steveharvey': 8211, 'dm': 2348, 'diva': 2334, 'blog': 937, 'tomboyish': 8772, 'slobe': 7882, 'globe': 3442, 'ne': 5849, 'lalala': 4816, 'lade': 4806, 'moonlight': 5674, 'reuter': 7218, 'colombia': 1646, 'stillrealt': 8220, 'bah': 636, 'gawd': 3338, 'duidditig': 2489, 'officialrandomthought': 6102, 'woulda': 9622, 'bulong': 1158, 'carolina': 1293, 'undef': 9041, 'nfl': 5920, 'conflict': 1723, 'antichrist': 353, 'ste': 8189, 'ar': 409, 'upsid': 9128, 'matt': 5324, 'fastbal': 2891, 'pregnant': 6721, 'html': 4000, 'meta': 5490, 'charset': 1417, 'utf': 9154, 'equiv': 2689, 'css': 1925, 'ol': 6131, 'margin': 5270, 'pad': 6298, 'td': 8470, 'elon': 2608, 'musk': 5767, 'sub': 8290, 'pewd': 6492, 'guest': 3606, 'galen': 3293, 'stangyoass': 8161, 'bewar': 837, 'cheap': 1422, 'aceth': 60, 'tax': 8459, 'return': 7213, 'email': 2614, 'bettermem': 835, 'warrior': 9354, 'weinsteinp': 9423, 'cigar': 1536, 'bust': 1182, 'rig': 7263, 'primari': 6749, 'coal': 1614, 'miner': 5560, 'nation': 5829, 'shamelessli': 7689, 'deplor': 2167, 'clone': 1590, 'strategi': 8247, 'soro': 8012, 'interrupt': 4339, 'alert': 200, 'socket': 7956, 'teras': 8532, 'ut': 9151, 'justa': 4612, 'printer': 6757, 'peta': 6481, 'flat': 3034, 'eleph': 2596, 'turtl': 8946, 'snake': 7921, 'syndrom': 8405, 'kool': 4760, 'aid': 163, 'bradi': 1042, 'guilti': 3611, 'just': 4611, 'patriot': 6386, 'xx': 9680, 'besg': 821, 'terrif': 8537, 'tge': 8555, 'ebaumsworld': 2540, 'demograph': 2152, 'haventreceiv': 3747, 'amirightp': 270, 'sander': 7462, 'protest': 6822, 'segreg': 7604, 'senat': 7625, 'fund': 3236, 'prison': 6762, 'lobbyist': 5048, 'nolapoog': 5979, 'tablet': 8413, 'secretari': 7589, 'mentallyemancip': 5469, 'casey': 1302, 'anthoni': 351, 'vaticani': 9188, 'pope': 6650, 'wahhhhh': 9317, 'pizza': 6561, 'seizur': 7609, 'who': 9491, 'gentleman': 3369, 'readyforhillari': 7039, 'utubewayarmi': 9160, 'weekendathillari': 9414, 'clintoncollaps': 1583, 'animatron': 327, 'crimin': 1889, 'lion': 5013, 'centiped': 1359, 'proverb': 6827, 'canadian': 1240, 'hann': 3685, 'su': 8288, 'ws': 9647, 'eam': 2522, 'treason': 8845, 'reckless': 7077, 'arrog': 447, 'scandal': 7525, 'prone': 6798, 'oni': 6174, 'fdni': 2913, 'zero': 9768, 'rudi': 7381, 'giuliani': 3427, 'ralli': 6993, 'textual': 8550, 'deaux': 2080, 'dstfelix': 2474, 'epidem': 2681, 'danceri': 2008, 'track': 8817, 'irmgflip': 4380, 'heartless': 3780, 'sociopath': 7954, 'pace': 6291, 'payin': 6401, 'weiner': 9422, 'frontal': 3201, 'humuna': 4028, 'imagflip': 4143, 'diplomaci': 2279, 'cornerston': 1798, 'foreign': 3097, 'polici': 6628, 'palin': 6314, 'dobald': 2352, 'jiin': 4522, 'arent': 422, 'bright': 1076, 'jacob': 4456, 'satan': 7488, 'decad': 2088, 'rob': 7298, 'polmcal': 6635, 'conewild': 1718, 'dh': 2218, 'funnni': 3244, 'turd': 8939, 'tootsi': 8790, 'thope': 8670, 'bot': 1011, 'feelthebernz': 2930, 'asid': 476, 'butthol': 1189, 'attn': 530, 'dnc': 2350, 'highway': 3857, 'toddler': 8750, 'fetu': 2961, 'logic': 5060, 'snowden': 7940, 'imprison': 4196, 'compromis': 1702, 'hip': 3878, 'hop': 3957, 'donna': 2394, 'sean': 7573, 'hanniti': 3687, 'bruuuuuuhhhh': 1113, 'notmypit': 6013, 'foil': 3075, 'freedom': 3165, 'slogan': 7883, 'swung': 8400, 'campaign': 1235, 'evid': 2760, 'blatantli': 919, 'clear': 1572, 'skeleton': 7845, 'closet': 1594, 'cemeteri': 1353, 'liber': 4965, 'mistrust': 5601, 'governor': 3512, 'penc': 6431, 'corn': 1795, 'mark': 5277, 'lewi': 4949, 'mod': 5626, 'censor': 1356, 'guarante': 3602, 'andat': 297, 'rex': 7233, 'veryoldand': 9212, 'nicknam': 5935, 'rambuncti': 6997, 'reptilian': 7180, 'museum': 5765, 'prefer': 6718, 'racism': 6968, 'race': 6964, 'imao': 4149, 'imfao': 4154, 'tweegram': 8960, 'photooftheday': 6516, 'wacki': 9311, 'witti': 9567, 'instahappi': 4299, 'instagood': 4296, 'instafun': 4295, 'funnypictur': 3260, 'humor': 4022, 'chemic': 1443, 'polish': 6629, 'ius': 4438, 'dispos': 2318, 'usual': 9150, 'leader': 4879, 'germani': 3379, 'boi': 974, 'frigger': 3194, 'sr': 8131, 'lvce': 5149, 'rennebrog': 7160, 'eur': 2736, 'rexf': 7234, 'fuhreri': 3225, 'rorisot': 7349, 'mighti': 5526, 'taylor': 8461, 'swift': 8392, 'fascist': 2887, 'jew': 4512, 'mussolini': 5770, 'admir': 100, 'hipster': 3883, 'celebr': 1349, 'beforeit': 768, 'memegeneratornet': 5423, 'mexico': 5498, 'spooki': 8101, 'nauseatingnut': 5835, 'toilet': 8758, 'flush': 3065, 'poopoo': 6644, 'cape': 1263, 'antisemit': 356, 'lurk': 5143, 'explicitli': 2800, 'almighti': 229, 'wii': 9516, 'muss': 5769, 'zi': 9770, 'tall': 8428, 'riden': 7258, 'zie': 9771, 'adolf': 102, 'berlin': 817, 'march': 5263, 'poland': 6623, 'yor': 9726, 'heil': 3803, 'planet': 6572, 'jewpit': 4516, 'zac': 9755, 'efron': 2567, 'barack': 671, 'extrem': 2816, 'similar': 7807, 'holla': 3923, 'jerk': 4502, 'corbi': 1790, 'bunker': 1162, 'gari': 3323, 'surrend': 8363, 'netanyahu': 5896, 'cage': 1208, 'indefinit': 4225, 'siga': 7792, 'promot': 6797, 'worldwid': 9611, 'desir': 2184, 'soviettoucan': 8031, 'soviet': 8030, 'toucan': 8802, 'bealpap': 734, 'imgac': 4158, 'fascism': 2886, 'cure': 1949, 'miguel': 5529, 'unamuno': 9025, 'az': 592, 'quqt': 6957, 'wism': 9560, 'brithday': 1085, 'damniti': 2001, 'phelp': 6502, 'racistmem': 6970, 'seat': 7580, 'gulag': 3617, 'ww': 9653, 'unlock': 9088, 'whatif': 9464, 'comrad': 1704, 'dunn': 2502, 'agreement': 152, 'quicksav': 6939, 'occupi': 6077, 'democrat': 2150, 'yep': 9710, 'tyrant': 8985, 'enabl': 2636, 'teapainusa': 8483, 'pepol': 6450, 'memebucket': 5400, 'graze': 3548, 'vrati': 9303, 'lig': 4985, 'whatcha': 9458, 'naze': 5839, 'sia': 7786, 'prglect': 6744, 'moral': 5677, 'reliabl': 7143, 'thenwowillfail': 8615, 'danish': 2014, 'hitlerdidnothingwrong': 3895, 'raindrop': 6987, 'dodg': 2359, 'pussi': 6890, 'goddamn': 3457, 'veggi': 9196, 'rudolf': 7382, 'hess': 3836, 'mein': 5381, 'kampf': 4629, 'grammar': 3524, 'gc': 3350, 'debunk': 2085, 'leftist': 4902, 'erva': 2708, 'unfortun': 9061, 'submi': 8293, 'conserv': 1738, 'kumbaya': 4780, 'fought': 3127, 'pacif': 6292, 'regardless': 7111, 'whether': 9479, 'imperi': 4187, 'neo': 5883, 'coloni': 1649, 'mugab': 5742, 'disney': 2314, 'transfus': 8832, 'urg': 9137, 'preheat': 6722, 'dilig': 2267, 'artifact': 456, 'spooktob': 8102, 'doot': 2408, 'out': 6245, 'wearetheworst': 9394, 'machin': 5164, 'nein': 5875, 'darl': 2033, 'tallto': 8429, 'reicht': 7123, 'auschwitz': 545, 'crime': 1887, 'lmfao': 5043, 'imaginari': 4145, 'comfort': 1671, 'confront': 1724, 'decay': 2091, 'western': 9444, 'plu': 6595, 'aw': 574, 'carrey': 1295, 'alllllrighti': 224, 'eater': 2537, 'wilfordbrimli': 9526, 'reflect': 7103, 'role': 7328, 'ilook': 4134, 'demeuerleidtor': 2145, 'knee': 4732, 'livet': 5037, 'christi': 1504, 'lacma': 4802, 'dye': 2518, 'exponenti': 2804, 'thinki': 8660, 'uniqu': 9076, 'refresh': 7106, 'meeeeee': 5370, 'rnc': 7291, 'thestranglesquad': 8638, 'richand': 7247, 'illiter': 4132, 'wealthiest': 9391, 'godli': 3461, 'roast': 7297, 'hedgehog': 3793, 'proudli': 6824, 'photobucket': 6511, 'amask': 248, 'auto': 556, 'atthefucho': 526, 'bedrock': 758, 'erod': 2700, 'beneath': 801, 'involv': 4365, 'dontlook': 2400, 'manson': 5251, 'um': 9015, 'nstructo': 6028, 'reput': 7183, 'allir': 222, 'carpet': 1294, 'dammit': 1999, 'stealth': 8192, 'lifetim': 4983, 'caitlyn': 1210, 'jenner': 4500, 'carey': 1284, 'spencer': 8069, 'wednesday': 9407, 'pmwhiphop': 6603, 'accur': 57, 'percept': 6457, 'capadi': 1262, 'superior': 8337, 'capac': 1261, 'sensit': 7636, 'snowflak': 7941, 'thicker': 8652, 'aggreg': 145, 'npc': 6021, 'jaoquin': 4474, 'phoenix': 6508, 'gamer': 3304, 'mametent': 5230, 'pee': 6421, 'pool': 6640, 'anev': 310, 'greak': 3549, 'semest': 7620, 'gayer': 3341, 'rpg': 7372, 'remedi': 7152, 'cum': 1940, 'wide': 9511, 'hahahahahahahahaha': 3652, 'friendli': 3185, 'trendingnut': 8855, 'quikemem': 6945, 'harley': 3708, 'quinn': 6946, 'senseless': 7635, 'veteran': 9215, 'oppos': 6198, 'troop': 8889, 'veronica': 9207, 'backstab': 614, 'chad': 1379, 'dolez': 2373, 'lsoe': 5127, 'thier': 8653, 'tor': 8795, 'ditf': 2333, 'smoker': 7911, 'unhealthi': 9066, 'superman': 8340, 'lsd': 5126, 'heroin': 3832, 'meth': 5493, 'confess': 1719, 'mallard': 5218, 'chao': 1405, 'amus': 280, 'affleck': 126, 'fucker': 3213, 'filthi': 2987, 'arkham': 430, 'whent': 9476, 'marvelousjok': 5299, 'includ': 4212, 'extend': 2809, 'dialogu': 2229, 'cesar': 1370, 'romero': 7335, 'alter': 241, 'factsofcom': 2839, 'romeo': 7334, 'juliet': 4602, 'sake': 7443, 'manipul': 5246, 'lunat': 5140, 'stockholm': 8225, 'dc': 2059, 'adjust': 97, 'leftit': 4903, 'hath': 3739, 'inconvenienc': 4216, 'smh': 7904, 'ugh': 9001, 'fml': 3067, 'thebatbrand': 8582, 'curio': 1951, 'heath': 3784, 'ledger': 4895, 'impract': 4194, 'rhubarb': 7241, 'mfh': 5500, 'ronald': 7338, 'traffic': 8821, 'byacyclist': 1195, 'overtak': 6273, 'jare': 4478, 'leto': 4943, 'fabul': 2827, 'nicer': 5929, 'rail': 6984, 'puddin': 6856, 'laid': 4810, 'intens': 4322, 'addict': 87, 'brutal': 1112, 'bale': 647, 'igi': 4113, 'wonderwomandatman': 9592, 'xs': 9679, 'werdi': 9439, 'sparta': 8050, 'morticia': 5695, 'gomez': 3474, 'wick': 9510, 'injuri': 4274, 'boneless': 986, 'ismil': 4410, 'ou': 6242, 'common': 1684, 'shatter': 7700, 'delus': 2141, 'crazier': 1865, 'thi': 8649, 'atom': 518, 'yu': 9743, 'pi': 6521, 'nuclear': 6033, 'typicalterom': 8984, 'jong': 4565, 'circa': 1543, 'unimgflip': 9071, 'kg': 4681, 'breakbrunch': 1057, 'tu': 8919, 'ui': 9006, 'sega': 7602, 'dominickwashington': 2386, 'aliseca': 211, 'realdonald': 7043, 'north': 6002, 'sep': 7639, 'kimjong': 4708, 'he': 3764, 'airlin': 169, 'program': 6790, 'legit': 4917, 'nhz': 5924, 'il': 4127, 'heir': 3805, 'oldest': 6141, 'nam': 5811, 'japan': 4475, 'disneyland': 2315, 'useless': 9143, 'scoop': 7549, 'posnanski': 6668, 'tonyposanski': 8785, 'dotard': 2418, 'deux': 2209, 'chant': 1404, 'sassi': 7485, 'greuter': 3563, 'missil': 5590, 'squash': 8120, 'marshmallow': 5288, 'rabbit': 6961, 'escap': 2711, 'chong': 1491, 'lil': 4996, 'reincarn': 7128, 'edc': 2548, 'opposit': 6199, 'badasseri': 621, 'remain': 7149, 'chines': 1477, 'microwav': 5517, 'stuffistumbl': 8280, 'jung': 4607, 'lb': 4872, 'anex': 311, 'allamerican': 215, 'skinni': 7851, 'situat': 7838, 'intimid': 4348, 'shangai': 7691, 'island': 4409, 'joyreactor': 4581, 'twinki': 8969, 'tempt': 8522, 'wundum': 9652, 'brink': 1081, 'mixtap': 5612, 'missl': 5593, 'humorkingdom': 4024, 'buffet': 1138, 'unsuccess': 9109, 'liam': 4956, 'harryslut': 3717, 'mili': 5536, 'jessic': 4508, 'redneck': 7093, 'dlau': 2346, 'miley': 5535, 'neeson': 5864, 'disturb': 2331, 'incid': 4210, 'defi': 2117, 'council': 1819, 'declin': 2100, 'contact': 1749, 'howlett': 3992, 'duff': 2486, 'elena': 2595, 'elma': 2604, 'saber': 7418, 'cart': 1298, 'delena': 2133, 'stelena': 8199, 'vaccin': 9166, 'persu': 6478, 'biolog': 893, 'muh': 5746, 'destori': 2197, 'sober': 7948, 'kindli': 4712, 'reassur': 7060, 'duz': 2513, 'karat': 4636, 'muai': 5735, 'thai': 8557, 'nr': 6023, 'redund': 7097, 'vicki': 9225, 'woah': 9575, 'ahren': 162, 'goodluckahren': 3486, 'li': 4954, 'mrice': 5727, 'england': 2654, 'artifici': 457, 'jam': 4465, 'shoutout': 7762, 'antagonist': 345, 'bug': 1140, 'andi': 301, 'niall': 5925, 'nike': 5951, 'dissapoint': 2325, 'oliv': 6146, 'willfind': 9529, 'starwar': 8178, 'trivia': 8880, 'qui': 6928, 'script': 7565, 'onedirect': 6171, 'harrystyl': 3718, 'niallhoran': 5926, 'liampayn': 4961, 'louistomlinson': 5110, 'zaynmalik': 9764, 'larrystylinson': 4838, 'troyesivan': 8893, 'troy': 8892, 'accommod': 51, 'zayn': 9763, 'itsyaboi': 4433, 'yer': 9711, 'jab': 4444, 'melon': 5389, 'gallagh': 3294, 'liamgallagh': 4958, 'recov': 7083, 'wknd': 9571, 'fook': 3085, 'lg': 4951, 'hap': 3688, 'asf': 469, 'liaamburn': 4955, 'appar': 383, 'hasslehoff': 3733, 'hoff': 3913, 'hassl': 3732, 'liamdunn': 4957, 'liamsweeney': 4962, 'pencil': 6432, 'slari': 7863, 'liammc': 4959, 'unawar': 9030, 'demon': 2153, 'chat': 1420, 'mybestiesay': 5783, 'maggi': 5181, 'grace': 3520, 'idri': 4093, 'elba': 2583, 'monster': 5663, 'pearer': 6413, 'marthburton': 5290, 'noic': 5975, 'sooo': 8007, 'botdog': 1012, 'josh': 4574, 'wemer': 9433, 'inappropri': 4204, 'hemsworth': 3817, 'goodmorn': 3487, 'beckham': 749, 'faucratch': 2901, 'mometenl': 5647, 'quicki': 6931, 'meineyener': 5382, 'wood': 9597, 'sheep': 7707, 'dogandthimbl': 2366, 'wrydirect': 9646, 'afungi': 137, 'brit': 1083, 'mychubbi': 5784, 'gayboy': 3340, 'appteci': 402, 'grant': 3535, 'liver': 5034, 'fewer': 2963, 'precis': 6712, 'hobbit': 3908, 'isengard': 4393, 'axe': 586, 'memescrunch': 5433, 'aragorn': 413, 'elvish': 2612, 'recal': 7066, 'misti': 5600, 'moria': 5683, 'bunch': 1161, 'jewelri': 4514, 'spreadabl': 8111, 'ringsyou': 7273, 'heat': 3783, 'pose': 6665, 'bilbo': 880, 'gollum': 3473, 'clau': 1568, 'robe': 7302, 'attir': 528, 'unexpect': 9056, 'fontan': 3083, 'ingflip': 4261, 'rewatch': 7230, 'pansi': 6323, 'denethor': 2156, 'kingslay': 4716, 'stewardslay': 8214, 'gondor': 3479, 'prayer': 6706, 'theoden': 8616, 'temporari': 8521, 'bother': 1013, 'deathstar': 2078, 'groot': 3581, 'truli': 8899, 'grima': 3572, 'wyrmtongu': 9663, 'slowli': 7886, 'seth': 7659, 'imour': 4183, 'bi': 850, 'breakfast': 1059, 'pip': 6553, 'pc': 6406, 'desktop': 2186, 'fridg': 3183, 'on': 6165, 'anal': 284, 'pregam': 6719, 'waiter': 9320, 'caution': 1332, 'trinket': 8873, 'bow': 1023, 'reap': 7054, 'wyo': 9660, 'realm': 7052, 'rout': 7365, 'lotrmem': 5099, 'baggin': 634, 'term': 8534, 'itun': 4435, 'shire': 7730, 'naah': 5801, 'grandmoth': 3530, 'figurin': 2977, 'indi': 4227, 'poison': 6619, 'tale': 8424, 'wormtongu': 9613, 'drug': 2470, 'bold': 979, 'gemini': 3358, 'smeagol': 7899, 'melt': 5390, 'minionquot': 5568, 'despicablememinion': 2193, 'sabbath': 7416, 'imgfilp': 4161, 'darker': 2028, 'warmer': 9350, 'colder': 1633, 'louder': 5106, 'outstand': 6258, 'inher': 4266, 'inhuman': 4268, 'earn': 2527, 'toler': 8763, 'drama': 2440, 'olaf': 6132, 'breast': 1061, 'thigh': 8655, 'kfc': 4680, 'turkey': 8943, 'frozen': 3205, 'grandpa': 3531, 'grandson': 3533, 'tragic': 8823, 'forti': 3117, 'smartass': 7894, 'profession': 6785, 'obviou': 6070, 'fluent': 3062, 'dontget': 2397, 'wierd': 9512, 'yuck': 9744, 'amina': 269, 'exercis': 2780, 'jump': 4604, 'conclus': 1713, 'marbl': 5262, 'politician': 6633, 'minimum': 5566, 'easili': 2531, 'stuf': 8278, 'cop': 1782, 'despic': 2191, 'meminion': 5452, 'symptom': 8403, 'carburet': 1277, 'mshotyour': 5731, 'geti': 3382, 'bail': 639, 'seed': 7596, 'pound': 6684, 'kidnap': 4695, 'locat': 5052, 'lip': 5015, 'een': 2562, 'sciss': 7546, 'wander': 9339, 'cherish': 1448, 'hidden': 3848, 'perfectli': 6460, 'tuesday': 8924, 'backward': 616, 'oo': 6179, 'cam': 1224, 'basi': 698, 'inject': 4272, 'your': 9735, 'feet': 2931, 'drain': 2438, 'ginna': 3413, 'expel': 2792, 'pajama': 6308, 'preefer': 6715, 'molest': 5639, 'fart': 2884, 'patienc': 6379, 'virtu': 9257, 'suffer': 8312, 'speed': 8067, 'beacaus': 730, 'bet': 829, 'sung': 8330, 'hunk': 4034, 'huaband': 4004, 'alik': 209, 'snaughflatul': 7927, 'fa': 2824, 'snort': 7937, 'gapbagep': 3320, 'interact': 4325, 'sashim': 7483, 'freakin': 3159, 'eight': 2576, 'hay': 3757, 'justifi': 4619, 'intestin': 4344, 'blew': 927, 'wasnt': 9358, 'african': 132, 'tee': 8497, 'punquot': 6872, 'coolupon': 1776, 'seeley': 7599, 'oldvcut': 6142, 'keerata': 4662, 'gapbagap': 3319, 'anger': 316, 'size': 7841, 'mcweiner': 5351, 'freezer': 3173, 'wat': 9362, 'underton': 9047, 'sheer': 7709, 'lack': 4801, 'decenc': 2094, 'fyck': 3281, 'robber': 7299, 'tijuana': 8709, 'cking': 1554, 'rope': 7348, 'surfac': 8357, 'mofo': 5636, 'kuronekofag': 4784, 'thate': 8572, 'despicablememenion': 2192, 'homework': 3939, 'quotesidea': 6956, 'ook': 6181, 'charm': 1416, 'older': 6140, 'biunc': 908, 'elementari': 2594, 'glue': 3448, 'peel': 6424, 'partyy': 6361, 'fertil': 2956, 'zam': 9759, 'research': 7187, 'chevi': 1453, 'impala': 4185, 'uari': 8989, 'throwa': 8692, 'brick': 1071, 'determin': 2206, 'iceland': 4069, 'quickli': 6934, 'recess': 7072, 'bankster': 667, 'sexism': 7671, 'cinderella': 1540, 'kanna': 4630, 'lotu': 5103, 'fivestar': 3022, 'dvd': 2515, 'soic': 7968, 'filan': 2979, 'hatefulc': 3737, 'nt': 6029, 'viral': 9253, 'bigotri': 870, 'xenophobia': 9670, 'islamophobia': 4408, 'hatr': 3741, 'proudliber': 6825, 'nevertrump': 5908, 'feminin': 2946, 'womanhood': 9586, 'courteshillari': 1832, 'memati': 5393, 'mysogyni': 5794, 'eastcoasteden': 2533, 'prostitut': 6816, 'tnfiw': 8741, 'instacomedi': 4292, 'chun': 1520, 'trivialoz': 8881, 'greta': 3562, 'christina': 1506, 'heathen': 3785, 'scoopwhoop': 7550, 'karen': 4639, 'attwood': 533, 'alibi': 206, 'ghostbust': 3395, 'resist': 7192, 'recism': 7075, 'narciss': 5820, 'press': 6737, 'democraci': 2149, 'critic': 1898, 'seniti': 7630, 'reiner': 7130, 'shotgun': 7756, 'shell': 7716, 'rebelli': 7062, 'rednecked': 7094, 'faster': 2893, 'profess': 6784, 'easi': 2529, 'quota': 6954, 'scheme': 7539, 'diabet': 2226, 'wayyyi': 9380, 'winston': 9547, 'churchil': 1528, 'chronicl': 1511, 'lightskin': 4991, 'guard': 3603, 'obedi': 6057, 'wive': 9568, 'icanhasacheezburg': 4062, 'occorr': 6075, 'landlin': 4825, 'yup': 9748, 'thefreshpickl': 8593, 'pluck': 6596, 'statement': 8183, 'republican': 7182, 'dedic': 2104, 'poutica': 6686, 'internalis': 4331, 'homophobia': 3943, 'bigot': 869, 'tfyc': 8553, 'amk': 272, 'chaaiti': 1377, 'jamalmason': 4467, 'newsround': 5912, 'misandri': 5578, 'misanthropi': 5579, 'chanc': 1395, 'tricar': 8866, 'growl': 3588, 'retreat': 7212, 'lovethisp': 5119, 'passang': 6364, 'pardon': 6342, 'misgend': 5584, 'crem': 1880, 'helado': 3807, 'shoulder': 7758, 'discrimin': 2301, 'prove': 6826, 'onekoreanboi': 6172, 'muhnamegeoff': 5748, 'ava': 560, 'flav': 3036, 'feminista': 2948, 'minor': 5571, 'diana': 2233, 'root': 7347, 'signal': 7796, 'scotti': 7553, 'privileg': 6766, 'trade': 8818, 'disprov': 2320, 'isgay': 4395, 'fu': 3209, 'skip': 7852, 'ace': 59, 'screenshot': 7563, 'scariest': 7531, 'imgflio': 4162, 'greg': 3560, 'curenc': 1950, 'essenti': 2721, 'sensat': 7633, 'iknow': 4126, 'grown': 3589, 'arvind': 461, 'kejriw': 4665, 'trollkejri': 8884, 'hjoke': 3897, 'remot': 7157, 'vaniti': 9184, 'backbench': 610, 'row': 7367, 'assign': 493, 'asia': 474, 'nay': 5838, 'pyi': 6902, 'taw': 8458, 'radar': 6972, 'seller': 7619, 'uni': 9067, 'equali': 2687, 'prosperi': 6814, 'uttar': 9159, 'pradesh': 6699, 'acr': 68, 'isent': 4394, 'hereto': 3825, 'decreas': 2102, 'petrol': 6485, 'pais': 6307, 'photod': 6512, 'wherev': 9478, 'tamilnadu': 8431, 'english': 2655, 'namo': 5813, 'har': 3698, 'mitron': 5607, 'tcc': 8467, 'igiet': 4114, 'mission': 5591, 'accomplish': 52, 'hardik': 3703, 'rahul': 6981, 'karan': 4634, 'johar': 4546, 'cbscdc': 1336, 'isupp': 4419, 'narendra': 5821, 'base': 695, 'reserv': 7189, 'mensrafein': 5466, 'gandhi': 3310, 'largest': 4836, 'pak': 6309, 'sahara': 7438, 'mm': 5617, 'ter': 8531, 'gu': 3599, 'forefer': 3095, 'intha': 4345, 'reen': 7101, 'central': 1360, 'maltes': 5220, 'passpo': 6368, 'practis': 6698, 'capitol': 1266, 'buddybit': 1132, 'prisma': 6761, 'incindia': 4211, 'chowdar': 1500, 'chori': 1495, 'chupk': 1526, 'lovenoth': 5117, 'anil': 325, 'ambani': 253, 'chowkidar': 1501, 'crore': 1906, 'aditya': 96, 'birla': 895, 'bribe': 1070, 'grobiend': 3576, 'annexur': 332, 'novemb': 6016, 'octob': 6082, 'gujarat': 3616, 'cr': 1847, 'ramak': 6996, 'saboo': 7419, 'wef': 9416, 'decor': 2101, 'mohanda': 5637, 'jawaharl': 4485, 'nehru': 5869, 'fca': 2912, 'wot': 9620, 'protector': 6819, 'moccow': 5624, 'vodka': 9282, 'sarkar': 7482, 'addtext': 89, 'pradhan': 6700, 'sevak': 7663, 'mantri': 5254, 'perfum': 6462, 'entertal': 2665, 'melenia': 5387, 'sniff': 7933, 'apolog': 379, 'tamizhisai': 8432, 'nomin': 5982, 'prestigi': 6738, 'minist': 5569, 'pinkvilla': 6550, 'samsung': 7456, 'deliv': 2138, 'obc': 6056, 'popular': 6655, 'union': 9074, 'cabinet': 1204, 'sri': 8133, 'ordin': 6210, 'court': 1831, 'rohit': 7326, 'shetti': 7721, 'thw': 8701, 'whr': 9502, 'ppl': 6695, 'deposit': 2170, 'access': 45, 'relief': 7144, 'manmohan': 5247, 'singh': 7824, 'tb': 8462, 'bharat': 847, 'ratna': 7020, 'adhm': 94, 'sach': 7420, 'mitroon': 5608, 'yuvi': 9751, 'lakh': 4815, 'buckaroo': 1127, 'throat': 8687, 'deepthroat': 2111, 'swix': 8397, 'cough': 1815, 'hasnt': 3729, 'tc': 8465, 'cinema': 1542, 'monthli': 5666, 'mortgag': 5694, 'payment': 6402, 'propbabl': 6805, 'wont': 9595, 'propan': 6804, 'mount': 5711, 'rainier': 6988, 'shadow': 7684, 'rise': 7278, 'esko': 2717, 'dew': 2216, 'givethi': 3431, 'tasti': 8450, 'vomit': 9294, 'medicin': 5367, 'pharmacist': 6498, 'associ': 495, 'uberti': 8991, 'morpheu': 5690, 'baad': 597, 'matrix': 5323, 'whati': 9463, 'iftold': 4105, 'grammarli': 3525, 'chariti': 1411, 'ferret': 2955, 'thefreethouchtproject': 8592, 'heavili': 3789, 'foster': 3123, 'unrealist': 9098, 'manufactur': 5255, 'allegi': 218, 'entiti': 2668, 'masouerad': 5306, 'envi': 2672, 'limewir': 5001, 'kazaa': 4653, 'lantern': 4830, 'pedo': 6418, 'appealseu': 385, 'gifmak': 3403, 'sausag': 7499, 'anagram': 282, 'mosh': 5699, 'doorknob': 2407, 'clearli': 1573, 'disquis': 2321, 'curti': 1957, 'bo': 962, 'zulu': 9795, 'indigen': 4234, 'dui': 2488, 'cyberbulli': 1971, 'brian': 1067, 'dese': 2181, 'drown': 2467, 'mememak': 5428, 'steemit': 8197, 'treatment': 8848, 'mute': 5775, 'calcul': 1213, 'kno': 4742, 'tumbir': 8929, 'rattata': 7021, 'lookin': 5085, 'operti': 6192, 'briant': 1069, 'surf': 8356, 'woke': 9580, 'deform': 2121, 'custodi': 1959, 'ambul': 259, 'infect': 4247, 'kyle': 4795, 'craven': 1861, 'badluckbrian': 628, 'badluck': 627, 'frack': 3141, 'hairspray': 3662, 'frackfe': 3142, 'hypnotist': 4046, 'hypnot': 4045, 'mic': 5508, 'foot': 3088, 'haunt': 3744, 'unlucki': 9090, 'monocl': 5659, 'detent': 2205, 'strangl': 8244, 'automat': 558, 'trajectori': 8827, 'angl': 318, 'data': 2039, 'tutori': 8952, 'bucket': 1128, 'megener': 5375, 'stereo': 8204, 'nintendo': 5957, 'boytm': 1034, 'integr': 4315, 'meri': 5478, 'mylittl': 5789, 'broni': 1094, 'brock': 1089, 'memelenl': 5426, 'icanhavecheezburg': 4066, 'griffin': 3570, 'conner': 1732, 'ao': 368, 'gotlucki': 3504, 'abad': 16, 'jabouki': 4445, 'apr': 404, 'blizzard': 932, 'overwatch': 6277, 'infring': 4257, 'hottest': 3979, 'circumcis': 1545, 'witha': 9563, 'dess': 2196, 'emegener': 2619, 'waterr': 9371, 'netet': 5898, 'clownfish': 1600, 'dori': 2411, 'reced': 7068, 'hairlin': 3661, 'seawe': 7583, 'stash': 8179, 'calgatalk': 1214, 'nemo': 5882, 'memocioner': 5455, 'fishi': 3013, 'vivaanranka': 9274, 'gerald': 3376, 'pixar': 6559, 'focuss': 3070, 'roi': 7327, 'jaw': 4484, 'australia': 549, 'babydori': 601, 'walickrniem': 9328, 'pepsi': 6452, 'jelli': 4498, 'frighteou': 3195, 'righteou': 7265, 'bori': 1002, 'ohh': 6114, 'nerv': 5890, 'cholu': 1488, 'overprotect': 6271, 'dropoff': 2465, 'fishnap': 3015, 'cargo': 1285, 'creek': 1877, 'marenwarn': 5267, 'backup': 615, 'hunki': 4035, 'emo': 2625, 'yolo': 9724, 'hilarioushumorfromouterspac': 3865, 'elderli': 2585, 'decker': 2098, 'nomu': 5984, 'pelican': 6427, 'aww': 585, 'ink': 4276, 'raw': 7026, 'carlsburnbook': 1291, 'coral': 1789, 'salon': 7448, 'sequel': 7643, 'corsi': 1805, 'rickgrim': 7252, 'cadgrm': 1207, 'twd': 8959, 'nutshel': 6043, 'damnlol': 2002, 'dose': 2415, 'dentist': 2163, 'hasa': 3726, 'laughoutloud': 4853, 'dab': 1977, 'tate': 8451, 'sibl': 7787, 'cef': 1346, 'postiz': 6674, 'rrvenu': 7373, 'voh': 9285, 'grind': 3574, 'gear': 3351, 'gino': 3414, 'til': 8711, 'lincoln': 5004, 'marlin': 5282, 'caaarl': 1201, 'coooraaal': 1778, 'huenek': 4006, 'intensifi': 4323, 'pt': 6845, 'certif': 1368, 'biden': 858, 'hamilton': 3670, 'economi': 2546, 'uncomfort': 9038, 'gryffindor': 3594, 'maga': 5178, 'burnt': 1175, 'romney': 7336, 'funnypicsplu': 3259, 'michel': 5513, 'soo': 8004, 'guickmem': 3607, 'obamamem': 6055, 'uniti': 9079, 'abt': 36, 'rmwzpu': 7288, 'nobel': 5968, 'evebrow': 2744, 'tech': 8487, 'obamacar': 6054, 'whoop': 9499, 'hannah': 3686, 'montana': 5664, 'bush': 1179, 'fiscal': 3011, 'doubt': 2421, 'administr': 99, 'mistaken': 5598, 'cooli': 1774, 'riot': 7274, 'report': 7173, 'fervent': 2957, 'divis': 2339, 'patirot': 6382, 'predid': 6714, 'actti': 77, 'malia': 5215, 'brett': 1064, 'kavanaugh': 4651, 'zach': 9756, 'bomstein': 982, 'zackbornstein': 9757, 'visit': 9266, 'nop': 5993, 'meneith': 5463, 'mam': 5221, 'banner': 669, 'adamvstheman': 83, 'catcal': 1314, 'respeck': 7197, 'chillin': 1470, 'homi': 3940, 'netflix': 5899, 'brag': 1043, 'grope': 3582, 'bankruptci': 666, 'smear': 7900, 'pow': 6688, 'incom': 4214, 'fraud': 3157, 'oppon': 6196, 'portia': 6662, 'tail': 8417, 'wiretapp': 9552, 'chief': 1461, 'pablo': 6290, 'bio': 892, 'liciouss': 4971, 'gona': 3478, 'otour': 6238, 'endors': 2645, 'cuban': 1930, 'whatdoumem': 9460, 'jagerbomb': 4459, 'capri': 1267, 'culprit': 1937, 'embarrass': 2615, 'bengazhi': 807, 'furiou': 3266, 'nsa': 6025, 'mass': 5307, 'surveil': 8365, 'bowi': 1025, 'bergdahl': 815, 'doj': 2372, 'seiz': 7608, 'journalist': 4577, 'solyndra': 7983, 'uranium': 9133, 'wiretap': 9551, 'tower': 8809, 'fisag': 3010, 'barri': 689, 'spygat': 8117, 'produc': 6781, 'hailin': 3654, 'sincer': 7818, 'farewel': 2880, 'frederick': 3162, 'fredtjoseph': 3163, 'melania': 5386, 'georgehwbushfuner': 3373, 'osama': 6226, 'bin': 888, 'kuwait': 4786, 'yemento': 9709, 'iraq': 4377, 'oman': 6152, 'channek': 1402, 'israel': 4414, 'slice': 7876, 'mileston': 5533, 'cigarett': 1537, 'gov': 3509, 'shutdown': 7778, 'youbarri': 9729, 'nald': 5809, 'erri': 2703, 'travon': 8844, 'jerrytravon': 4505, 'epli': 2685, 'rebel': 7061, 'regim': 7114, 'repres': 7177, 'hijack': 3860, 'immigr': 4180, 'await': 575, 'deport': 2169, 'sequest': 7644, 'wave': 9375, 'goodby': 3484, 'degre': 2123, 'harvard': 3720, 'princeton': 6755, 'drew': 2453, 'abundantli': 37, 'hector': 3792, 'stage': 8150, 'toiletri': 8759, 'sgt': 7677, 'bannedclubpenguin': 668, 'finnatlip': 2998, 'directli': 2282, 'penguin': 6433, 'approach': 398, 'do': 2351, 'influx': 4254, 'madagascar': 5168, 'infiltra': 4249, 'pole': 6626, 'pp': 6694, 'olik': 6145, 'qurmama': 6958, 'temegener': 8514, 'be': 728, 'rockhopp': 7310, 'effort': 2566, 'entri': 2670, 'backpack': 613, 'multipl': 5752, 'kati': 4650, 'perri': 6471, 'nag': 5803, 'suspicion': 8371, 'simplest': 7810, 'clubpenguin': 1605, 'redirect': 7092, 'clubpenguinisland': 1606, 'cw': 1969, 'stood': 8231, 'lax': 4865, 'twister': 8973, 'resurrect': 7209, 'bikini': 878, 'boil': 975, 'streetpost': 8252, 'crossov': 1910, 'intellectu': 4317, 'chuniggu': 1522, 'fling': 3046, 'snowbal': 7939, 'trainman': 8826, 'distrocktiv': 2330, 'rathroom': 7019, 'dankmem': 2019, 'tetri': 8546, 'plagu': 6566, 'inc': 4205, 'cowbelli': 1840, 'ijmitecool': 4125, 'membership': 5395, 'furnitir': 3268, 'igloo': 4115, 'exi': 2784, 'bask': 701, 'thicc': 8650, 'niggai': 5944, 'memecenet': 5403, 'pebbl': 6416, 'waddl': 9312, 'kowalski': 4764, 'poptropica': 6653, 'poptropican': 6654, 'rancher': 7002, 'analysi': 285, 'satifi': 7490, 'karma': 4642, 'opcion': 6187, 'meiri': 5383, 'deliber': 2136, 'misspel': 5594, 'ultra': 9013, 'pepe': 6446, 'al': 183, 'forgav': 3101, 'carack': 1275, 'notif': 6011, 'phd': 6500, 'photogid': 6514, 'moder': 5629, 'loos': 5087, 'ordinari': 6211, 'confirm': 1722, 'premis': 6726, 'faaaaaaaaaaaaaaaaaaa': 2825, 'ahhhh': 159, 'dom': 2381, 'stolen': 8227, 'unclev': 9037, 'clever': 1574, 'bee': 761, 'rust': 7405, 'belt': 794, 'obstruct': 6068, 'penitentiari': 6435, 'creep': 1878, 'februari': 2920, 'buff': 1135, 'prematur': 6724, 'ejacul': 2581, 'themgainz': 8609, 'ifuni': 4107, 'pepemem': 6447, 'pepethefrog': 6449, 'sadfrog': 7430, 'feelsbadman': 2928, 'feelsgoodman': 2929, 'savepep': 7503, 'rippep': 7277, 'polar': 6624, 'loo': 5082, 'dumper': 2497, 'lay': 4866, 'stack': 8146, 'chimney': 1472, 'homeown': 3936, 'flue': 3061, 'horror': 3967, 'household': 3984, 'wojak': 9579, 'sundaysport': 8329, 'foul': 3128, 'bowel': 1024, 'hooligan': 3955, 'unload': 9087, 'neighbour': 5873, 'wee': 9408, 'ruffian': 7384, 'swept': 8391, 'len': 4925, 'shite': 7735, 'temperatur': 8517, 'aberdeen': 18, 'och': 6080, 'nedhat': 5861, 'doon': 2405, 'kiek': 4697, 'oik': 6119, 'unleash': 9084, 'plop': 6592, 'rue': 7383, 'waddup': 9313, 'waddupan': 9314, 'hitachi': 3893, 'pepeo': 6448, 'pixel': 6560, 'bart': 693, 'tritium': 8878, 'shestil': 7720, 'shooter': 7750, 'rath': 7017, 'breh': 1063, 'rareat': 7014, 'nicki': 5934, 'repub': 7181, 'risk': 7279, 'mechan': 5363, 'thirteen': 8665, 'olcoseb': 6135, 'patiem': 6378, 'outi': 6250, 'kiddo': 4693, 'log': 5057, 'picard': 6525, 'quickmemeon': 6937, 'trek': 8851, 'kirk': 4721, 'fifti': 2972, 'shade': 7682, 'earl': 2524, 'gray': 3546, 'luc': 5129, 'dissatisfi': 2326, 'android': 309, 'turbin': 8938, 'endless': 2644, 'concept': 1711, 'funnyfrenzi': 3250, 'dafuq': 1985, 'theft': 8594, 'violat': 9248, 'anarchist': 286, 'anarcho': 287, 'communist': 1687, 'rand': 7003, 'endthef': 2646, 'ronpaul': 7341, 'knowmem': 4749, 'captainci': 1270, 'ussf': 9149, 'areal': 420, 'daphn': 2023, 'damien': 1997, 'bogg': 973, 'imglol': 4170, 'spock': 8088, 'ey': 2819, 'digit': 2263, 'janeway': 4472, 'enterpris': 2663, 'palm': 6315, 'int': 4314, 'sickbay': 7789, 'stroke': 8264, 'stairway': 8154, 'nacho': 5802, 'maneuv': 5239, 'fro': 3197, 'dozen': 2428, 'phaser': 6499, 'stun': 8283, 'pikirk': 6540, 'ashford': 472, 'theyr': 8647, 'solid': 7976, 'violet': 9251, 'dontlik': 2399, 'occup': 6076, 'crimea': 1888, 'hawai': 3750, 'imgp': 4171, 'upgrad': 9121, 'richer': 7249, 'pmlwab': 6600, 'khodorkovski': 4687, 'clout': 1598, 'kgb': 4682, 'tanya': 8440, 'unpatriot': 9094, 'scalp': 7522, 'memess': 5442, 'patrick': 6385, 'duncan': 2499, 'mueller': 5740, 'juici': 4596, 'hike': 3861, 'jone': 4564, 'slav': 7865, 'innov': 4280, 'lemon': 4923, 'sprint': 8114, 'math': 5321, 'wakanda': 9321, 'vladimir': 9277, 'orgin': 6217, 'employe': 2629, 'zabava': 9754, 'funer': 3237, 'jimmi': 4525, 'sua': 8289, 'whatch': 9457, 'snore': 7936, 'thanksgiv': 8564, 'diplomat': 2280, 'rudefunni': 7380, 'river': 7283, 'theviralexperi': 8644, 'punditkitchen': 6868, 'flori': 3056, 'normand': 5998, 'poutin': 6687, 'mykrain': 5787, 'radiat': 6974, 'chancellor': 1396, 'angela': 313, 'merkel': 5481, 'tamper': 8433, 'therundova': 8636, 'umgflip': 9018, 'puppet': 6874, 'vladmir': 9278, 'fairli': 2851, 'volum': 9292, 'ii': 4122, 'shirtless': 7732, 'chillblinton': 1468, 'vladamir': 9276, 'justgirlyth': 4616, 'teanderth': 8482, 'weknow': 9427, 'putout': 6896, 'shitscrol': 7739, 'putup': 6898, 'putdown': 6894, 'ins': 4283, 'ther': 8626, 'croatia': 1902, 'victor': 9227, 'kargil': 4640, 'soun': 8022, 'elemekern': 2592, 'popcorn': 6648, 'curtain': 1956, 'hquya': 3995, 'masipop': 5304, 'dhinchak': 2224, 'puja': 6861, 'perform': 6461, 'moscow': 5698, 'protectourelect': 6820, 'vlad': 9275, 'eatliv': 2539, 'drag': 2436, 'recreat': 7084, 'tiger': 8707, 'absorb': 34, 'among': 275, 'accus': 58, 'tribal': 8861, 'monkey': 5658, 'recist': 7076, 'cyril': 1973, 'giraud': 3419, 'provid': 6828, 'nigger': 5946, 'wenignog': 9436, 'daniebe': 2012, 'willem': 9528, 'petzer': 6491, 'andil': 303, 'miracl': 5574, 'pau': 6390, 'condon': 1717, 'weigh': 9420, 'synthet': 8406, 'watermelon': 9370, 'ling': 5009, 'humoar': 4020, 'cruis': 1915, 'abraham': 29, 'theoffic': 8617, 'va': 9163, 'gameboy': 3298, 'burst': 1177, 'flame': 3030, 'cracker': 1852, 'xenophob': 9669, 'calla': 1218, 'amon': 274, 'anastronaut': 288, 'sen': 7624, 'dian': 2232, 'feinstein': 2933, 'linda': 5005, 'sorenson': 8011, 'frank': 3150, 'pellicano': 6428, 'reagan': 7040, 'plo': 6591, 'lyin': 5154, 'panti': 6326, 'exhibit': 2783, 'elman': 2605, 'dixon': 2341, 'diaz': 2237, 'kinemast': 4713, 'gorilla': 3496, 'rhino': 7239, 'bun': 1160, 'isnt': 4411, 'kettl': 4674, 'justtonyburketh': 4621, 'sabc': 7417, 'vin': 9241, 'nig': 5942, 'unfollow': 9060, 'concentr': 1710, 'suprem': 8350, 'devast': 2210, 'celeb': 1348, 'tpusa': 8815, 'africa': 131, 'essay': 2720, 'ese': 2713, 'raci': 6967, 'emem': 2620, 'titel': 8731, 'finest': 2994, 'basturd': 706, 'fuckuk': 3220, 'isil': 4406, 'memeshap': 5437, 'womania': 9587, 'aisl': 172, 'benoit': 811, 'whip': 9482, 'nea': 5850, 'suess': 8311, 'thelibtard': 8603, 'holocaust': 3927, 'grandfath': 3527, 'accisemem': 49, 'gaurd': 3336, 'fursadelosdios': 3271, 'worthyreview': 9619, 'westpac': 9446, 'conga': 1727, 'theantibogan': 8580, 'zippoman': 9778, 'discord': 2298, 'bitterli': 906, 'parliament': 6347, 'dunk': 2501, 'muhammad': 5747, 'niti': 5961, 'cedero': 1343, 'otrio': 6239, 'thepa': 8625, 'otion': 6237, 'decaffein': 2089, 'funnyshit': 3261, 'adulthumor': 111, 'realshit': 7053, 'menshumor': 5465, 'nofucksgiven': 5973, 'nailedit': 5807, 'asham': 471, 'acitroen': 63, 'lightbulb': 4987, 'greatsuccess': 3553, 'manetenl': 5237, 'seuss': 7662, 'frown': 3204, 'charl': 1412, 'darwin': 2037, 'jerri': 4503, 'crushi': 1918, 'timelin': 8715, 'yuuup': 9750, 'blockchain': 935, 'bitcoin': 903, 'hmmmm': 3901, 'databas': 2040, 'colorado': 1651, 'religi': 7145, 'demonstr': 2154, 'habit': 3637, 'bsian': 1118, 'looser': 5088, 'makin': 5210, 'kike': 4699, 'cator': 1323, 'uncensor': 9034, 'penn': 6437, 'billionair': 886, 'homeless': 3934, 'rack': 6971, 'rib': 7243, 'probat': 6771, 'prision': 6760, 'pappusoduff': 6333, 'bluetooth': 956, 'rel': 7135, 'manvi': 5257, 'sarin': 7481, 'yourquot': 9738, 'empow': 2631, 'ani': 324, 'bebabaund': 747, 'bcbaba': 726, 'cryptocurr': 1922, 'blous': 946, 'veg': 9190, 'aalu': 9, 'tikki': 8710, 'rahulgandhi': 6982, 'pledg': 6588, 'jagdish': 4458, 'antakshari': 346, 'scam': 7523, 'coalgat': 1615, 'tuse': 8947, 'pepsod': 6453, 'dalit': 1992, 'cow': 1839, 'raga': 6979, 'harish': 3706, 'goyal': 3514, 'tomar': 8768, 'supriya': 8353, 'sule': 8320, 'goverdhan': 3510, 'tiwari': 8735, 'chobeyram': 1483, 'dubey': 2477, 'chunil': 1523, 'tyagi': 8980, 'ganpat': 3317, 'dular': 2491, 'vinni': 9246, 'akhilesh': 182, 'rvci': 7408, 'modiji': 5633, 'lokpal': 5064, 'mobil': 5623, 'braat': 1038, 'indira': 4235, 'compass': 1691, 'sonia': 8000, 'akash': 180, 'priyadarshi': 6767, 'accolad': 50, 'carrier': 1297, 'wink': 9543, 'ipl': 4373, 'baba': 598, 'indiatoday': 4231, 'khaatestrophi': 4684, 'ghandi': 3392, 'adress': 107, 'tughlak': 8926, 'lane': 4826, 'delhi': 2135, 'amul': 279, 'pappu': 6332, 'worker': 9605, 'majakia': 5201, 'whatsapp': 9466, 'empower': 2632, 'rafael': 6978, 'sania': 7467, 'joint': 4553, 'honour': 3952, 'momand': 5642, 'roman': 7332, 'hindi': 3876, 'heisaresult': 3806, 'combin': 1658, 'azharuddin': 594, 'pitch': 6556, 'azhar': 593, 'guin': 3612, 'bunkistan': 1163, 'ci': 1530, 'bangkok': 662, 'coogl': 1767, 'amazon': 252, 'ishant': 4398, 'sharma': 7696, 'ege': 2569, 'devic': 2212, 'ramesh': 6998, 'fudder': 3222, 'suresh': 8355, 'fonow': 3081, 'yogifanclub': 9723, 'kamal': 4626, 'ambassador': 254, 'jun': 4605, 'isro': 4415, 'satellit': 7489, 'yf': 9715, 'isupportnamo': 4420, 'utensil': 9152, 'dhantera': 2222, 'dhakkan': 2221, 'chamch': 1386, 'happybirthday': 3696, 'soniagandhi': 8001, 'rosalulita': 7350, 'raul': 7022, 'fav': 2903, 'cartoon': 1299, 'doraemon': 2410, 'shin': 7728, 'chuornot': 1525, 'netcur': 5897, 'navi': 5836, 'soichos': 7969, 'eskimo': 2716, 'taccident': 8414, 'aswear': 506, 'clubbin': 1603, 'rolf': 7329, 'hick': 3847, 'itchi': 4423, 'smelli': 7902, 'shaaark': 7680, 'product': 6782, 'patch': 6374, 'amazingli': 251, 'turnt': 8945, 'omelett': 6155, 'rake': 6992, 'bullshitegener': 1157, 'qaeda': 6904, 'gunmen': 3622, 'shrapnel': 7768, 'extract': 2814, 'helicopt': 3810, 'predat': 6713, 'wor': 9601, 'per': 6454, 'kilo': 4705, 'seventh': 7665, 'ingmar': 4264, 'bergman': 816, 'driveway': 2460, 'bedtim': 760, 'illegali': 4131, 'chunk': 1524, 'heidi': 3801, 'cowork': 1842, 'scarf': 7528, 'fate': 2896, 'killl': 4703, 'harp': 3712, 'remepil': 7154, 'reunni': 7216, 'summit': 8325, 'skittl': 7854, 'aaaaaaaahhh': 3, 'inaon': 4203, 'gayyyi': 3342, 'homophob': 3942, 'antartica': 348, 'haphazardli': 3689, 'satisfi': 7493, 'bedfellow': 757, 'adrado': 106, 'gagmobil': 3287, 'anna': 330, 'agostini': 150, 'elephants': 2597, 'chubbi': 1513, 'xphaze': 9676, 'seasov': 7579, 'vest': 9213, 'sleepov': 7873, 'judgment': 4591, 'pug': 6859, 'resembl': 7188, 'penns': 6439, 'milli': 5546, 'uncanni': 9033, 'iget': 4112, 'cib': 1532, 'sofa': 7962, 'denial': 2158, 'memeanim': 5398, 'solbecam': 7972, 'dudelol': 2483, 'stoplight': 8233, 'krabbi': 4767, 'antarctica': 347, 'alrighta': 237, 'freez': 3172, 'brosb': 1099, 'twinsi': 8971, 'kennyflow': 4669, 'teammat': 8481, 'anawkward': 291, 'ruth': 7407, 'bader': 623, 'ginsburg': 3415, 'fantasylland': 2875, 'novic': 6017, 'gina': 3410, 'rogain': 7324, 'task': 8448, 'pmislweb': 6599, 'astronaut': 502, 'spectrum': 8063, 'gettyimag': 3388, 'andersen': 298, 'spit': 8083, 'puu': 6899, 'buf': 1134, 'missionmemeposs': 5592, 'path': 6375, 'instructor': 4310, 'orgasm': 6216, 'smartest': 7896, 'unplug': 9095, 'nderscor': 5848, 'noah': 5967, 'ark': 429, 'fuckpenc': 3218, 'impeach': 4186, 'whitehous': 9488, 'inthecloset': 4346, 'gross': 3583, 'repostit': 7176, 'chronic': 1510, 'valu': 9178, 'unlik': 9086, 'saya': 7509, 'merit': 5480, 'diriu': 2286, 'filihi': 2982, 'secrei': 7587, 'girlbyefriday': 3421, 'tyre': 8986, 'wrench': 9634, 'newton': 5914, 'bankolar': 665, 'properli': 6807, 'bmw': 961, 'everythingiask': 2754, 'drool': 2463, 'rumo': 7389, 'ono': 6177, 'arsehol': 451, 'rhyme': 7242, 'previleg': 6741, 'anatomi': 290, 'pour': 6685, 'joell': 4540, 'kayemb': 4652, 'obnoxi': 6063, 'imleyton': 4177, 'sayawoman': 7510, 'worki': 9606, 'tinder': 8720, 'unfaith': 9059, 'dalway': 1994, 'hght': 3843, 'wisdom': 9553, 'pud': 6855, 'antifreez': 354, 'aru': 460, 'billa': 883, 'funnyism': 3255, 'lolsclub': 5072, 'couch': 1813, 'necklac': 5858, 'radiohead': 6977, 'calori': 1222, 'crimson': 1890, 'pinch': 6547, 'muffin': 5741, 'andijust': 302, 'appjuic': 387, 'triumph': 8879, 'umph': 9021, 'whatwouldharveydo': 9468, 'und': 9040, 'specter': 8060, 'funsubst': 3263, 'failur': 2847, 'aj': 175, 'sayzz': 7513, 'premier': 6725, 'inemegener': 4242, 'harveyspect': 3724, 'larvey': 4840, 'rewrit': 7232, 'wa': 9308, 'lotto': 5102, 'empir': 2627, 'nit': 5959, 'rebuild': 7064, 'scottyblackcomb': 7556, 'upscalequot': 9126, 'classi': 1562, 'btf': 1122, 'ds': 2473, 'beahero': 733, 'lutus': 5146, 'splorer': 8086, 'manoi': 5248, 'fagborough': 2844, 'temptat': 8523, 'prosthet': 6815, 'menac': 5459, 'ninjago': 5956, 'terribl': 8536, 'detect': 2203, 'homecom': 3933, 'tingl': 8721, 'ima': 4137, 'thread': 8678, 'shouldv': 7760, 'nextlol': 5917, 'redecor': 7089, 'mater': 5318, 'assur': 498, 'eww': 2765, 'font': 3082, 'disgust': 2306, 'mahe': 5193, 'teme': 8513, 'aranea': 414, 'sapien': 7473, 'spinach': 8080, 'vegit': 9197, 'avorit': 573, 'smokersclub': 7912, 'jane': 4471, 'pillow': 6543, 'realizet': 7050, 'eor': 2675, 'squirter': 8129, 'butthi': 1188, 'riddicul': 7255, 'creation': 1872, 'todayilearn': 8749, 'thecheckeredflick': 8590, 'goya': 3513, 'counterfeit': 1823, 'footag': 3089, 'versu': 9210, 'antman': 357, 'pssst': 6839, 'tomfooleri': 8773, 'runt': 7394, 'web': 9398, 'heep': 3796, 'iti': 4427, 'cave': 1333, 'applaus': 389, 'shitno': 7737, 'login': 5061, 'relev': 7142, 'goddamnit': 3458, 'barbi': 676, 'dreamhous': 2450, 'inoi': 4282, 'alannabennett': 192, 'spoderman': 8089, 'bronco': 1093, 'quarterback': 6921, 'soccer': 7950, 'basebal': 696, 'dome': 2382, 'mahom': 5194, 'raptor': 7012, 'ohhhhh': 6116, 'laker': 4814, 'inal': 4202, 'when': 9473, 'nbamem': 5843, 'fantasi': 2874, 'dolph': 2379, 'ziggler': 9772, 'chicago': 1456, 'fil': 2978, 'gshe': 3595, 'niether': 5941, 'qb': 6907, 'sportsmem': 8106, 'noo': 5988, 'intercept': 4326, 'cougar': 1814, 'dpi': 2429, 'jaguar': 4460, 'yd': 9698, 'cheetah': 1438, 'whatho': 9462, 'quarter': 6920, 'roflrazzi': 7322, 'crabbi': 1850, 'pob': 6608, 'retir': 7211, 'grokkowski': 3579, 'hernandez': 3829, 'qatar': 6906, 'trwa': 8908, 'atlanta': 516, 'playoff': 6581, 'clippera': 1585, 'ugg': 9000, 'levela': 4948, 'vela': 9200, 'neighbor': 5871, 'cupcak': 1946, 'apoloz': 381, 'hypun': 4051, 'espn': 2719, 'vogo': 9283, 'rl': 7286, 'officiali': 6099, 'elimin': 2601, 'lihon': 4994, 'oklahom': 6129, 'eveni': 2746, 'derrick': 2177, 'aaron': 12, 'rodger': 7313, 'memesofnfl': 5441, 'vouston': 9300, 'goddam': 3456, 'clubhous': 1604, 'fenway': 2953, 'diego': 2249, 'russel': 7401, 'westbrook': 9443, 'advisor': 119, 'meniscu': 5464, 'spori': 8104, 'milwauke': 5554, 'basketbal': 702, 'ballislif': 649, 'bwant': 1193, 'cket': 1553, 'kobe': 4753, 'dwight': 2517, 'bracket': 1040, 'justcapshunz': 4613, 'jordan': 4571, 'oriol': 6219, 'agon': 149, 'ryan': 7413, 'locht': 5054, 'unionbank': 9075, 'askin': 479, 'shart': 7698, 'shaw': 7704, 'ali': 204, 'horseback': 3969, 'packer': 6295, 'sn': 7917, 'sedin': 7594, 'phenomenon': 6503, 'occur': 6078, 'geico': 3355, 'sausa': 7498, 'quaterback': 6922, 'sanchez': 7459, 'some': 7985, 'sergio': 7647, 'garcia': 3321, 'sox': 8032, 'dodger': 2360, 'cana': 1238, 'pui': 6860, 'ottomicblu': 6240, 'harvin': 3725, 'morethan': 5680, 'seattl': 7582, 'nel': 5877, 'geno': 3366, 'smith': 7908, 'quietli': 6944, 'hacker': 3642, 'hackabl': 3641, 'diseas': 2303, 'crucial': 1914, 'afternoon': 135, 'qfqbqzywcx': 6908, 'vall': 9177, 'ligma': 4993, 'reboot': 7063, 'earlier': 2526, 'dent': 2161, 'linkin': 5012, 'dbz': 2058, 'clip': 1584, 'disguis': 2305, 'labour': 4800, 'zuckerberg': 9789, 'fodo': 3071, 'bylif': 1197, 'palmer': 6316, 'palmerreport': 6317, 'albert': 195, 'einstein': 2578, 'ceo': 1363, 'ceoquot': 1364, 'riddanc': 7254, 'softwar': 7966, 'chloe': 1481, 'chaplain': 1406, 'brows': 1105, 'microsoft': 5516, 'partial': 6353, 'atari': 509, 'former': 3110, 'workplac': 9608, 'businessmindset': 1181, 'flash': 3032, 'macbook': 5161, 'unemploy': 9055, 'syrian': 8408, 'wool': 9600, 'stubborn': 8272, 'undertim': 9046, 'fulfil': 3228, 'jata': 4481, 'minimart': 5565, 'coric': 1793, 'coc': 1618, 'noroviru': 6000, 'omon': 6163, 'qwertyuiop': 6959, 'asdfghjkl': 467, 'zxcvbnm': 9798, 'pog': 6616, 'zelda': 9766, 'guldment': 3618, 'faculti': 2842, 'loung': 5111, 'slenderman': 7874, 'pubic': 6850, 'dental': 2162, 'nugget': 6035, 'coin': 1629, 'modump': 5635, 'enclos': 2638, 'memedump': 5414, 'spaghetti': 8039, 'tab': 8411, 'chrome': 1508, 'dunno': 2503, 'solu': 7980, 'hp': 3993, 'lamin': 4821, 'gandalfthewhit': 3308, 'gandalfwhit': 3309, 'usernam': 9145, 'gandalfthegrey': 3307, 'perceiv': 6455, 'dcbe': 2060, 'surpass': 8360, 'funnyp': 3257, 'veryfunnyp': 9211, 'peanut': 6412, 'bunn': 1164, 'ican': 4060, 'olden': 6139, 'lan': 4823, 'port': 6660, 'fujitsu': 3226, 'baka': 641, 'gaijin': 3288, 'henc': 3819, 'storag': 8234, 'instagran': 4298, 'collid': 1642, 'rosi': 7353, 'ryder': 7414, 'wecan': 9403, 'error': 2704, 'sonni': 8003, 'cdw': 1341, 'ohat': 6113, 'aaaaaaaand': 4, 'hlerat': 3898, 'gerd': 3377, 'averag': 567, 'willll': 9533, 'gelernt': 3356, 'nyt': 6049, 'project': 6793, 'boomer': 994, 'senior': 7629, 'discount': 2299, 'aarp': 13, 'pharma': 6497, 'recip': 7074, 'floppi': 3055, 'disk': 2311, 'mb': 5339, 'shiba': 7725, 'wth': 9650, 'crypto': 1921, 'humanbeinglslleg': 4018, 'goodgodabov': 3485, 'loss': 5094, 'quickiem': 6932, 'turk': 8942, 'reviv': 7225, 'homeboy': 3932, 'whir': 9484, 'scan': 7524, 'gota': 3501, 'absenc': 31, 'yourc': 9736, 'offlin': 6105, 'luxuri': 5148, 'disconnect': 2297, 'spacecraft': 8036, 'ma': 5157, 'homer': 3937, 'neither': 5876, 'stem': 8200, 'pursu': 6886, 'profit': 6789, 'cerer': 1366, 'leeeee': 4897, 'hurri': 4039, 'sama': 7454, 'yanderefam': 9692, 'sunshin': 8332, 'unresolv': 9101, 'trauma': 8842, 'mrw': 5729, 'sinatra': 7816, 'etern': 2730, 'doughnut': 2423, 'deliveri': 2139, 'fomgta': 3080, 'nyp': 6048, 'fay': 2908, 'udwik': 8992, 'quackiem': 6914, 'firefox': 3002, 'encount': 2639, 'cifaldi': 1534, 'frankcifaldi': 3151, 'yaer': 9687, 'conquer': 1733, 'doo': 2403, 'od': 6084, 'vir': 9252, 'cheesel': 1437, 'callcentermem': 1219, 'jhing': 4520, 'memor': 5456, 'img': 4157, 'stronger': 8266, 'shkreli': 7742, 'thingi': 8658, 'memecnt': 5408, 'wonderytho': 9593, 'meirl': 5384, 'nfigueiroa': 5919, 'lini': 5010, 'noraci': 5995, 'seatbelt': 7581, 'airbag': 168, 'van': 9181, 'mattress': 5327, 'nasa': 5826, 'rephras': 7167, 'theni': 8614, 'tellimg': 8510, 'villag': 9237, 'minesweep': 5561, 'insecur': 4285, 'aout': 371, 'vibrant': 9222, 'lawn': 4863, 'mower': 5721, 'mame': 5224, 'cl': 1555, 'allerg': 220, 'championship': 1392, 'sandi': 7463, 'belief': 785, 'sunk': 8331, 'octopu': 6083, 'passeng': 6365, 'cosutum': 1811, 'sank': 7468, 'board': 964, 'descend': 2178, 'iceberg': 4068, 'wreckag': 9633, 'errrbodi': 2705, 'hasmukh': 3728, 'draeger': 2434, 'deck': 2097, 'unsink': 9105, 'capt': 1268, 'wheeli': 9472, 'memegeneokerlund': 5420, 'approxim': 401, 'garlic': 3325, 'lifeboat': 4978, 'diver': 2336, 'quotesbook': 6955, 'evacu': 2741, 'wala': 9326, 'heartwarm': 3781, 'damp': 2003, 'unseen': 9103, 'onboard': 6168, 'sear': 7575, 'genrat': 3367, 'brow': 1103, 'mometentera': 5648, 'tlook': 8737, 'auerhalb': 539, 'lang': 4827, 'twant': 8957, 'jonn': 4566, 'emporid': 2630, 'knightykingston': 4740, 'tauti': 8455, 'megadickspermshoot': 5374, 'koni': 4758, 'tnb': 8740, 'zadd': 9758, 'yobst': 9721, 'saladxx': 7446, 'kuznez': 4789, 'zyzz': 9799, 'payne': 6404, 'novolin': 6018, 'mtv': 5733, 'xxobst': 9682, 'haeufi': 3644, 'malitost': 5217, 'sparifank': 8046, 'fanboyl': 2869, 'cumfrag': 1942, 'cumsho': 1943, 'klein': 4731, 'mietz': 5524, 'punkt': 6871, 'neutralisierung': 5902, 'ein': 2577, 'feind': 2932, 'mit': 5604, 'ak': 178, 'quickl': 6933, 'jonni': 4567, 'sixth': 7840, 'fumat': 3232, 'ici': 4071, 'unknown': 9082, 'punster': 6873, 'powerad': 6691, 'fruit': 3206, 'berri': 820, 'vintag': 9247, 'watchmen': 9366, 'testi': 8543, 'postpon': 6676, 'morgu': 5682, 'cashier': 1304, 'dart': 2035, 'nerf': 5889, 'hollywood': 3925, 'ramsay': 6999, 'wash': 9355, 'smack': 7891, 'speci': 8056, 'jerrycat': 4504, 'virgin': 9254, 'martinsrooom': 5295, 'realest': 7045, 'beef': 762, 'sight': 7794, 'undress': 9052, 'upstair': 9129, 'eachoth': 2520, 'irrit': 4386, 'restroom': 7205, 'controversi': 1762, 'conspiraci': 1742, 'trumo': 8902, 'ffilthybil': 2964, 'icreatorapp': 4074, 'dehydr': 2124, 'imagetweetedbi': 4142, 'desusnic': 2200, 'preident': 6723, 'establish': 2725, 'yiu': 9718, 'hissi': 3888, 'execut': 2779, 'trumpmem': 8904, 'covfef': 1838, 'describ': 2180, 'spew': 8072, 'vile': 9235, 'maxican': 5334, 'freejolesynopal': 3168, 'password': 6369, 'comb': 1656, 'inherit': 4267, 'fortun': 3119, 'cyber': 1970, 'chickenshit': 1459, 'mosaic': 5697, 'hairdress': 3659, 'tgat': 8554, 'wreck': 9632, 'prssident': 6830, 'wind': 9537, 'megyn': 5377, 'kelli': 4667, 'affair': 123, 'hoax': 3906, 'miliraru': 5537, 'obam': 6052, 'imbecil': 4151, 'depo': 2168, 'beiber': 780, 'martian': 5292, 'bigli': 868, 'foriegn': 3106, 'toupe': 8805, 'eclip': 2543, 'cooter': 1781, 'mcgrabbin': 5348, 'shitbird': 7734, 'kkk': 4730, 'mytholog': 5798, 'imgilip': 4168, 'fanfict': 2873, 'author': 552, 'ingil': 4262, 'po': 6607, 'goat': 3454, 'appeal': 384, 'founder': 3131, 'xavier': 9665, 'dolphin': 2380, 'mutant': 5773, 'midnight': 5522, 'mutat': 5774, 'magneto': 5186, 'beforex': 769, 'taco': 8415, 'faith': 2852, 'srv': 8136, 'erik': 2696, 'lensher': 4928, 'nitant': 5960, 'chronolog': 1512, 'factsweird': 2840, 'cameo': 1228, 'coolest': 1773, 'dcfact': 2061, 'beast': 741, 'mode': 5627, 'hisenemi': 3887, 'fatal': 2895, 'swat': 8379, 'mosquito': 5700, 'armor': 436, 'zipper': 9777, 'emxbnhcfrv': 2635, 'weatherman': 9396, 'mgmagener': 5502, 'lt': 5128, 'eric': 2695, 'streak': 8249, 'coma': 1655, 'rusk': 7400, 'fotur': 3126, 'oth': 6234, 'nervou': 5891, 'zuckerburg': 9792, 'testimoni': 8545, 'lizard': 5039, 'jullian': 4603, 'assang': 487, 'amber': 255, 'discko': 2296, 'amberdiscko': 256, 'consequ': 1737, 'forgiven': 3104, 'juggaloci': 4592, 'uwebollock': 9161, 'bitten': 905, 'dealer': 2071, 'spi': 8073, 'kiddi': 4692, 'yuno': 9747, 'susten': 8373, 'teat': 8486, 'burger': 1168, 'gloriou': 3446, 'babylon': 603, 'horrifi': 3966, 'detail': 2201, 'testifi': 8544, 'booster': 996, 'misus': 5603, 'commissari': 1680, 'ritual': 7281, 'ingest': 4260, 'nutrient': 6042, 'uppermost': 9125, 'alimentari': 210, 'canal': 1241, 'nighttim': 5949, 'paralyt': 6339, 'stasi': 8180, 'karanthakkar': 4635, 'temp': 8515, 'bpm': 1035, 'armourless': 437, 'eshoo': 2714, 'california': 1216, 'exe': 2778, 'subscript': 8298, 'zark': 9761, 'fuckerberg': 3214, 'robbi': 7300, 'soav': 7945, 'robbysoav': 7301, 'stuff': 8279, 'myspac': 5795, 'facek': 2831, 'sok': 7970, 'evan': 2742, 'seanseaevan': 7574, 'carlo': 1289, 'simanca': 7806, 'snatch': 7926, 'cackl': 1206, 'consult': 1747, 'beta': 830, 'cru': 1913, 'chamish': 1389, 'thamizh': 8560, 'colorblind': 1652, 'didyouknowblog': 2247, 'behaviour': 776, 'psychologist': 6843, 'portray': 6664, 'crisi': 1893, 'dermi': 2176, 'zuckerbergmem': 9790, 'wax': 9376, 'beep': 764, 'flirtati': 3049, 'audio': 536, 'supris': 8352, 'squeal': 8123, 'mp': 5723, 'homo': 3941, 'anatom': 289, 'zukerberg': 9794, 'zuck': 9788, 'tanto': 8438, 'niek': 5938, 'prece': 6710, 'bklyn': 910, 'extens': 2810, 'scientif': 7544, 'zuc': 9786, 'ifact': 4097, 'spam': 8041, 'unpublish': 9097, 'pettypost': 6489, 'pettyastheycom': 6488, 'straightclownin': 8240, 'hegotjok': 3798, 'jokesforday': 4557, 'itsjustjokespeopl': 4432, 'itsfunnytom': 4431, 'funnyisfunni': 3254, 'randomhumor': 7005, 'markzuckerberg': 5281, 'oath': 6050, 'committe': 1683, 'pintexxz': 6552, 'zuckerphobia': 9793, 'headlight': 3768, 'petridish': 6484, 'reptil': 7179, 'shredder': 7770, 'hcrunch': 3762, 'rupt': 7397, 'easier': 2530, 'progress': 6791, 'flumind': 3064, 'quizz': 6952, 'hawaiian': 3752, 'khaan': 4683, 'kya': 4794, 'banau': 657, 'nativ': 5831, 'ancestr': 293, 'resort': 7195, 'unoffici': 9093, 'greater': 3551, 'backfir': 611, 'accumul': 56, 'evanofth': 2743, 'yukon': 9746, 'gifford': 3402, 'zucc': 9787, 'tomska': 8776, 'ridgewel': 7260, 'thetomska': 8641, 'snag': 7919, 'dankmemesgang': 2020, 'darksid': 2031, 'longrun': 5081, 'boost': 995, 'astrogeekz': 501, 'angerey': 317, 'reeact': 7098, 'chemtrail': 1446, 'zuckerbergt': 9791, 'shown': 7766, 'shrunk': 7773, 'stevegob': 8210, 'chander': 1398, 'lbyl': 4873, 'jackass': 4447, 'idqa': 4092, 'memecutecatshu': 5412, 'galaxi': 3292, 'phrase': 6519, 'gatsbi': 3334, 'pub': 6848, 'tauriel': 8454, 'scarlett': 7532, 'easter': 2534, 'outrag': 6256, 'subreddit': 8296, 'prequel': 6729, 'bachmann': 608, 'weheartit': 9419, 'audrey': 538, 'ofa': 6089, 'staci': 8145, 'imperson': 4188, 'thrown': 8694, 'somenin': 7990, 'sumerian': 8322, 'dancer': 2007, 'arra': 442, 'tolkien': 8764, 'calmer': 1221, 'egener': 2570, 'stuffthatlookslikestuff': 8282, 'jeff': 4494, 'whine': 9481, 'observ': 6065, 'problemat': 6774, 'kun': 4781, 'gmail': 3449, 'chucknorri': 1516, 'handout': 3678, 'prop': 6802, 'critter': 1900, 'shh': 7722, 'comdm': 1661, 'luke': 5139, 'particular': 6357, 'acquir': 67, 'overa': 6262, 'xxviii': 9683, 'increm': 4222, 'vidlo': 9232, 'cramp': 1855, 'comeup': 1668, 'unrel': 9100, 'thework': 8646, 'prick': 6747, 'saltier': 7450, 'crisp': 1894, 'oldboy': 6138, 'ufford': 8997, 'oma': 6151, 'tufford': 8925, 'secretli': 7590, 'osteen': 6229, 'infinit': 4251, 'warfar': 9347, 'comfi': 1670, 'arhlistlelleens': 425, 'wooki': 9599, 'headach': 3767, 'migrain': 5528, 'hypertens': 4044, 'mansplan': 5252, 'manplain': 5249, 'region': 7115, 'anonym': 340, 'nebom': 5854, 'nojusticenoprid': 5978, 'unbeliev': 9031, 'thecrazi': 8591, 'inecrozygordo': 4239, 'sel': 7610, 'chota': 1498, 'bheem': 848, 'jakemakesmem': 4464, 'tit': 8727, 'tempor': 8520, 'reapairi': 7055, 'up': 9117, 'nostrial': 6007, 'merch': 5474, 'badasss': 622, 'lyanna': 5153, 'collud': 1643, 'ambiti': 257, 'pat': 6372, 'patronizingli': 6388, 'belov': 793, 'crystal': 1923, 'faggot': 2845, 'hatsi': 3742, 'heel': 3795, 'outlawbbyy': 6252, 'director': 2283, 'treasur': 8846, 'possess': 6670, 'direwolf': 2285, 'whichev': 9480, 'publx': 6853, 'plal': 6569, 'ofici': 6106, 'ob': 6051, 'yard': 9694, 'festa': 2958, 'stewart': 8215, 'frail': 3144, 'breakabl': 1056, 'lectur': 4892, 'topper': 8794, 'memesc': 5432, 'rodrigo': 7315, 'dutert': 2511, 'ined': 4240, 'quicunem': 6941, 'arniegityergunoakley': 440, 'trongportor': 8888, 'raider': 6983, 'sca': 7519, 'tnpw': 8742, 'jasso': 4480, 'obtain': 6069, 'barbar': 673, 'cult': 1938, 'grizzli': 3575, 'asthma': 499, 'playdat': 6578, 'drake': 2439, 'sarco': 7479, 'mund': 5758, 'goofi': 3488, 'appreci': 397, 'voyag': 9302, 'intelligentand': 4319, 'sophist': 8008, 'menecerl': 5461, 'maturan': 5329, 'zut': 9796, 'castro': 1307, 'swedan': 8384, 'piggi': 6538, 'capabl': 1260, 'cesped': 1371, 'jord': 4570, 'presenc': 6732, 'sci': 7542, 'mutual': 5778, 'benefici': 804, 'resum': 7207, 'buzzfe': 1192, 'tomarrow': 8769, 'joeytribbbianii': 4543, 'eleanor': 2586, 'egalitarian': 2568, 'floodwat': 3053, 'getnack': 3383, 'kb': 4654, 'chod': 1485, 'bakc': 642, 'mbo': 5340, 'dhak': 2220, 'brown': 1104, 'ansen': 342, 'jonah': 4562, 'imit': 4176, 'hiroshima': 3886, 'critiquesuglek': 1899, 'sa': 7415, 'frontpag': 3203, 'iizcat': 4124, 'catwoman': 1328, 'applic': 393, 'deni': 2157, 'insul': 4311, 'stagola': 8151, 'fasten': 2892, 'picturesandbadpun': 6533, 'juggernaut': 4593, 'highest': 3854, 'ufa': 8995, 'bilater': 879, 'strateg': 8246, 'partnership': 6359, 'dildo': 2266, 'cuickmem': 1936, 'kyleburkhold': 4796, 'kat': 4646, 'angu': 322, 'katangu': 4647, 'junk': 4609, 'cardboard': 1279, 'tvseri': 8955, 'overnight': 6270, 'bwin': 1194, 'handbag': 3673, 'ambros': 258, 'andh': 300, 'pmslwob': 6602, 'dontgo': 2398, 'wecant': 9404, 'memegeneraor': 5422, 'kingdom': 4715, 'comedian': 1665, 'mainwash': 5200, 'cabbygata': 1203, 'omega': 6153, 'ndaa': 5847, 'terror': 8539, 'guantanamo': 3601, 'goldman': 3471, 'morgan': 5681, 'sheepl': 7708, 'kamikaz': 4628, 'pilot': 6544, 'mid': 5518, 'apprais': 396, 'bjp': 909, 'aap': 11, 'bsp': 1119, 'tmc': 8739, 'cpm': 1845, 'modj': 5634, 'steel': 8196, 'qoc': 6911, 'baker': 644, 'flour': 3058, 'ofal': 6090, 'lem': 4922, 'urtel': 9139, 'hiwev': 3896, 'incept': 4206, 'titant': 8730, 'gellar': 3357, 'psychic': 6842, 'blueprint': 955, 'descent': 2179, 'uso': 9148, 'spectravey': 8062, 'provok': 6829, 'makemem': 5207, 'countless': 1825, 'lact': 4803, 'explod': 2801, 'wallpap': 9334, 'injustic': 4275, 'shaven': 7702, 'adera': 92, 'seguridad': 7605, 'tese': 8541, 'dond': 2391, 'indical': 4233, 'ca': 1200, 'levant': 4946, 'stater': 8184, 'elmo': 2607, 'ramsey': 7000, 'duke': 2490, 'drdavidduk': 2447, 'paycheck': 6400, 'util': 9156, 'wayn': 9379, 'toker': 8760, 'leaker': 4883, 'stinker': 8222, 'millllllion': 5552, 'allen': 219, 'spideyifi': 8078, 'krusti': 4771, 'krab': 4766, 'chum': 1518, 'regress': 7117, 'theism': 8602, 'stung': 8284, 'markipli': 5279, 'kadiadraw': 4624, 'meat': 5361, 'washington': 9356, 'instalar': 4300, 'agbcjz': 139, 'highlight': 3856, 'remu': 7159, 'lupin': 5142, 'kinnear': 4719, 'battelfield': 711, 'expos': 2805, 'aa': 0, 'itz': 4436, 'isaw': 4392, 'lastnight': 4845, 'hercul': 3822, 'mulligan': 5751, 'marvelo': 5297, 'rider': 7259, 'reilli': 7126, 'johnson': 4550, 'vincent': 9242, 'jule': 4599, 'weedmem': 9410, 'danap': 2005, 'hufflepuff': 4007, 'shutup': 7783, 'startrekmo': 8175, 'unabl': 9024, 'britain': 1084, 'eup': 2735, 'cutz': 1966, 'wedlock': 9406, 'extinguish': 2812, 'grayer': 3547, 'rank': 7007, 'ahi': 161, 'mastercard': 5311, 'somethin': 7993, 'twill': 8966, 'strap': 8245, 'method': 5494, 'intervent': 4342, 'institution': 4309, 'femini': 2945, 'cena': 1354, 'craftyconsum': 1854, 'negoti': 5867, 'proedit': 6783, 'tuspir': 8948, 'aspir': 484, 'memeact': 5397, 'unifi': 9070, 'mra': 5725, 'inhal': 4265, 'virginiaaaa': 9256, 'laundri': 4857, 'cologn': 1645, 'whata': 9456, 'dichotomi': 2240, 'fourth': 3135, 'millenni': 5545, 'indoctrin': 4237, 'bunnymem': 1166, 'unappreci': 9026, 'disgruntl': 2304, 'jobstreet': 4536, 'assasin': 488, 'queue': 6927, 'broo': 1097, 'sadmichaeljordan': 7432, 'dro': 2461, 'blowjob': 948, 'feud': 2962, 'industri': 4238, 'revolut': 7226, 'giovanni': 3417, 'tellimgur': 8511, 'ishar': 4399, 'bloodi': 944, 'memesnappen': 5439, 'lawyer': 4864, 'wheelchair': 9470, 'picnic': 6530, 'unitedstatesofmurica': 9078, 'seamen': 7572, 'figer': 2973, 'revers': 7222, 'unti': 9110, 'yaaa': 9686, 'tupperwar': 8937, 'lagnabad': 4809, 'delta': 2140, 'thriller': 8686, 'higori': 3858, 'barbara': 674, 'mylif': 5788, 'howard': 3988, 'bbt': 723, 'pre': 6707, 'ditch': 2332, 'whizzl': 9490, 'overhead': 6266, 'budi': 1133, 'anthem': 350, 'memesteppen': 5443, 'darksoul': 2032, 'willingli': 9532, 'somalia': 7984, 'kerala': 4672, 'madhya': 5172, 'denni': 2159, 'rodman': 7314, 'alrighti': 238, 'fbwallpic': 2911, 'panda': 6320, 'bamboo': 653, 'maxandharveyfangirl': 5333, 'thinkt': 8662, 'thrift': 8683, 'hatter': 3743, 'sanshodelain': 7471, 'mort': 5692, 'mer': 5473, 'whiplash': 9483, 'exquisit': 2807, 'afford': 127, 'settl': 7661, 'peep': 6425, 'toad': 8744, 'mac': 5159, 'wishi': 9559, 'becn': 751, 'jaredleto': 4479, 'legionofdoom': 4916, 'aqualad': 406, 'aka': 179, 'overtomyspac': 6275, 'yah': 9688, 'reynold': 7235, 'ommichang': 6162, 'pikachu': 6539, 'barn': 682, 'suggest': 8315, 'facial': 2833, 'wit': 9561, 'happier': 3694, 'panel': 6321, 'malik': 5216, 'bridg': 1073, 'unstauratteripouvom': 9108, 'ave': 563, 'politicalhumor': 6631, 'karnataka': 4643, 'wod': 9577, 'mather': 5322, 'domino': 2387, 'parmesan': 6348, 'jgeoff': 4519, 'crono': 1904, 'ort': 6223, 'rount': 7364, 'alagam': 187, 'fm': 3066, 'adulthood': 110, 'dishwash': 2308, 'liner': 5008, 'asa': 463, 'plain': 6568, 'steph': 8202, 'curri': 1954, 'wyou': 9661, 'complic': 1699, 'butterstock': 1187, 'est': 2724, 'imagem': 4141, 'ishal': 4397, 'rubbish': 7377, 'ufeff': 8996, 'arc': 416, 'coven': 1835, 'graphen': 3538, 'materi': 5319, 'bitti': 907, 'arab': 410, 'telegram': 8504, 'iop': 4368, 'mem': 5391, 'dislik': 2312, 'ishould': 4403, 'transgend': 8833, 'worldi': 9610, 'aon': 369, 'bukowski': 1147, 'cosbi': 1807, 'evict': 2759, 'checkpoint': 1429, 'ethic': 2732, 'bea': 729, 'rg': 7237, 'ale': 199, 'sugandes': 8313, 'wazzzuuuuppppp': 9382, 'waazuuuuuup': 9309, 'nalo': 5810, 'waazzzuuuuuppo': 9310, 'payback': 6399, 'fave': 2904, 'mustach': 5772, 'nojoto': 5977, 'jockey': 4537, 'xerox': 9671, 'sk': 7844, 'ls': 5125, 'og': 6110, 'lill': 4998, 'michal': 5511, 'ug': 8998, 'squawk': 8122, 'nemegener': 5880, 'judgemnt': 4590, 'intth': 4354, 'eleven': 2599, 'neurosci': 5901, 'wallet': 9332, 'yoga': 9722, 'haz': 3759, 'inner': 4278, 'camouflag': 1233, 'truman': 8900, 'institut': 4308, 'stiern': 8218, 'poceha': 6609, 'psmd': 6838, 'wp': 9628, 'demo': 2147, 'op': 6186, 'reach': 7033, 'stretch': 8256, 'cattim': 1326, 'forno': 3114, 'hammer': 3671, 'bigg': 863, 'bossi': 1010, 'kbc': 4655, 'lirri': 5019, 'techmolog': 8488, 'freiend': 3174, 'soulmat': 8021, 'arwen': 462, 'neighborhood': 5872, 'fotgot': 3124, 'mjolnir': 5613, 'highli': 3855, 'wikihow': 9517, 'quinnandnoah': 6947, 'ks': 4772, 'spous': 8109, 'imgi': 4165, 'professork': 6787, 'vine': 9245, 'comp': 1688, 'outer': 6248, 'exsist': 2808, 'incomplet': 4215, 'lavar': 4860, 'herecom': 3824, 'lynch': 5155, 'brianlynch': 1068, 'legener': 4914, 'foghat': 3073, 'micheal': 5512, 'sofar': 7963, 'hfg': 3841, 'npxbur': 6022, 'blurri': 959, 'iftar': 4103, 'puck': 6854, 'ba': 596, 'cheryl': 1450, 'bump': 1159, 'tsouk': 8911, 'orc': 6207, 'ae': 120, 'recogn': 7078, 'darkknight': 2030, 'whiten': 9489, 'drawang': 2444, 'nem': 5879, 'wwwww': 9658, 'conard': 1707, 'blurt': 960, 'fgl': 2965, 'foolish': 3087, 'fork': 3107, 'deepfak': 2109, 'canuck': 1256, 'knowi': 4747, 'bay': 716, 'starbuck': 8164, 'enlighten': 2657, 'eureka': 2737, 'stern': 8207, 'eulog': 2734, 'supersuit': 8344, 'sudoku': 8310, 'fetish': 2960, 'motherhood': 5705, 'deepli': 2110, 'classism': 1566, 'afro': 134, 'boricua': 1004, 'princessnokia': 6754, 'reina': 7127, 'tonina': 8781, 'biggovsuck': 866, 'asma': 482, 'memegen': 5419, 'main': 5197, 'fam': 2862, 'thanksgivingwithblackfamili': 8566, 'tonli': 8783, 'russo': 7404, 'ironi': 4382, 'seldom': 7611, 'absent': 32, 'lovecraft': 5115, 'nursingc': 6039, 'goldilock': 3470, 'crapper': 1858, 'histor': 3889, 'handshak': 3679, 'nord': 5996, 'debel': 2083, 'teedi': 8498, 'ite': 4424, 'mutha': 5776, 'senor': 7631, 'shutupimtalk': 7784, 'furri': 3270, 'oranforest': 6205, 'weve': 9448, 'bbtmemesbtsteven': 724, 'shaver': 7703, 'gie': 3399, 'mememakernet': 5429, 'cristina': 1897, 'silva': 7803, 'gazebo': 3346, 'euroviul': 2740, 'tuj': 8927, 'tomahawk': 8767, 'tswift': 8916, 'vacin': 9167, 'crowd': 1911, 'sipi': 7828, 'piti': 6557, 'amith': 271, 'humorist': 4023, 'knightchang': 4738, 'cocoa': 1621, 'puff': 6857, 'increasingli': 4220, 'obscur': 6064, 'segment': 7603, 'olandcunch': 6134, 'cloudxstrif': 1597, 'nl': 5966, 'onbj': 6167, 'bd': 727, 'aquarium': 408, 'horribl': 3964, 'speaker': 8053, 'sumitra': 8323, 'mahajan': 5191, 'unus': 9114, 'rlli': 7287, 'matern': 5320, 'thanksgivin': 8565, 'abolish': 25, 'stro': 8262, 'ouston': 6244, 'dustor': 2509, 'strd': 8248, 'whyo': 9506, 'ganhascreezburg': 3315, 'ainhoa': 165, 'pcb': 6407, 'intim': 4347, 'bronson': 1096, 'thatjacket': 8573, 'girlunderstand': 3425, 'ator': 519, 'tfreethoughtproject': 8552, 'julian': 4601, 'mamamoon': 5223, 'livestock': 5036, 'farm': 2881, 'finder': 2992, 'kamavena': 4627, 'ifella': 4098, 'nanosompon': 5815, 'rapper': 7011, 'ineken': 4241, 'heineken': 3804, 'sever': 7666, 'mgp': 5505, 'millionair': 5549, 'mantra': 5253, 'how': 3987, 'juan': 4586, 'bahama': 637, 'bid': 857, 'anja': 328, 'ringgren': 7272, 'loven': 5116, 'leia': 4920, 'larunezoriginal': 4839, 'pn': 6604, 'killallmen': 4701, 'donahu': 2388, 'annetdonahu': 331, 'aaaand': 5, 'bawl': 715, 'roug': 7359, 'grandpar': 3532, 'wi': 9507, 'grrrrrrr': 3590, 'fwd': 3278, 'gramma': 3523, 'coconut': 1622, 'rhett': 7238, 'omgfac': 6159, 'gayyyyyyyyyi': 3343, 'susan': 8369, 'attorney': 531, 'rill': 7270, 'cent': 1357, 'doi': 2370, 'emir': 2622, 're': 7032, 'carlsberg': 1290, 'bb': 720, 'sspo': 8138, 'besticando': 826, 'hsberg': 3997, 'huh': 4011, 'macarena': 5160, 'bloggend': 938, 'bewegen': 838, 'bloggendbewegen': 939, 'pedophil': 6420, 'rapist': 7010, 'misconduct': 5580, 'thenerdyunivers': 8612, 'enfant': 2651, 'ascend': 465, 'zillow': 9773, 'elder': 2584, 'mormoncom': 5684, 'byron': 1198, 'acvw': 79, 'mandatori': 5235, 'obsolet': 6067, 'hind': 3875, 'hake': 3663, 'clarif': 1558, 'blaster': 918, 'ajerk': 177, 'puresweat': 6878, 'flatter': 3035, 'cara': 1274, 'camp': 1234, 'doge': 2367, 'punchlin': 6866, 'tm': 8738, 'mou': 5709, 'walli': 9333, 'facebok': 2829, 'hawaii': 3751, 'naw': 5837, 'dietician': 2254, 'cathedr': 1318, 'misogin': 5585, 'ogl': 6111, 'rougha': 7361, 'tuos': 8936, 'postmortem': 6675, 'perman': 6467, 'hayrrid': 3758, 'tavoid': 8457, 'spoiltmodernwoman': 8094, 'propaganda': 6803, 'lib': 4964, 'burnin': 1173, 'fla': 3026, 'custodian': 1960, 'exterro': 2811, 'buckley': 1129, 'xplain': 9677, 'cumcel': 1941, 'authoritarian': 554, 'hodor': 3910, 'albu': 196, 'kit': 4723, 'tycal': 8981, 'classicalfuck': 1564, 'memeener': 5415, 'millionairesth': 5550, 'stimul': 8221, 'halo': 3668, 'peny': 6442, 'hsheldon': 3998, 'rajh': 6990, 'lolo': 5071, 'bazooka': 719, 'squealer': 8124, 'aaaaaaaaaaand': 2, 'fourteen': 3134, 'plastic': 6574, 'coolant': 1772, 'hehe': 3799, 'startrek': 8174, 'hoop': 3956, 'everyway': 2756, 'thatveganaussieblok': 8576, 'leik': 4921, 'saiv': 7442, 'gormeni': 3497, 'adelf': 91, 'mitler': 5605, 'mckayla': 5349, 'macintosh': 5165, 'cp': 1844, 'desk': 2185, 'persecut': 6472, 'andrad': 307, 'sterl': 8206, 'fearthed': 2916, 'cameraman': 1230, 'lole': 5067, 'hooker': 3954, 'pho': 6507, 'noodl': 5990, 'ickmem': 4072, 'dip': 2278, 'overbook': 6264, 'gettin': 3387, 'loraxreact': 5089, 'gohen': 3465, 'nana': 5814, 'liven': 5033, 'hen': 3818, 'roalbot': 7294, 'tww': 8976, 'unnyp': 9091, 'adolph': 103, 'climax': 1579, 'finalist': 2989, 'stee': 8195, 'ihes': 4120, 'croc': 1903, 'saudi': 7496, 'arabia': 411, 'outcom': 6247, 'cameron': 1231, 'militarybas': 5540, 'allov': 225, 'andit': 305, 'whoi': 9495, 'aggressor': 146, 'tina': 8719, 'toa': 8743, 'gorgeou': 3494, 'qiana': 6909, 'escort': 2712, 'technician': 8490, 'preach': 6708, 'submiss': 8294, 'fakefeminist': 2854, 'fakeleft': 2855, 'bondag': 984, 'sadomasoch': 7433, 'kinksham': 4718, 'daddydom': 1980, 'agenc': 141, 'procrastin': 6779, 'hofstadt': 3914, 'pusysalad': 6891, 'eddi': 2550, 'grew': 3564, 'mex': 5496, 'kitti': 4727, 'zuul': 9797, 'deaneggsandsam': 2073, 'setheverman': 7660, 'wil': 9520, 'runtim': 7395, 'ittooky': 4434, 'toget': 8755, 'bok': 976, 'hairi': 3660, 'commonfolk': 1685, 'ahemm': 157, 'anakin': 283, 'merg': 5477, 'contin': 1753, 'fatti': 2900, 'memeganiur': 5418, 'fakenew': 2856, 'lessgovmorefun': 4938, 'waterg': 9368, 'tpot': 8814, 'kuwyazwar': 4788, 'kuwyaz': 4787, 'savageebruh': 7501, 'cfc': 1374, 'goal': 3453, 'happenacaa': 3691, 'frequent': 3176, 'shuffl': 7775, 'badg': 624, 'ezer': 2823, 'alt': 240, 'bern': 818, 'carl': 1288, 'lifequickmem': 4982, 'misspok': 5595, 'blown': 949, 'funnier': 3242, 'smarter': 7895, 'pump': 6863, 'elli': 2603, 'hairdo': 3658, 'yugioh': 9745, 'ng': 5921, 'friendsrebound': 3190, 'beingchandlerb': 781, 'spare': 8045, 'kendrick': 4668, 'tanyathetanya': 8441, 'cornrow': 1800, 'bish': 899, 'topnew': 8793, 'headshot': 3772, 'iaoh': 4055, 'majest': 5202, 'reven': 7220, 'moviepoet': 5719, 'jnqmeo': 4533, 'nep': 5884, 'passiv': 6367, 'agress': 153, 'unfriend': 9062, 'alando': 191, 'benuwinja': 812, 'otuch': 6241, 'owadwa': 6279, 'omera': 6156, 'adrian': 108, 'equivel': 2690, 'bromanc': 1092, 'hoemanc': 3912, 'evolut': 2763, 'depressao': 2173, 'urc': 9135, 'webcam': 9400, 'goo': 3482, 'gl': 3434, 'oduv': 6087, 'err': 2701, 'nstructc': 6027, 'dorito': 2413, 'lefunni': 4904, 'trophi': 8890, 'alltheminion': 227, 'cthey': 1927, 'irrat': 4384, 'subaru': 8291, 'devoid': 2214, 'trudeau': 8896, 'gmnahavso': 3450, 'nesnaylon': 5893, 'internat': 4332, 'sanoico': 7469, 'sation': 7491, 'dino': 2274, 'internatt': 4334, 'internatio': 4333, 'mcavoy': 5343, 'happend': 3692, 'squirrel': 8128, 'gather': 3332, 'nut': 6040, 'curb': 1948, 'offhandedli': 6094, 'crippl': 1892, 'facepalm': 2832, 'punk': 6870, 'aml': 273, 'complianc': 1698, 'bhakt': 845, 'buti': 1184, 'hairclip': 3656, 'cardiac': 1280, 'puslweb': 6889, 'smdh': 7898, 'fashionat': 2889, 'thavent': 8579, 'spoiltmodernuoma': 8092, 'myrvei': 5793, 'asylum': 507, 'vou': 9298, 'sodom': 7958, 'infant': 4246, 'momebucket': 5643, 'alana': 190, 'mastrangelo': 5312, 'armastrangelo': 434, 'behavior': 775, 'singapor': 7822, 'vfox': 9217, 'hulton': 4016, 'menstruat': 5467, 'squeezin': 8126, 'lc': 4874, 'okok': 6130, 'solisten': 7977, 'reader': 7037, 'anniversari': 334, 'montserrat': 5670, 'democr': 2148, 'nei': 5870, 'gq': 3516, 'deutschland': 2208, 'jehovah': 4496, 'armageddon': 432, 'sanction': 7460, 'kneeson': 4734, 'joy': 4580, 'sass': 7484, 'despair': 2189, 'gbbo': 3348, 'hotlin': 3977, 'adv': 112, 'thewallofcomedi': 8645, 'ksi': 4773, 'advert': 115, 'ksiolajidebt': 4774, 'wozniak': 9627, 'killsol': 4704, 'casual': 1308, 'ididntgradu': 4081, 'orphan': 6222, 'andask': 296, 'tcl': 8469, 'recognit': 7080, 'algorithm': 203, 'holycapb': 3928, 'aaaaaaaaa': 1, 'sesam': 7656, 'erni': 2698, 'healthcar': 3775, 'kentucki': 4670, 'comtotoy': 1705, 'anderson': 299, 'counti': 1824, 'interpurret': 4337, 'she': 7705, 'elector': 2588, 'rump': 7391, 'tart': 8447, 'lovecasm': 5114, 'bst': 1120, 'intrins': 4351, 'repo': 7171, 'ilip': 4128, 'suicidex': 8317, 'fruitofthepoisonousmem': 3207, 'amem': 261, 'tryin': 8909, 'hatd': 3735, 'canic': 1250, 'abo': 24, 'paynesenterpris': 6405, 'ameica': 260, 'refriger': 7107, 'toshiadventur': 8799, 'aladdin': 185, 'allahdin': 214, 'crapcom': 1857, 'ducki': 2480, 'wilcox': 9521, 'sbi': 7517, 'fy': 3280, 'ait': 173, 'brew': 1065, 'accordingli': 54, 'granger': 3534, 'wasley': 9357, 'began': 770, 'chili': 1466, 'unimport': 9072, 'disregard': 2322, 'swell': 8390, 'hentai': 3821, 'idis': 4083, 'mea': 5353, 'giroca': 3426, 'infidel': 4248, 'coffeelov': 1626, 'deathbeforedecaf': 2077, 'snail': 7920, 'xma': 9673, 'barricad': 690, 'farther': 2885, 'idestroy': 4079, 'memesfor': 5435, 'memer': 5431, 'tiddi': 8704, 'hypocrisi': 4048, 'disineform': 2309, 'apologist': 380, 'memegenetor': 5424, 'lotw': 5104, 'wingk': 9542, 'moab': 5620, 'joelljerrett': 4541, 'dath': 2042, 'chull': 1517, 'despocablemiminion': 2195, 'hillarymememak': 3868, 'americarepubl': 266, 'memec': 5401, 'mamelenler': 5228, 'otaku': 6233, 'aplu': 377, 'rick': 7251, 'wilson': 9535, 'therick': 8632, 'tdont': 8473, 'thru': 8695, 'jell': 4497, 'differenti': 2256, 'equat': 2688, 'memecentet': 5406, 'cookout': 1770, 'quickmen': 6938, 'grave': 3545, 'flee': 3039, 'elv': 2610, 'dwarv': 2516, 'memecen': 5402, 'sneaki': 7930, 'nonaggress': 5986, 'pact': 6297, 'slam': 7860, 'revolv': 7228, 'mat': 5315, 'luther': 5145, 'malcom': 5212, 'marcu': 5265, 'garvey': 3326, 'livemamanecom': 5031, 'una': 9023, 'coatt': 1617, 'timer': 8716, 'hobb': 3907, 'lck': 4875, 'ggg': 3391, 'default': 2113, 'textur': 8551, 'hnv': 3904, 'vod': 9280, 'bagu': 635, 'oooooo': 6184, 'dublin': 2478, 'gig': 3406, 'charlielighten': 1414, 'aaand': 7, 'quickm': 6935, 'epal': 2677, 'dilip': 2268, 'rayamajhi': 7028, 'ofoscar': 6107, 'themegener': 8607, 'qre': 6913, 'bibi': 852, 'dekhbha': 2127, 'wrestlememia': 9636, 'simul': 7814, 'tlale': 8736, 'doesntbulli': 2362, 'display': 2317, 'bassnecto': 704, 'firstcov': 3008, 'roflb': 7317, 'moonyo': 5675, 'moron': 5689, 'kidh': 4694, 'advis': 118, 'rupe': 7396, 'het': 3837, 'prode': 6780, 'rivind': 7284, 'bokil': 977, 'medit': 5368, 'blunt': 958, 'realeas': 7044, 'harmon': 3710, 'dust': 2508, 'polarsaurusrex': 6625, 'armssss': 438, 'thheee': 8648, 'angelssss': 315, 'erin': 2697, 'srihow': 8134, 'exit': 2786, 'ithaca': 4426, 'hierarch': 3851, 'insist': 4287, 'reportedli': 7174, 'redesign': 7091, 'lollypop': 5069, 'transwomen': 8839, 'guam': 3600, 'hershey': 3834, 'dilol': 2269, 'ture': 8940, 'divid': 2338, 'fullfil': 3230, 'unelect': 9054, 'demotiv': 2155, 'iig': 4123, 'tribbiani': 8862, 'knockout': 4745, 'ginjoint': 3412, 'riker': 7268, 'superlik': 8338, 'hardwork': 3705, 'spectr': 8061, 'uput': 9130, 'hawkev': 3754, 'dicapriooscar': 2239, 'thebestmovi': 8583, 'nesoffici': 5894, 'walsh': 9336, 'watchin': 9365, 'grass': 3541, 'buri': 1169, 'icanhascheepburg': 4063, 'repeal': 7164, 'staff': 8149, 'accardo': 42, 'haroldluvm': 3711, 'lima': 5000, 'royal': 7370, 'peni': 6434, 'jdotcdouble': 4488, 'epicshit': 2680, 'tbt': 8464, 'yahoo': 9689, 'aboutemegener': 28, 'chameleon': 1387, 'suitabl': 8319, 'diy': 2342, 'falcon': 2858, 'libertarian': 4966, 'marvin': 5301, 'anyhow': 362, 'idolatri': 4088, 'gossip': 3499, 'ibirthday': 4057, 'clumsi': 1608, 'claw': 1569, 'session': 7657, 'podcast': 6612, 'humorpix': 4025, 'rulin': 7388, 'maximum': 5335, 'comey': 1669, 'catti': 1325, 'jersey': 4506, 'cuckoldri': 1933, 'dathi': 2044, 'arhtisticlicens': 427, 'titanici': 8729, 'eth': 2731, 'intellect': 4316, 'mamegener': 5226, 'hliam': 3899, 'dather': 2043, 'thirti': 8666, 'rk': 7285, 'trampolin': 8828, 'dutch': 2510, 'motherf': 5703, 'detamerica': 2202, 'bodyguard': 970, 'hypocrit': 4049, 'relax': 7140, 'liquefi': 5017, 'momu': 5651, 'theif': 8600, 'essentialoilsstyl': 2722, 'strobelit': 8263, 'lobster': 5050, 'madican': 5173, 'sustain': 8372, 'slipperi': 7879, 'hurl': 4038, 'snowi': 7942, 'dayton': 2057, 'jackdayton': 4450, 'underwear': 9049, 'reil': 7125, 'inernet': 4244, 'whatsapptext': 9467, 'mitro': 5606, 'meaindia': 5354, 'appolog': 395, 'bari': 680, 'cantfind': 1255, 'beb': 745, 'himyet': 3872, 'reindeer': 7129, 'saint': 7441, 'onbamem': 6166, 'whartomern': 9454, 'sinegener': 7819, 'lucif': 5131, 'luciferforpresid': 5132, 'sat': 7487, 'doggi': 2368, 'lolzombi': 5074, 'violenc': 9249, 'disproportion': 2319, 'schutz': 7541, 'gymnast': 3634, 'vegtabl': 9198, 'affection': 125, 'niemeyerrer': 5940, 'eras': 2693, 'electori': 2589, 'heright': 3826, 'gospel': 3498, 'necessari': 5855, 'bryant': 1115, 'factual': 2841, 'pheelyk': 6501, 'mileven': 5534, 'mikesmem': 5531, 'peed': 6422, 'written': 9641, 'margarita': 5269, 'wouldnt': 9623, 'memecept': 5407, 'awhil': 582, 'imgfilip': 4160, 'tsweezi': 8915, 'ohhh': 6115, 'sha': 7679, 'medal': 5364, 'jess': 4507, 'owen': 6281, 'presind': 6736, 'franklin': 3154, 'roosevelt': 7346, 'commemor': 1677, 'meer': 5372, 'actspiss': 76, 'cheeredupbut': 1433, 'satisfact': 7492, 'convent': 1763, 'purif': 6880, 'immin': 4181, 'float': 3050, 'martha': 5289, 'narki': 5823, 'jayzco': 4486, 'looper': 5086, 'miser': 5581, 'knoc': 4743, 'emiss': 2623, 'combov': 1660, 'pokem': 6620, 'instanc': 4304, 'appleev': 390, 'omegl': 6154, 'colon': 1647, 'priest': 6748, 'consent': 1736, 'dicki': 2242, 'dave': 2047, 'plbiden': 6584, 'milkshak': 5542, 'legaci': 4906, 'frankincens': 3153, 'socialist': 7952, 'regul': 7120, 'slit': 7881, 'dfact': 2217, 'reward': 7229, 'burnout': 1174, 'briefli': 1075, 'dumpster': 2498, 'silver': 7804, 'sore': 8009, 'ouch': 6243, 'mymuscl': 5790, 'knighthood': 4739, 'hangin': 3682, 'vagu': 9173, 'seeker': 7598, 'milder': 5532, 'marveltruefact': 5300, 'legion': 4915, 'init': 4271, 'xmen': 9674, 'soest': 7961, 'belikebillfootbal': 788, 'shitheadstev': 7736, 'marx': 5302, 'mansion': 5250, 'starvat': 8177, 'woahitsjuanito': 9576, 'mammal': 5231, 'aliahgey': 205, 'oldascreatur': 6137, 'plz': 6597, 'shortcircuit': 7754, 'edison': 2553, 'cettechnolog': 1373, 'techsolmarket': 8493, 'modif': 5632, 'hiro': 3885, 'ichigo': 4070, 'becomea': 753, 'clinic': 1581, 'airport': 171, 'perp': 6469, 'wakatopopcountri': 9322, 'fiddl': 2968, 'htqyblerh': 4001, 'learningtor': 4886, 'updot': 9120, 'farblo': 2877, 'sayinglmag': 7512, 'anda': 295, 'hurriedli': 4041, 'particip': 6355, 'yearschalleng': 9706, 'expir': 2798, 'todo': 8752, 'amanda': 247, 'blain': 913, 'lain': 4811, 'lieberstein': 4975, 'paullieberstein': 6392, 'carel': 1283, 'stevecarel': 8209, 'macklemor': 5166, 'kaatupoochi': 4623, 'din': 2271, 'bride': 1072, 'aanm': 10, 'fort': 3116, 'duquesn': 2505, 'blanki': 916, 'naptim': 5819, 'brass': 1048, 'siphon': 7827, 'gasolin': 3327, 'thiev': 8654, 'tereyener': 8533, 'cheerlead': 1435, 'sled': 7870, 'firewalk': 3003, 'alam': 188, 'fosho': 3122, 'ko': 4752, 'unprepar': 9096, 'frustrat': 3208, 'absurd': 35, 'boast': 965, 'kicker': 4690, 'gronk': 3580, 'myth': 5797, 'forum': 3120, 'wwwrvci': 9657, 'intend': 4321, 'sprinkl': 8113, 'grapefruit': 3537, 'errand': 2702, 'oilstyl': 6122, 'patrol': 6387, 'writer': 9640, 'shepherd': 7719, 'unarm': 9027, 'lab': 4798, 'augest': 541, 'scottpilgrimm': 7555, 'wlwa': 9572, 'mlm': 5616, 'aladi': 186, 'aug': 540, 'angel': 312, 'purg': 6879, 'xeno': 9668, 'aquamartha': 407, 'pathankot': 6376, 'malda': 5213, 'remix': 7156, 'peoplescub': 6444, 'snapback': 7923, 'trippin': 8877, 'iho': 4121, 'md': 5352, 'loudest': 5107, 'daylight': 2055, 'trendsett': 8856, 'biil': 874, 'bili': 881, 'cand': 1244, 'gip': 3418, 'menegerleratur': 5462, 'nitrogen': 5964, 'carbon': 1276, 'dioxid': 2277, 'succeed': 8305, 'gifsec': 3404, 'thebigbang': 8585, 'tbbt': 8463, 'thebigbangtheori': 8586, 'hungari': 4031, 'czech': 1975, 'layer': 4867, 'greec': 3554, 'norway': 6004, 'smjbuzz': 7909, 'bike': 876, 'cheezburg': 1440, 'hee': 3794, 'eurger': 2738, 'igot': 4118, 'sorta': 8016, 'until': 9111, 'keyboard': 4677, 'talkin': 8427, 'thumbpress': 8698, 'aypo': 591, 'gulp': 3619, 'nilanjana': 5952, 'ghosh': 3393, 'exhaustina': 2782, 'loath': 5047, 'perk': 6465, 'arb': 415, 'rubix': 7378, 'vader': 9169, 'craver': 1862, 'cattl': 1327, 'liberti': 4967, 'funky': 3240, 'dha': 2219, 'shook': 7747, 'marg': 5268, 'dolli': 2378, 'parton': 6360, 'jolen': 4559, 'acowboy': 66, 'pickup': 6529, 'sweethea': 8388, 'ukrainian': 9009, 'beerem': 766, 'beei': 763, 'cosplay': 1808, 'quirki': 6948, 'idontget': 4091, 'almand': 228, 'tak': 8420, 'pooli': 6641, 'mortician': 5696, 'shoelac': 7746, 'marvelousfact': 5298, 'apitnobaka': 376, 'outlift': 6253, 'alan': 189, 'wng': 9574, 'holm': 3926, 'serial': 7649, 'separ': 7640, 'audit': 537, 'yourcelebrityfact': 9737, 'freeman': 3170, 'fountain': 3132, 'bald': 646, 'nicholson': 5930, 'shotongo': 7757, 'psgliv': 6836, 'stadium': 8148, 'bq': 1036, 'zmosptj': 9779, 'struga': 8270, 'django': 2344, 'unchain': 9035, 'reciev': 7073, 'psi': 6837, 'familiar': 2865, 'wht': 9503, 'nutterstock': 6044, 'shuesick': 7774, 'kt': 4775, 'nelson': 5878, 'krang': 4770, 'gt': 3596, 'gainz': 3290, 'oftwant': 6109, 'misfit': 5583, 'horni': 3962, 'behav': 774, 'denton': 2164, 'hilariousdepot': 3864, 'uninterrupt': 9073, 'restor': 7204, 'impolit': 4190, 'purpl': 6881, 'cycl': 1972, 'unsaf': 9102, 'fuzia': 3277, 'contribut': 1759, 'britney': 1087, 'spear': 8055, 'pu': 6847, 'delusion': 2142, 'ministri': 5570, 'epistemolog': 2684, 'skyler': 7858, 'asim': 477, 'busara': 1178, 'asm': 481, 'magnabad': 5184, 'thrillar': 8685, 'curat': 1947, 'contriv': 1760, 'persona': 6476, 'ensur': 2660, 'veganoverlord': 9193, 'webcast': 9401, 'wenn': 9437, 'sammich': 7455, 'stomach': 8228, 'gariksuharik': 3324, 'atmom': 517, 'whyar': 9504, 'blocklist': 936, 'friendlist': 3186, 'rach': 6965, 'ooh': 6180, 'funki': 3239, 'herobrin': 3831, 'icanarscheezburg': 4061, 'thetoddwilliam': 8640, 'officalgen': 6096, 'convo': 1766, 'dorktow': 2414, 'sheignor': 7712, 'lwab': 5151, 'borderlin': 999, 'psychot': 6844, 'outburst': 6246, 'poslo': 6667, 'magdon': 5180, 'uhhhhhhhbten': 9005, 'percent': 6456, 'twenti': 8962, 'fifteen': 2970, 'smokin': 7913, 'abouta': 27, 'fumyb': 3233, 'genuin': 3371, 'luckili': 5135, 'corvu': 1806, 'drawer': 2445, 'perv': 6479, 'rofleo': 7319, 'latino': 4850, 'eorgiso': 2676, 'jeep': 4493, 'wdddfsmlnh': 9385, 'squeez': 8125, 'spank': 8044, 'usmal': 9147, 'mulder': 5750, 'fuckup': 3221, 'sensei': 7634, 'cheeto': 1439, 'overus': 6276, 'unexplor': 9057, 'bronn': 1095, 'ramadan': 6995, 'ra': 6960, 'overhear': 6267, 'rumor': 7390, 'delay': 2131, 'brothel': 1100, 'ie': 4095, 'camelia': 1227, 'pen': 6429, 'ati': 513, 'quich': 6929, 'lorrain': 5091, 'memetuc': 5449, 'franci': 3149, 'sparrow': 8049, 'trialbi': 8859, 'mgflip': 5501, 'memesofgameofthron': 5440, 'yay': 9697, 'gbm': 3349, 'arri': 445, 'hpotter': 3994, 'episkeyfirewhiskey': 2682, 'dracosredempt': 2433, 'crabb': 1849, 'fenc': 2951, 'expelliarmu': 2793, 'expecto': 2791, 'patronum': 6389, 'cedric': 1344, 'diggori': 2262, 'basilisk': 700, 'underground': 9042, 'roonil': 7345, 'wazlib': 9381, 'limp': 5003, 'roflraz': 7320, 'nevil': 5909, 'longbottom': 5078, 'countercurs': 1822, 'speechless': 8066, 'psych': 6841, 'yhe': 9716, 'mauri': 5331, 'sobasicicanteven': 7947, 'mun': 5757, 'kieran': 4698, 'drgraylang': 2455, 'cuba': 1929, 'chewbacca': 1455, 'tavi': 8456, 'smiley': 7907, 'cornel': 1796, 'coon': 1777, 'domi': 2384, 'incorrect': 4217, 'nickelodeon': 5933, 'needi': 5863, 'receiv': 7070, 'ay': 587, 'elminin': 2606, 'pinal': 6546, 'runner': 7393, 'philippin': 6505, 'demod': 2151, 'iowa': 4370, 'vaga': 9170, 'mehe': 5379, 'coh': 1628, 'mistakenli': 5599, 'pvn': 6901, 'yetb': 9714, 'huko': 4014, 'huk': 4012, 'osh': 6228, 'fanfic': 2872, 'journelofamadman': 4578, 'shre': 7769, 'caterpillar': 1317, 'tenacho': 8525, 'pragmaticpolit': 6701, 'soundscienc': 8024, 'collabor': 1636, 'tru': 8894, 'tdnewswir': 8471, 'newswir': 5913, 'lieabet': 4974, 'broomstick': 1098, 'rode': 7312, 'handd': 3675, 'sweep': 8386, 'theshin': 8637, 'xrate': 9678, 'prosecut': 6811, 'regener': 7112, 'newyork': 5915, 'volkswagen': 9291, 'gaz': 3344, 'ach': 61, 'belgium': 783, 'wikileak': 9518, 'wwii': 9654, 'deleg': 2132, 'tripartit': 8875, 'scrap': 7558, 'fuhrer': 3224, 'ss': 8137, 'battleforthenet': 714, 'walma': 9335, 'gomiss': 3476, 'crown': 1912, 'psu': 6840, 'edu': 2557, 'soemth': 7960, 'wheni': 9475, 'gta': 3597, 'dlc': 2347, 'entitl': 2669, 'tunderstand': 8935, 'std': 8188, 'oop': 6185, 'lebron': 4891, 'hiphopmeasur': 3880, 'schedul': 7538, 'starfir': 8167, 'icanhascherzburgerloh': 4065, 'panic': 6322, 'giertz': 3400, 'smileu': 7906, 'phra': 6518, 'ac': 39, 'puta': 6893, 'justicc': 4618, 'icagu': 4059, 'correctli': 1803, 'grin': 3573, 'officialmvdc': 6101, 'slather': 7864, 'bbq': 722, 'flavortown': 3037, 'hilton': 3869, 'authoritahi': 553, 'pan': 6318, 'crust': 1919, 'facil': 2834, 'fresh': 3177, 'guitar': 3615, 'thehardtim': 8598, 'dprk': 2430, 'hesit': 3835, 'monitor': 5657, 'techniqu': 8491, 'logang': 5059, 'suscrav': 8370, 'tremend': 8852, 'kook': 4759, 'legendaryfact': 4913, 'vogu': 9284, 'chilli': 1469, 'fleet': 3040, 'zarri': 9762, 'jedi': 4492, 'zeu': 9769, 'isa': 4388, 'sang': 7466, 'larri': 4837, 'cal': 1212, 'transphob': 8836, 'tran': 8829, 'gamestop': 3305, 'darb': 2024, 'wag': 9315, 'wmyb': 9573, 'gurrrl': 3625, 'dem': 2143, 'ic': 4058, 'voiceov': 9287, 'madlipz': 5175, 'iwillfindy': 4442, 'liamneeson': 4960, 'pizzahut': 6563, 'papajohn': 6329, 'pizzaexpress': 6562, 'dailymem': 1989, 'instamem': 4302, 'ngflip': 5922, 'intemet': 4320, 'fuchsia': 3211, 'cheep': 1431, 'prefegt': 6717, 'imeur': 4153, 'swig': 8393, 'alat': 194, 'ccc': 1337, 'rusti': 7406, 'trombon': 8887, 'coveral': 1837, 'taj': 8419, 'mahal': 5192, 'abhishek': 21, 'chack': 1378, 'nbc': 5844, 'sasuk': 7486, 'amp': 277, 'davidick': 2050, 'interrog': 4338, 'ghzj': 3397, 'jfmex': 4518, 'glitter': 3440, 'halfl': 3665, 'leaf': 4880, 'aragon': 412, 'visitor': 9267, 'wisher': 9558, 'distant': 2328, 'sauron': 7497, 'undon': 9051, 'catikay': 1319, 'beacon': 732, 'implement': 4189, 'asaway': 464, 'subsidi': 8300, 'pneumonia': 6605, 'ungrat': 9063, 'fog': 3072, 'lour': 5112, 'voodoo': 9295, 'doll': 2376, 'substanti': 8301, 'diarrhea': 2236, 'salad': 7445, 'sweatpant': 8383, 'sneaker': 7929, 'kniw': 4741, 'cope': 1784, 'editori': 2555, 'tantrum': 8439, 'ripof': 7276, 'howbow': 3989, 'dah': 1986, 'caucasian': 1329, 'inflat': 4252, 'diam': 2230, 'genderqu': 3360, 'francesca': 3147, 'visser': 9268, 'corad': 1788, 'fitspohol': 3020, 'thelikeguy': 8604, 'myex': 5785, 'andipref': 304, 'hotguy': 3975, 'fatheiss': 2897, 'apartheid': 375, 'burqua': 1176, 'scrabbl': 7557, 'corgi': 1792, 'iclear': 4073, 'examin': 2770, 'joinedirsa': 4552, 'commission': 1681, 'malnutrit': 5219, 'hukkad': 4013, 'bhukkad': 849, 'yale': 9690, 'nitish': 5963, 'lalu': 4817, 'appu': 403, 'officeof': 6097, 'sari': 7480, 'diamond': 2231, 'jewelleri': 4513, 'difficulti': 2258, 'ravindra': 7025, 'jadeja': 4457, 'hawkman': 3756, 'antenna': 349, 'intric': 4350, 'aasldfliksdfjalsdfki': 14, 'spark': 8047, 'biggu': 867, 'dicku': 2243, 'memo': 5454, 'nutella': 6041, 'angler': 319, 'typic': 8983, 'specimen': 8059, 'eel': 2561, 'memetenleri': 5446, 'barrack': 687, 'kk': 4729, 'olama': 6133, 'pedobama': 6419, 'iganhascheepburg': 4111, 'fwek': 3279, 'cliqu': 1586, 'presdent': 6730, 'voter': 9297, 'politicalmem': 6632, 'agianst': 147, 'bia': 851, 'hil': 3862, 'oema': 6088, 'baracka': 672, 'flocka': 3051, 'timmi': 8718, 'anguin': 323, 'penjisevodack': 6436, 'licenc': 4969, 'publish': 6852, 'terrifi': 8538, 'gangster': 3314, 'clarketwin': 1560, 'unknowingli': 9081, 'incorrectli': 4218, 'outliv': 6254, 'someday': 7987, 'bounti': 1020, 'harvest': 3721, 'slayer': 7869, 'midays': 5519, 'keayallvil': 4656, 'zee': 9765, 'weir': 9424, 'beaten': 743, 'rabid': 6963, 'function': 3235, 'cannon': 1251, 'ver': 9204, 'liv': 5029, 'reunion': 7215, 'wesley': 9440, 'heas': 3782, 'orchard': 6208, 'andr': 306, 'commerci': 1679, 'bravo': 1051, 'citru': 1549, 'creami': 1870, 'vanilla': 9183, 'pensiv': 6440, 'nemkutya': 5881, 'imgija': 4167, 'ham': 3669, 'vi': 9219, 'cnn': 1611, 'cet': 1372, 'ccnoe': 1338, 'peoppar': 6445, 'bacaus': 606, 'purchas': 6876, 'resurg': 7208, 'ntzk': 6031, 'pec': 6417, 'mamelenteri': 5229, 'barnard': 683, 'boer': 971, 'recon': 7081, 'ernst': 2699, 'roet': 7316, 'station': 8185, 'rabe': 6962, 'patio': 6381, 'riley': 7269, 'blindfold': 929, 'realist': 7047, 'vega': 9191, 'rahui': 6980, 'officialtrol': 6103, 'dravid': 2442, 'bhai': 844, 'thr': 8676, 'cong': 1726, 'mal': 5211, 'hypothesi': 4050, 'kv': 4790, 'ky': 4793, 'bebaba': 746, 'jai': 4461, 'marco': 5264, 'detroy': 2207, 'trummem': 8901, 'dimens': 2270, 'sotruefact': 8019, 'transplant': 8837, 'cig': 1535, 'tsunami': 8914, 'ueue': 8994, 'uncov': 9039, 'flight': 3045, 'ghz': 3396, 'quadcor': 6915, 'hellaninja': 3812, 'magnis': 5187, 'cvv': 1968, 'signatur': 7797, 'marisa': 5276, 'robertson': 7303, 'tdon': 8472, 'rival': 7282, 'larg': 4834, 'unregul': 9099, 'ificantfinish': 4100, 'jackp': 4454, 'boyanc': 1031, 'droid': 2462, 'yardstick': 9695, 'aformula': 128, 'stevenaitchison': 8213, 'mykaja': 5786, 'formulacoach': 3112, 'visionari': 9265, 'tumbuto': 8931, 'ilovelif': 4135, 'wakel': 9324, 'lifei': 4980, 'crave': 1860, 'sole': 7975, 'cuta': 1963, 'beret': 814, 'puffin': 6858, 'glide': 3439, 'ludicru': 5136, 'frogman': 3199, 'funnyi': 3251, 'mgom': 5504, 'gaaaaaayyyi': 3283, 'imgurl': 4174, 'pickachu': 6527, 'bugga': 1141, 'victoria': 9229, 'prusunod': 6831, 'lolsnap': 5073, 'charlwood': 1415, 'croak': 1901, 'glexi': 3438, 'fuckong': 3217, 'seashel': 7577, 'daddyissu': 1981, 'entub': 2671, 'metro': 5495, 'freeli': 3169, 'fric': 3180, 'boobi': 991, 'unshak': 9104, 'wouluarvey': 9624, 'valuabl': 9179, 'firm': 3006, 'collag': 1637, 'harveyllb': 3723, 'splitsvilla': 8085, 'gurl': 3624, 'vindaloo': 9244, 'nationofditkovich': 5830, 'struck': 8268, 'smooth': 7914, 'autograph': 557, 'salvador': 7452, 'dali': 1991, 'thatll': 8574, 'detector': 2204, 'chart': 1418, 'vapey': 9186, 'mcdouchefac': 5346, 'deduct': 2105, 'unibrow': 9068, 'csn': 1924, 'muut': 5779, 'themlbnem': 8611, 'astro': 500, 'okayyyyyi': 6126, 'nbamcamin': 5842, 'optimis': 6202, 'manin': 5245, 'bulla': 1151, 'orealdonald': 6212, 'isaac': 4389, 'oct': 6081, 'pewdiepi': 6493, 'cring': 1891, 'theorist': 8623, 'quantum': 6919, 'unzip': 9116, 'pg': 6495, 'wonti': 9596, 'morbid': 5678, 'weav': 9397, 'ayoola': 590, 'pavement': 6395, 'gim': 3409, 'sack': 7421, 'preseason': 6731, 'davi': 2048, 'sb': 7514, 'madd': 5169, 'maxx': 5336, 'graphix': 3539, 'onen': 6173, 'sba': 7515, 'crazyhy': 1867, 'legen': 4910, 'dari': 2026, 'ledg': 4894, 'scenesofhimym': 7536, 'kwecepesm': 4792, 'thick': 8651, 'rcede': 7029, 'ishio': 4401, 'ido': 4085, 'aker': 181, 'lakcept': 4813, 'spikepheonix': 8079, 'substitut': 8302, 'wendel': 9434, 'alfr': 202, 'montoya': 5667, 'amycalvin': 281, 'trolleri': 8883, 'dekh': 2125, 'amazingcomedian': 250, 'sotal': 8018, 'ommi': 6161, 'idontalway': 4090, 'playth': 6583, 'piano': 6522, 'idoi': 4086, 'irst': 4387, 'dcmarvel': 2062, 'helichrysum': 3809, 'macchio': 5162, 'poul': 6683, 'buribd': 1170, 'nod': 5972, 'mardi': 5266, 'gra': 3518, 'digest': 2261, 'maanagaram': 5158, 'divers': 2337, 'extraordinari': 2815, 'interlink': 4329, 'soda': 7957, 'laze': 4869, 'encourag': 2640, 'gratitud': 3544}\n",
            "(12468, 9800)\n"
          ]
        }
      ],
      "source": [
        "vectorizer = TfidfVectorizer()\n",
        "X = vectorizer.fit_transform(cleaned_text).toarray()\n",
        "print(vectorizer.vocabulary_)\n",
        "# X=X.toarray()\n",
        "print(X.shape)\n",
        "\n"
      ]
    },
    {
      "cell_type": "code",
      "source": [
        "y = x_resampled['label_values'].values\n",
        "y[500:690]"
      ],
      "metadata": {
        "colab": {
          "base_uri": "https://localhost:8080/"
        },
        "id": "VgEWZsGzkjVw",
        "outputId": "64c79ec7-e731-4323-e26c-f49db42bf006"
      },
      "execution_count": 23,
      "outputs": [
        {
          "output_type": "execute_result",
          "data": {
            "text/plain": [
              "array([ 0,  0,  1,  1,  1,  1, -1,  1,  0,  1,  1,  1,  0,  1,  1,  1,  1,\n",
              "        1,  0, -1,  1,  1,  1,  1,  0,  1,  1,  0,  0,  0,  1,  1,  0,  0,\n",
              "        1,  1,  1,  1,  1,  0,  1,  0,  1,  1,  0,  1,  0,  1,  1,  1,  1,\n",
              "        1,  1, -1, -1,  0,  0,  1,  0,  0,  0,  0,  0,  1,  1,  0,  1, -1,\n",
              "        1, -1,  1,  1,  1,  1,  1,  1,  1,  1,  1,  1,  1,  1,  0,  0,  1,\n",
              "        1,  1,  1,  1,  1,  0,  1,  1,  1, -1,  0,  0,  1,  1, -1,  1,  1,\n",
              "        0,  1,  1,  1, -1,  1,  0,  1,  0,  0,  1,  1,  1,  1,  0,  1,  1,\n",
              "        1, -1,  1,  1,  0,  1,  1,  1,  1,  1,  1,  0,  1,  0,  1,  1,  1,\n",
              "        1,  0,  1,  1,  1,  1,  0,  1,  1,  0, -1,  1,  0,  1,  1, -1,  1,\n",
              "        0,  1,  0,  0,  1,  1,  1,  0,  0,  1,  1,  1,  0,  1, -1,  1,  1,\n",
              "        0,  1,  1,  0,  1,  0,  1,  1,  1,  0,  1,  1,  0,  1,  0,  0, -1,\n",
              "        1,  0,  0])"
            ]
          },
          "metadata": {},
          "execution_count": 23
        }
      ]
    },
    {
      "cell_type": "code",
      "source": [
        "df['label_values'].describe()"
      ],
      "metadata": {
        "colab": {
          "base_uri": "https://localhost:8080/"
        },
        "id": "kLXGxOgwPRn8",
        "outputId": "82303971-f549-4ca9-b8aa-28cf54eb50f3"
      },
      "execution_count": 24,
      "outputs": [
        {
          "output_type": "execute_result",
          "data": {
            "text/plain": [
              "count    6987.000000\n",
              "mean        0.504508\n",
              "std         0.656249\n",
              "min        -1.000000\n",
              "25%         0.000000\n",
              "50%         1.000000\n",
              "75%         1.000000\n",
              "max         1.000000\n",
              "Name: label_values, dtype: float64"
            ]
          },
          "metadata": {},
          "execution_count": 24
        }
      ]
    },
    {
      "cell_type": "code",
      "source": [],
      "metadata": {
        "id": "qng3z9bC0el7"
      },
      "execution_count": 24,
      "outputs": []
    },
    {
      "cell_type": "code",
      "execution_count": 25,
      "metadata": {
        "id": "hd5OF8jjVnP8"
      },
      "outputs": [],
      "source": [
        "from sklearn.model_selection import train_test_split\n",
        "X_train, X_test, y_train,y_test=train_test_split(X,y,test_size=0.2,random_state=15)\n",
        "from sklearn.metrics import f1_score\n"
      ]
    },
    {
      "cell_type": "code",
      "source": [
        "from sklearn.preprocessing import StandardScaler\n",
        "scaler = StandardScaler()\n",
        "X_train=scaler.fit_transform(X_train)\n",
        "X_test=scaler.fit_transform(X_test)\n",
        "print(X_train)\n"
      ],
      "metadata": {
        "colab": {
          "base_uri": "https://localhost:8080/"
        },
        "id": "FNtTIZCAbI_6",
        "outputId": "10139c54-9f8b-47b9-acb3-fb30ac46cc98"
      },
      "execution_count": 26,
      "outputs": [
        {
          "output_type": "stream",
          "name": "stdout",
          "text": [
            "[[-0.0139165  -0.01001353  0.         ... -0.01001353 -0.02453418\n",
            "  -0.01001353]\n",
            " [-0.0139165  -0.01001353  0.         ... -0.01001353 -0.02453418\n",
            "  -0.01001353]\n",
            " [-0.0139165  -0.01001353  0.         ... -0.01001353 -0.02453418\n",
            "  -0.01001353]\n",
            " ...\n",
            " [-0.0139165  -0.01001353  0.         ... -0.01001353 -0.02453418\n",
            "  -0.01001353]\n",
            " [-0.0139165  -0.01001353  0.         ... -0.01001353 -0.02453418\n",
            "  -0.01001353]\n",
            " [-0.0139165  -0.01001353  0.         ... -0.01001353 -0.02453418\n",
            "  -0.01001353]]\n"
          ]
        }
      ]
    },
    {
      "cell_type": "code",
      "source": [
        "from sklearn.neighbors import KNeighborsClassifier\n",
        "classifier_1=KNeighborsClassifier(n_neighbors=5)\n",
        "classifier_1.fit(X_train,y_train)"
      ],
      "metadata": {
        "colab": {
          "base_uri": "https://localhost:8080/"
        },
        "id": "aSHWEn-cjoQA",
        "outputId": "034270d6-5b11-4cce-d315-b74463b7491a"
      },
      "execution_count": 27,
      "outputs": [
        {
          "output_type": "execute_result",
          "data": {
            "text/plain": [
              "KNeighborsClassifier()"
            ]
          },
          "metadata": {},
          "execution_count": 27
        }
      ]
    },
    {
      "cell_type": "code",
      "source": [
        "from sklearn.naive_bayes import GaussianNB\n",
        "classifier_2=GaussianNB()\n",
        "classifier_2.fit(X_train,y_train)"
      ],
      "metadata": {
        "colab": {
          "base_uri": "https://localhost:8080/"
        },
        "id": "qFF6T8ls_Liq",
        "outputId": "d0f6abde-d0e8-40fd-b852-051230d4f77d"
      },
      "execution_count": 28,
      "outputs": [
        {
          "output_type": "execute_result",
          "data": {
            "text/plain": [
              "GaussianNB()"
            ]
          },
          "metadata": {},
          "execution_count": 28
        }
      ]
    },
    {
      "cell_type": "code",
      "source": [
        "from sklearn.linear_model import LogisticRegression\n",
        "classifier_3=LogisticRegression()\n",
        "classifier_3.fit(X_train,y_train)"
      ],
      "metadata": {
        "colab": {
          "base_uri": "https://localhost:8080/"
        },
        "id": "EuXVG-odA03I",
        "outputId": "b2d36e5d-5505-41c6-f81d-cf6f442e6f4e"
      },
      "execution_count": 29,
      "outputs": [
        {
          "output_type": "stream",
          "name": "stderr",
          "text": [
            "/usr/local/lib/python3.8/dist-packages/sklearn/linear_model/_logistic.py:814: ConvergenceWarning: lbfgs failed to converge (status=1):\n",
            "STOP: TOTAL NO. of ITERATIONS REACHED LIMIT.\n",
            "\n",
            "Increase the number of iterations (max_iter) or scale the data as shown in:\n",
            "    https://scikit-learn.org/stable/modules/preprocessing.html\n",
            "Please also refer to the documentation for alternative solver options:\n",
            "    https://scikit-learn.org/stable/modules/linear_model.html#logistic-regression\n",
            "  n_iter_i = _check_optimize_result(\n"
          ]
        },
        {
          "output_type": "execute_result",
          "data": {
            "text/plain": [
              "LogisticRegression()"
            ]
          },
          "metadata": {},
          "execution_count": 29
        }
      ]
    },
    {
      "cell_type": "code",
      "execution_count": 30,
      "metadata": {
        "id": "BOngKKomme2_",
        "colab": {
          "base_uri": "https://localhost:8080/"
        },
        "outputId": "9e2007ba-3889-4618-b17a-cde10f7b51a1"
      },
      "outputs": [
        {
          "output_type": "execute_result",
          "data": {
            "text/plain": [
              "array([ 0, -1, -1, ..., -1, -1,  0])"
            ]
          },
          "metadata": {},
          "execution_count": 30
        }
      ],
      "source": [
        "y_pred_1=classifier_1.predict(X_test)\n",
        "y_pred_1"
      ]
    },
    {
      "cell_type": "code",
      "source": [
        "y_pred_2=classifier_2.predict(X_test)\n",
        "y_pred_2"
      ],
      "metadata": {
        "colab": {
          "base_uri": "https://localhost:8080/"
        },
        "id": "TOhKtItZ35h8",
        "outputId": "16d282c4-1c4b-4e14-f4e3-3095f1e14338"
      },
      "execution_count": 44,
      "outputs": [
        {
          "output_type": "execute_result",
          "data": {
            "text/plain": [
              "array([ 0, -1,  1, ...,  1,  1,  1])"
            ]
          },
          "metadata": {},
          "execution_count": 44
        }
      ]
    },
    {
      "cell_type": "code",
      "source": [
        "y_pred_3=classifier_3.predict(X_test)\n",
        "y_pred_3"
      ],
      "metadata": {
        "colab": {
          "base_uri": "https://localhost:8080/"
        },
        "id": "Lgwdlvyv37n2",
        "outputId": "665ffd9c-c428-43b8-9fd2-c18777707ae9"
      },
      "execution_count": 32,
      "outputs": [
        {
          "output_type": "execute_result",
          "data": {
            "text/plain": [
              "array([ 0, -1,  1, ..., -1,  0,  1])"
            ]
          },
          "metadata": {},
          "execution_count": 32
        }
      ]
    },
    {
      "cell_type": "code",
      "execution_count": 33,
      "metadata": {
        "id": "gFRtumJs-mEy",
        "colab": {
          "base_uri": "https://localhost:8080/"
        },
        "outputId": "f7e3074d-c15d-4101-cf8f-27c7b7c767d1"
      },
      "outputs": [
        {
          "output_type": "stream",
          "name": "stdout",
          "text": [
            "0.5721732157177225\n"
          ]
        }
      ],
      "source": [
        "print(accuracy_score(y_test,y_pred_1))\n"
      ]
    },
    {
      "cell_type": "code",
      "source": [
        "print(accuracy_score(y_test,y_pred_2))"
      ],
      "metadata": {
        "colab": {
          "base_uri": "https://localhost:8080/"
        },
        "id": "80wMjGLb4cok",
        "outputId": "bd9eab10-9073-42f6-ca69-057a6894a751"
      },
      "execution_count": 45,
      "outputs": [
        {
          "output_type": "stream",
          "name": "stdout",
          "text": [
            "0.6082598235765838\n"
          ]
        }
      ]
    },
    {
      "cell_type": "code",
      "source": [
        "print(accuracy_score(y_test,y_pred_3))\n"
      ],
      "metadata": {
        "colab": {
          "base_uri": "https://localhost:8080/"
        },
        "id": "E5UpEiz-4kvk",
        "outputId": "48b1f574-a997-4910-f82a-e453cbeeee61"
      },
      "execution_count": 35,
      "outputs": [
        {
          "output_type": "stream",
          "name": "stdout",
          "text": [
            "0.6912590216519647\n"
          ]
        }
      ]
    },
    {
      "cell_type": "code",
      "execution_count": 36,
      "metadata": {
        "id": "Zj7J0z55LV7i",
        "colab": {
          "base_uri": "https://localhost:8080/"
        },
        "outputId": "167f030e-d3f8-4d4c-e51e-c9d6aedb1452"
      },
      "outputs": [
        {
          "output_type": "stream",
          "name": "stdout",
          "text": [
            "0.5132697622280445\n"
          ]
        }
      ],
      "source": [
        "print(f1_score(y_test, y_pred_1, average='macro'))"
      ]
    },
    {
      "cell_type": "code",
      "source": [
        "print(f1_score(y_test, y_pred_2, average='macro'))"
      ],
      "metadata": {
        "colab": {
          "base_uri": "https://localhost:8080/"
        },
        "id": "3UVXlMIZ4pEA",
        "outputId": "1c9dcab0-67c0-47ab-8952-fc1ec059f0f6"
      },
      "execution_count": 46,
      "outputs": [
        {
          "output_type": "stream",
          "name": "stdout",
          "text": [
            "0.6131061316839356\n"
          ]
        }
      ]
    },
    {
      "cell_type": "code",
      "source": [
        "print(f1_score(y_test, y_pred_3, average='macro'))"
      ],
      "metadata": {
        "colab": {
          "base_uri": "https://localhost:8080/"
        },
        "id": "hZxrG3-54utJ",
        "outputId": "48384cac-a0bf-421c-9966-1c20d452cec8"
      },
      "execution_count": 38,
      "outputs": [
        {
          "output_type": "stream",
          "name": "stdout",
          "text": [
            "0.6901580276145891\n"
          ]
        }
      ]
    },
    {
      "cell_type": "code",
      "source": [
        "from sklearn.metrics import classification_report\n",
        "print(classification_report(y_test, y_pred_1))"
      ],
      "metadata": {
        "colab": {
          "base_uri": "https://localhost:8080/"
        },
        "id": "86uYw1ca1S-3",
        "outputId": "d51bab79-ee75-447c-f301-ad06f7093193"
      },
      "execution_count": 39,
      "outputs": [
        {
          "output_type": "stream",
          "name": "stdout",
          "text": [
            "              precision    recall  f1-score   support\n",
            "\n",
            "          -1       0.53      0.99      0.70       806\n",
            "           0       0.63      0.59      0.61       853\n",
            "           1       0.63      0.14      0.23       835\n",
            "\n",
            "    accuracy                           0.57      2494\n",
            "   macro avg       0.60      0.58      0.51      2494\n",
            "weighted avg       0.60      0.57      0.51      2494\n",
            "\n"
          ]
        }
      ]
    },
    {
      "cell_type": "code",
      "execution_count": 40,
      "metadata": {
        "id": "olaUma6dAZTT",
        "colab": {
          "base_uri": "https://localhost:8080/"
        },
        "outputId": "30296be6-9e0e-42cc-bd85-887300482a5f"
      },
      "outputs": [
        {
          "output_type": "stream",
          "name": "stdout",
          "text": [
            "[[800   5   1]\n",
            " [276 507  70]\n",
            " [420 295 120]]\n"
          ]
        }
      ],
      "source": [
        "from sklearn.metrics import confusion_matrix\n",
        "cm=confusion_matrix(y_test,y_pred_1)\n",
        "print(cm)"
      ]
    },
    {
      "cell_type": "code",
      "source": [
        "import pickle \n",
        "pickle.dump(classifier, open(\"text_model.pkl\", \"wb\"))"
      ],
      "metadata": {
        "id": "LlRCs4DMS6JE",
        "colab": {
          "base_uri": "https://localhost:8080/",
          "height": 190
        },
        "outputId": "045d3715-4473-469b-9fa2-83f5c5b4def3"
      },
      "execution_count": 41,
      "outputs": [
        {
          "output_type": "error",
          "ename": "NameError",
          "evalue": "ignored",
          "traceback": [
            "\u001b[0;31m---------------------------------------------------------------------------\u001b[0m",
            "\u001b[0;31mNameError\u001b[0m                                 Traceback (most recent call last)",
            "\u001b[0;32m<ipython-input-41-a6ef09c5bc98>\u001b[0m in \u001b[0;36m<module>\u001b[0;34m\u001b[0m\n\u001b[1;32m      1\u001b[0m \u001b[0;32mimport\u001b[0m \u001b[0mpickle\u001b[0m\u001b[0;34m\u001b[0m\u001b[0;34m\u001b[0m\u001b[0m\n\u001b[0;32m----> 2\u001b[0;31m \u001b[0mpickle\u001b[0m\u001b[0;34m.\u001b[0m\u001b[0mdump\u001b[0m\u001b[0;34m(\u001b[0m\u001b[0mclassifier\u001b[0m\u001b[0;34m,\u001b[0m \u001b[0mopen\u001b[0m\u001b[0;34m(\u001b[0m\u001b[0;34m\"text_model.pkl\"\u001b[0m\u001b[0;34m,\u001b[0m \u001b[0;34m\"wb\"\u001b[0m\u001b[0;34m)\u001b[0m\u001b[0;34m)\u001b[0m\u001b[0;34m\u001b[0m\u001b[0;34m\u001b[0m\u001b[0m\n\u001b[0m",
            "\u001b[0;31mNameError\u001b[0m: name 'classifier' is not defined"
          ]
        }
      ]
    },
    {
      "cell_type": "code",
      "source": [],
      "metadata": {
        "id": "o51dEf66bufn"
      },
      "execution_count": null,
      "outputs": []
    }
  ],
  "metadata": {
    "colab": {
      "provenance": []
    },
    "kernelspec": {
      "display_name": "Python 3",
      "name": "python3"
    },
    "language_info": {
      "name": "python"
    }
  },
  "nbformat": 4,
  "nbformat_minor": 0
}